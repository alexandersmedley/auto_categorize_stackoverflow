{
 "cells": [
  {
   "cell_type": "code",
   "execution_count": 1,
   "metadata": {},
   "outputs": [],
   "source": [
    "import numpy as np\n",
    "import pandas as pd\n",
    "\n",
    "import seaborn as sns\n",
    "import matplotlib.pyplot as plt\n",
    "\n",
    "import eli5\n",
    "\n",
    "from sklearn.preprocessing import MultiLabelBinarizer\n",
    "\n",
    "from sklearn.model_selection import train_test_split\n",
    "from sklearn.model_selection import GridSearchCV\n",
    "\n",
    "from sklearn.pipeline import Pipeline\n",
    "from sklearn.base import TransformerMixin\n",
    "\n",
    "from sklearn.feature_extraction.text import TfidfVectorizer\n",
    "\n",
    "from skmultilearn.problem_transform import BinaryRelevance\n",
    "from sklearn.ensemble import RandomForestClassifier\n",
    "import xgboost as xgb\n",
    "\n",
    "import sklearn.metrics as metrics\n",
    "\n",
    "from gensim import utils\n",
    "import gensim.parsing.preprocessing as gsp\n",
    "\n",
    "import joblib"
   ]
  },
  {
   "cell_type": "markdown",
   "metadata": {},
   "source": [
    "# Functions"
   ]
  },
  {
   "cell_type": "markdown",
   "metadata": {},
   "source": [
    "# Load data"
   ]
  },
  {
   "cell_type": "code",
   "execution_count": 2,
   "metadata": {},
   "outputs": [],
   "source": [
    "# Read csv and create list of tags \n",
    "df = pd.read_csv('in/StackOverflow_50000_posts.csv')\n",
    "df = df[['Id', 'Title', 'Body', 'Tags']]\n",
    "\n",
    "df['Post'] = df['Title'] + ' ' + df['Body']\n",
    "df.drop(columns = ['Title', 'Body'], inplace = True)\n",
    "\n",
    "df['Tags'] = df['Tags'].str.findall(r'<(.*?)>')\n",
    "df['nTags'] = df['Tags'].apply(len)"
   ]
  },
  {
   "cell_type": "code",
   "execution_count": 3,
   "metadata": {},
   "outputs": [],
   "source": [
    "df = df.loc[0:1999, :]\n",
    "n_posts = df['Id'].count()"
   ]
  },
  {
   "cell_type": "code",
   "execution_count": 4,
   "metadata": {},
   "outputs": [],
   "source": [
    "# Create tags matrix of size n_obs * n_tags\n",
    "mlb = MultiLabelBinarizer(sparse_output = False)\n",
    "df_tags = pd.DataFrame(mlb.fit_transform(df['Tags']), columns = mlb.classes_, index = df.index)"
   ]
  },
  {
   "cell_type": "markdown",
   "metadata": {},
   "source": [
    "# Analyze tags"
   ]
  },
  {
   "cell_type": "code",
   "execution_count": 5,
   "metadata": {},
   "outputs": [],
   "source": [
    "# Sort df_tags per number of occurences \n",
    "df_tags_unique = pd.DataFrame(df_tags.sum(axis = 0).sort_values(ascending = False), columns = ['n_occurence'])\n",
    "df_tags = df_tags[df_tags_unique.index]"
   ]
  },
  {
   "cell_type": "code",
   "execution_count": 6,
   "metadata": {},
   "outputs": [
    {
     "data": {
      "text/plain": [
       "6075"
      ]
     },
     "execution_count": 6,
     "metadata": {},
     "output_type": "execute_result"
    }
   ],
   "source": [
    "# Calculate cumulative percentage of tags\n",
    "n_total_tags = df_tags.sum().sum()\n",
    "df_tags_unique['pct_tags'] = df_tags_unique.cumsum(axis = 0) / n_total_tags * 100\n",
    "n_total_tags"
   ]
  },
  {
   "cell_type": "code",
   "execution_count": 7,
   "metadata": {},
   "outputs": [
    {
     "data": {
      "text/plain": [
       "2104"
      ]
     },
     "execution_count": 7,
     "metadata": {},
     "output_type": "execute_result"
    }
   ],
   "source": [
    "# Calculate what % of posts are covered by at least one tag \n",
    "df_tmp = pd.DataFrame(index = df_tags.index, columns = ['Tagged'])\n",
    "df_tmp['Tagged'] = 0\n",
    "\n",
    "for col in df_tags:\n",
    "    df_tmp['Tagged'] = df_tmp['Tagged'] | df_tags[col]\n",
    "    df_tags_unique.loc[col, 'n_posts'] = df_tmp['Tagged'].sum()\n",
    "    \n",
    "df_tags_unique['pct_posts'] = df_tags_unique['n_posts'] / n_posts * 100\n",
    "\n",
    "# Reset index to create tag col\n",
    "df_tags_unique = df_tags_unique.reset_index().rename(columns = {'index': 'tag'})\n",
    "\n",
    "n_tags_unique = df_tags_unique['tag'].count()\n",
    "n_tags_unique"
   ]
  },
  {
   "cell_type": "code",
   "execution_count": 8,
   "metadata": {},
   "outputs": [
    {
     "data": {
      "text/html": [
       "<div>\n",
       "<style scoped>\n",
       "    .dataframe tbody tr th:only-of-type {\n",
       "        vertical-align: middle;\n",
       "    }\n",
       "\n",
       "    .dataframe tbody tr th {\n",
       "        vertical-align: top;\n",
       "    }\n",
       "\n",
       "    .dataframe thead th {\n",
       "        text-align: right;\n",
       "    }\n",
       "</style>\n",
       "<table border=\"1\" class=\"dataframe\">\n",
       "  <thead>\n",
       "    <tr style=\"text-align: right;\">\n",
       "      <th></th>\n",
       "      <th>tag</th>\n",
       "      <th>n_occurence</th>\n",
       "      <th>pct_tags</th>\n",
       "      <th>n_posts</th>\n",
       "      <th>pct_posts</th>\n",
       "    </tr>\n",
       "  </thead>\n",
       "  <tbody>\n",
       "    <tr>\n",
       "      <td>0</td>\n",
       "      <td>python</td>\n",
       "      <td>340</td>\n",
       "      <td>5.596708</td>\n",
       "      <td>340.0</td>\n",
       "      <td>17.00</td>\n",
       "    </tr>\n",
       "    <tr>\n",
       "      <td>1</td>\n",
       "      <td>javascript</td>\n",
       "      <td>186</td>\n",
       "      <td>8.658436</td>\n",
       "      <td>525.0</td>\n",
       "      <td>26.25</td>\n",
       "    </tr>\n",
       "    <tr>\n",
       "      <td>2</td>\n",
       "      <td>java</td>\n",
       "      <td>161</td>\n",
       "      <td>11.308642</td>\n",
       "      <td>683.0</td>\n",
       "      <td>34.15</td>\n",
       "    </tr>\n",
       "    <tr>\n",
       "      <td>3</td>\n",
       "      <td>r</td>\n",
       "      <td>106</td>\n",
       "      <td>13.053498</td>\n",
       "      <td>788.0</td>\n",
       "      <td>39.40</td>\n",
       "    </tr>\n",
       "    <tr>\n",
       "      <td>4</td>\n",
       "      <td>c#</td>\n",
       "      <td>95</td>\n",
       "      <td>14.617284</td>\n",
       "      <td>882.0</td>\n",
       "      <td>44.10</td>\n",
       "    </tr>\n",
       "    <tr>\n",
       "      <td>...</td>\n",
       "      <td>...</td>\n",
       "      <td>...</td>\n",
       "      <td>...</td>\n",
       "      <td>...</td>\n",
       "      <td>...</td>\n",
       "    </tr>\n",
       "    <tr>\n",
       "      <td>2099</td>\n",
       "      <td>ngxs</td>\n",
       "      <td>1</td>\n",
       "      <td>99.934156</td>\n",
       "      <td>2000.0</td>\n",
       "      <td>100.00</td>\n",
       "    </tr>\n",
       "    <tr>\n",
       "      <td>2100</td>\n",
       "      <td>ngzone</td>\n",
       "      <td>1</td>\n",
       "      <td>99.950617</td>\n",
       "      <td>2000.0</td>\n",
       "      <td>100.00</td>\n",
       "    </tr>\n",
       "    <tr>\n",
       "      <td>2101</td>\n",
       "      <td>nlog</td>\n",
       "      <td>1</td>\n",
       "      <td>99.967078</td>\n",
       "      <td>2000.0</td>\n",
       "      <td>100.00</td>\n",
       "    </tr>\n",
       "    <tr>\n",
       "      <td>2102</td>\n",
       "      <td>node-schedule</td>\n",
       "      <td>1</td>\n",
       "      <td>99.983539</td>\n",
       "      <td>2000.0</td>\n",
       "      <td>100.00</td>\n",
       "    </tr>\n",
       "    <tr>\n",
       "      <td>2103</td>\n",
       "      <td>kivy</td>\n",
       "      <td>1</td>\n",
       "      <td>100.000000</td>\n",
       "      <td>2000.0</td>\n",
       "      <td>100.00</td>\n",
       "    </tr>\n",
       "  </tbody>\n",
       "</table>\n",
       "<p>2104 rows × 5 columns</p>\n",
       "</div>"
      ],
      "text/plain": [
       "                tag  n_occurence    pct_tags  n_posts  pct_posts\n",
       "0            python          340    5.596708    340.0      17.00\n",
       "1        javascript          186    8.658436    525.0      26.25\n",
       "2              java          161   11.308642    683.0      34.15\n",
       "3                 r          106   13.053498    788.0      39.40\n",
       "4                c#           95   14.617284    882.0      44.10\n",
       "...             ...          ...         ...      ...        ...\n",
       "2099           ngxs            1   99.934156   2000.0     100.00\n",
       "2100         ngzone            1   99.950617   2000.0     100.00\n",
       "2101           nlog            1   99.967078   2000.0     100.00\n",
       "2102  node-schedule            1   99.983539   2000.0     100.00\n",
       "2103           kivy            1  100.000000   2000.0     100.00\n",
       "\n",
       "[2104 rows x 5 columns]"
      ]
     },
     "execution_count": 8,
     "metadata": {},
     "output_type": "execute_result"
    }
   ],
   "source": [
    "df_tags_unique"
   ]
  },
  {
   "cell_type": "code",
   "execution_count": 9,
   "metadata": {},
   "outputs": [
    {
     "data": {
      "text/plain": [
       "<matplotlib.axes._subplots.AxesSubplot at 0x1df19fdfe88>"
      ]
     },
     "execution_count": 9,
     "metadata": {},
     "output_type": "execute_result"
    },
    {
     "data": {
      "image/png": "[encoded data removed]",
      "text/plain": [
       "<Figure size 432x288 with 1 Axes>"
      ]
     },
     "metadata": {
      "needs_background": "light"
     },
     "output_type": "display_data"
    }
   ],
   "source": [
    "sns.lineplot(x = df_tags_unique.index + 1, y = df_tags_unique['pct_tags'])"
   ]
  },
  {
   "cell_type": "code",
   "execution_count": 10,
   "metadata": {},
   "outputs": [
    {
     "data": {
      "text/plain": [
       "<matplotlib.axes._subplots.AxesSubplot at 0x1df1a10e9c8>"
      ]
     },
     "execution_count": 10,
     "metadata": {},
     "output_type": "execute_result"
    },
    {
     "data": {
      "image/png": "[encoded data removed]",
      "text/plain": [
       "<Figure size 432x288 with 1 Axes>"
      ]
     },
     "metadata": {
      "needs_background": "light"
     },
     "output_type": "display_data"
    }
   ],
   "source": [
    "sns.lineplot(x = df_tags_unique.index + 1, y = df_tags_unique['pct_posts'])"
   ]
  },
  {
   "cell_type": "code",
   "execution_count": 11,
   "metadata": {},
   "outputs": [
    {
     "data": {
      "text/plain": [
       "tag             arrays\n",
       "n_occurence         35\n",
       "pct_tags       29.2181\n",
       "n_posts           1352\n",
       "pct_posts         67.6\n",
       "Name: 19, dtype: object"
      ]
     },
     "execution_count": 11,
     "metadata": {},
     "output_type": "execute_result"
    }
   ],
   "source": [
    "df_tags_unique.loc[19, :]"
   ]
  },
  {
   "cell_type": "markdown",
   "metadata": {},
   "source": [
    "# Modelling"
   ]
  },
  {
   "cell_type": "code",
   "execution_count": 12,
   "metadata": {},
   "outputs": [],
   "source": [
    "list_top = df_tags_unique.loc[0:9, 'tag']\n",
    "\n",
    "df_tags = df_tags[list_top]\n",
    "\n",
    "keep_index = df_tags[df_tags.sum(axis = 1) != 0].index\n",
    "\n",
    "X = df.loc[keep_index, 'Post']\n",
    "y = df_tags.loc[keep_index, :]"
   ]
  },
  {
   "cell_type": "code",
   "execution_count": 13,
   "metadata": {},
   "outputs": [],
   "source": [
    "# Define and apply gensim filters\n",
    "filters = [\n",
    "           gsp.strip_tags, \n",
    "           gsp.strip_punctuation,\n",
    "           gsp.strip_multiple_whitespaces,\n",
    "           gsp.strip_numeric,\n",
    "           gsp.remove_stopwords, \n",
    "           gsp.strip_short, \n",
    "#            gsp.stem_text\n",
    "          ]\n",
    "\n",
    "def clean_text(s):\n",
    "    s = s.lower()\n",
    "    s = utils.to_unicode(s)\n",
    "    for f in filters:\n",
    "        s = f(s)\n",
    "    \n",
    "    s = s.split()\n",
    "    \n",
    "    return s\n",
    "\n",
    "# Custom transformer using gensim filters\n",
    "class TextCleaner(TransformerMixin):\n",
    "    def transform(self, X, **transform_params):\n",
    "        # Cleaning Text\n",
    "        return [clean_text(text) for text in X]\n",
    "\n",
    "    def fit(self, X, y=None, **fit_params):\n",
    "        return self\n",
    "\n",
    "    def get_params(self, deep=True):\n",
    "        return {}"
   ]
  },
  {
   "cell_type": "code",
   "execution_count": 14,
   "metadata": {},
   "outputs": [],
   "source": [
    "from gensim.corpora import Dictionary"
   ]
  },
  {
   "cell_type": "code",
   "execution_count": 15,
   "metadata": {},
   "outputs": [],
   "source": [
    "data_lemmatized = TextCleaner().transform(X)\n",
    "\n",
    "# import gensim.corpora as corpora\n",
    "\n",
    "# Create Dictionary\n",
    "id2word = Dictionary(data_lemmatized)\n",
    "\n",
    "# Create Corpus\n",
    "texts = data_lemmatized\n",
    "\n",
    "# Term Document Frequency\n",
    "corpus = [id2word.doc2bow(text) for text in texts]"
   ]
  },
  {
   "cell_type": "code",
   "execution_count": 16,
   "metadata": {},
   "outputs": [
    {
     "data": {
      "text/plain": [
       "['dplyr',\n",
       " 'group',\n",
       " 'respect',\n",
       " 'drop',\n",
       " 'false',\n",
       " 'simple',\n",
       " 'data',\n",
       " 'count',\n",
       " 'problem',\n",
       " 'grouping']"
      ]
     },
     "execution_count": 16,
     "metadata": {},
     "output_type": "execute_result"
    }
   ],
   "source": [
    "# Text is in the form of a list of words \n",
    "data_lemmatized[55][0:10]"
   ]
  },
  {
   "cell_type": "code",
   "execution_count": 17,
   "metadata": {},
   "outputs": [
    {
     "name": "stdout",
     "output_type": "stream",
     "text": [
      "[[(0, 1), (1, 1), (2, 1), (3, 1), (4, 1), (5, 3), (6, 4), (7, 7), (8, 2), (9, 1), (10, 2), (11, 1), (12, 1), (13, 2), (14, 4), (15, 4), (16, 4), (17, 1), (18, 2), (19, 10), (20, 1), (21, 1), (22, 1), (23, 1), (24, 1), (25, 4), (26, 1), (27, 1), (28, 2), (29, 8), (30, 1), (31, 1), (32, 2), (33, 1), (34, 1), (35, 1), (36, 2), (37, 4), (38, 10), (39, 1), (40, 2), (41, 1), (42, 3), (43, 2), (44, 1), (45, 1), (46, 1), (47, 1), (48, 1), (49, 1), (50, 15), (51, 3), (52, 1), (53, 4), (54, 1), (55, 5), (56, 1), (57, 1), (58, 1), (59, 1), (60, 1), (61, 2), (62, 1), (63, 2), (64, 1), (65, 1), (66, 2), (67, 2), (68, 1), (69, 2), (70, 8), (71, 1), (72, 9), (73, 1), (74, 3), (75, 2), (76, 1), (77, 1), (78, 1), (79, 15), (80, 1), (81, 2), (82, 13), (83, 8), (84, 2), (85, 1), (86, 1), (87, 1), (88, 1), (89, 7), (90, 1), (91, 1), (92, 1), (93, 2), (94, 1), (95, 2), (96, 1), (97, 9), (98, 1), (99, 4), (100, 2), (101, 3), (102, 1), (103, 2), (104, 3), (105, 2), (106, 10), (107, 9)]]\n"
     ]
    }
   ],
   "source": [
    "# Corpus representation counts the frequency of each word in each text \n",
    "print(corpus[:1])"
   ]
  },
  {
   "cell_type": "code",
   "execution_count": 18,
   "metadata": {},
   "outputs": [],
   "source": [
    "from gensim.models import LdaMulticore"
   ]
  },
  {
   "cell_type": "code",
   "execution_count": 19,
   "metadata": {},
   "outputs": [],
   "source": [
    "# Build LDA model\n",
    "lda_model = LdaMulticore(corpus = corpus, id2word=id2word, num_topics = 10, random_state = 100, \n",
    "                         chunksize = 100, passes = 10, per_word_topics = True)"
   ]
  },
  {
   "cell_type": "code",
   "execution_count": 20,
   "metadata": {},
   "outputs": [
    {
     "data": {
      "text/plain": [
       "[(0,\n",
       "  '0.021*\"com\" + 0.014*\"public\" + 0.012*\"new\" + 0.012*\"android\" + 0.011*\"string\" + 0.010*\"null\" + 0.008*\"java\" + 0.008*\"value\" + 0.008*\"void\" + 0.008*\"google\"'),\n",
       " (1,\n",
       "  '0.020*\"org\" + 0.019*\"java\" + 0.009*\"jar\" + 0.009*\"web\" + 0.009*\"data\" + 0.009*\"springframework\" + 0.008*\"release\" + 0.007*\"numeric\" + 0.006*\"apache\" + 0.006*\"security\"'),\n",
       " (2,\n",
       "  '0.023*\"class\" + 0.020*\"div\" + 0.009*\"data\" + 0.009*\"table\" + 0.008*\"text\" + 0.008*\"string\" + 0.007*\"type\" + 0.007*\"function\" + 0.006*\"button\" + 0.006*\"input\"'),\n",
       " (3,\n",
       "  '0.021*\"self\" + 0.013*\"data\" + 0.009*\"value\" + 0.006*\"return\" + 0.006*\"import\" + 0.006*\"file\" + 0.006*\"def\" + 0.006*\"type\" + 0.006*\"key\" + 0.005*\"class\"'),\n",
       " (4,\n",
       "  '0.015*\"model\" + 0.008*\"view\" + 0.007*\"function\" + 0.007*\"class\" + 0.007*\"new\" + 0.006*\"true\" + 0.006*\"div\" + 0.006*\"return\" + 0.005*\"code\" + 0.005*\"image\"'),\n",
       " (5,\n",
       "  '0.019*\"data\" + 0.018*\"value\" + 0.010*\"int\" + 0.010*\"date\" + 0.009*\"nan\" + 0.009*\"file\" + 0.009*\"column\" + 0.008*\"type\" + 0.007*\"import\" + 0.006*\"time\"'),\n",
       " (6,\n",
       "  '0.023*\"self\" + 0.010*\"android\" + 0.009*\"cmake\" + 0.008*\"def\" + 0.008*\"user\" + 0.008*\"layout\" + 0.007*\"pygame\" + 0.006*\"linux\" + 0.006*\"poky\" + 0.006*\"file\"'),\n",
       " (7,\n",
       "  '0.016*\"python\" + 0.011*\"array\" + 0.009*\"string\" + 0.008*\"table\" + 0.008*\"std\" + 0.008*\"class\" + 0.008*\"amp\" + 0.006*\"lib\" + 0.006*\"tensorflow\" + 0.006*\"site\"'),\n",
       " (8,\n",
       "  '0.010*\"import\" + 0.009*\"file\" + 0.008*\"python\" + 0.008*\"function\" + 0.007*\"time\" + 0.007*\"code\" + 0.007*\"plot\" + 0.007*\"plt\" + 0.006*\"face\" + 0.006*\"list\"'),\n",
       " (9,\n",
       "  '0.011*\"test\" + 0.010*\"public\" + 0.010*\"col\" + 0.009*\"class\" + 0.009*\"new\" + 0.008*\"text\" + 0.007*\"data\" + 0.007*\"error\" + 0.006*\"http\" + 0.006*\"string\"')]"
      ]
     },
     "execution_count": 20,
     "metadata": {},
     "output_type": "execute_result"
    }
   ],
   "source": [
    "lda_model.print_topics()"
   ]
  },
  {
   "cell_type": "code",
   "execution_count": 21,
   "metadata": {},
   "outputs": [
    {
     "name": "stdout",
     "output_type": "stream",
     "text": [
      "Coherence Score:  0.3669667205771696\n"
     ]
    }
   ],
   "source": [
    "from gensim.models import CoherenceModel\n",
    "\n",
    "# Compute Coherence Score\n",
    "coherence_model_lda = CoherenceModel(model = lda_model, texts = data_lemmatized, dictionary = id2word, coherence = 'c_v')\n",
    "\n",
    "coherence_lda = coherence_model_lda.get_coherence()\n",
    "\n",
    "print('Coherence Score: ', coherence_lda)"
   ]
  },
  {
   "cell_type": "code",
   "execution_count": null,
   "metadata": {},
   "outputs": [],
   "source": [
    "# Evaluate coherence for different values of num_topics\n",
    "coherence = []\n",
    "list_num_topics = range(2, 15)\n",
    "\n",
    "for num_topics in list_num_topics:\n",
    "    lda_model = LdaMulticore(corpus = corpus, id2word=id2word, num_topics = num_topics, random_state = 100, \n",
    "                             chunksize = 100, passes = 10, per_word_topics = True)\n",
    "    \n",
    "    coherence_model_lda = CoherenceModel(model = lda_model, texts = data_lemmatized, dictionary = id2word, coherence = 'c_v')\n",
    "\n",
    "    coherence_lda = coherence_model_lda.get_coherence()\n",
    "    \n",
    "    coherence.append(coherence_lda)\n",
    "    \n",
    "plt.plot(list_num_topics, coherence, marker = 'o')\n",
    "# plt.savefig('silhouettes.png', bbox_inches = 'tight')"
   ]
  },
  {
   "cell_type": "markdown",
   "metadata": {},
   "source": [
    "# Test model in real life conditions"
   ]
  },
  {
   "cell_type": "code",
   "execution_count": 22,
   "metadata": {},
   "outputs": [],
   "source": [
    "X_test = ['How can I create a super machine learning model using Python and sklearn ?']"
   ]
  },
  {
   "cell_type": "code",
   "execution_count": 23,
   "metadata": {},
   "outputs": [],
   "source": [
    "X_test_prep = TextCleaner().transform(X_test)"
   ]
  },
  {
   "cell_type": "code",
   "execution_count": 24,
   "metadata": {},
   "outputs": [],
   "source": [
    "corpus_test = id2word.doc2bow(X_test_prep[0])"
   ]
  },
  {
   "cell_type": "code",
   "execution_count": 25,
   "metadata": {},
   "outputs": [
    {
     "data": {
      "text/plain": [
       "[(0, 0.012513924),\n",
       " (1, 0.012512092),\n",
       " (2, 0.012517748),\n",
       " (3, 0.3197767),\n",
       " (4, 0.012515054),\n",
       " (5, 0.0125160515),\n",
       " (6, 0.012515329),\n",
       " (7, 0.012513552),\n",
       " (8, 0.58010393),\n",
       " (9, 0.012515597)]"
      ]
     },
     "execution_count": 25,
     "metadata": {},
     "output_type": "execute_result"
    }
   ],
   "source": [
    "lda_model.get_document_topics(corpus_test)"
   ]
  },
  {
   "cell_type": "code",
   "execution_count": 39,
   "metadata": {},
   "outputs": [
    {
     "data": {
      "text/plain": [
       "[('import', 0.0100204805),\n",
       " ('file', 0.009021684),\n",
       " ('python', 0.008376482),\n",
       " ('function', 0.008293837),\n",
       " ('time', 0.007453044),\n",
       " ('code', 0.0068472805),\n",
       " ('plot', 0.006626653),\n",
       " ('plt', 0.0065597077),\n",
       " ('face', 0.0064889044),\n",
       " ('list', 0.0058500683)]"
      ]
     },
     "execution_count": 39,
     "metadata": {},
     "output_type": "execute_result"
    }
   ],
   "source": [
    "lda_model.show_topic(8)"
   ]
  },
  {
   "cell_type": "code",
   "execution_count": 40,
   "metadata": {},
   "outputs": [
    {
     "data": {
      "text/plain": [
       "[('self', 0.02125731),\n",
       " ('data', 0.013264462),\n",
       " ('value', 0.008903139),\n",
       " ('return', 0.006462099),\n",
       " ('import', 0.0062580584),\n",
       " ('file', 0.0062089334),\n",
       " ('def', 0.006023722),\n",
       " ('type', 0.005928627),\n",
       " ('key', 0.0057964916),\n",
       " ('class', 0.005263761)]"
      ]
     },
     "execution_count": 40,
     "metadata": {},
     "output_type": "execute_result"
    }
   ],
   "source": [
    "lda_model.show_topic(3)"
   ]
  },
  {
   "cell_type": "markdown",
   "metadata": {},
   "source": [
    "# Visualize LDA results using pyLDAvis"
   ]
  },
  {
   "cell_type": "markdown",
   "metadata": {},
   "source": [
    "Warning : pyLDAvis bug in Jupyter Lab causes it to hide toolbar buttons (cf. https://github.com/bmabey/pyLDAvis/issues/162). "
   ]
  },
  {
   "cell_type": "code",
   "execution_count": 34,
   "metadata": {},
   "outputs": [],
   "source": [
    "import pyLDAvis\n",
    "import pyLDAvis.gensim"
   ]
  },
  {
   "cell_type": "code",
   "execution_count": null,
   "metadata": {},
   "outputs": [],
   "source": [
    "# Visualize the topics\n",
    "pyLDAvis.enable_notebook()\n",
    "\n",
    "LDAvis_prepared = pyLDAvis.gensim.prepare(lda_model, corpus, id2word)\n",
    " \n",
    "LDAvis_prepared"
   ]
  },
  {
   "cell_type": "code",
   "execution_count": null,
   "metadata": {},
   "outputs": [],
   "source": []
  }
 ],
 "metadata": {
  "kernelspec": {
   "display_name": "Python 3",
   "language": "python",
   "name": "python3"
  },
  "language_info": {
   "codemirror_mode": {
    "name": "ipython",
    "version": 3
   },
   "file_extension": ".py",
   "mimetype": "text/x-python",
   "name": "python",
   "nbconvert_exporter": "python",
   "pygments_lexer": "ipython3",
   "version": "3.7.4"
  }
 },
 "nbformat": 4,
 "nbformat_minor": 4
}
