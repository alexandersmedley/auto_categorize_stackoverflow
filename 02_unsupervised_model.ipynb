{
 "cells": [
  {
   "cell_type": "code",
   "execution_count": 2,
   "metadata": {},
   "outputs": [],
   "source": [
    "import numpy as np\n",
    "import pandas as pd\n",
    "\n",
    "import seaborn as sns\n",
    "import matplotlib.pyplot as plt\n",
    "\n",
    "import eli5\n",
    "\n",
    "from sklearn.preprocessing import MultiLabelBinarizer\n",
    "\n",
    "from sklearn.model_selection import train_test_split\n",
    "from sklearn.model_selection import GridSearchCV\n",
    "\n",
    "from sklearn.pipeline import Pipeline\n",
    "from sklearn.base import TransformerMixin\n",
    "\n",
    "from sklearn.feature_extraction.text import TfidfVectorizer\n",
    "\n",
    "from skmultilearn.problem_transform import BinaryRelevance\n",
    "from sklearn.ensemble import RandomForestClassifier\n",
    "import xgboost as xgb\n",
    "\n",
    "import sklearn.metrics as metrics\n",
    "\n",
    "from gensim import utils\n",
    "import gensim.parsing.preprocessing as gsp\n",
    "\n",
    "import joblib\n",
    "\n",
    "from gensim.corpora import Dictionary\n",
    "from gensim.models import LdaMulticore\n",
    "from gensim.models import CoherenceModel\n",
    "\n",
    "import re"
   ]
  },
  {
   "cell_type": "markdown",
   "metadata": {},
   "source": [
    "# Functions"
   ]
  },
  {
   "cell_type": "markdown",
   "metadata": {},
   "source": [
    "# Load data"
   ]
  },
  {
   "cell_type": "code",
   "execution_count": 3,
   "metadata": {},
   "outputs": [],
   "source": [
    "# Read csv and create list of tags \n",
    "df = pd.read_csv('in/StackOverflow_50000_posts.csv')\n",
    "df = df[['Id', 'Title', 'Body', 'Tags']]\n",
    "\n",
    "df['Post'] = df['Title'] + ' ' + df['Body']\n",
    "df.drop(columns = ['Title', 'Body'], inplace = True)\n",
    "\n",
    "df['Tags'] = df['Tags'].str.findall(r'<(.*?)>')\n",
    "df['nTags'] = df['Tags'].apply(len)"
   ]
  },
  {
   "cell_type": "code",
   "execution_count": 4,
   "metadata": {},
   "outputs": [],
   "source": [
    "df = df.loc[0:7999, :]\n",
    "n_posts = df['Id'].count()"
   ]
  },
  {
   "cell_type": "code",
   "execution_count": 5,
   "metadata": {},
   "outputs": [],
   "source": [
    "# Create tags matrix of size n_obs * n_tags\n",
    "mlb = MultiLabelBinarizer(sparse_output = False)\n",
    "df_tags = pd.DataFrame(mlb.fit_transform(df['Tags']), columns = mlb.classes_, index = df.index)"
   ]
  },
  {
   "cell_type": "markdown",
   "metadata": {},
   "source": [
    "# Analyze tags"
   ]
  },
  {
   "cell_type": "code",
   "execution_count": 6,
   "metadata": {},
   "outputs": [],
   "source": [
    "# Sort df_tags per number of occurences \n",
    "df_tags_unique = pd.DataFrame(df_tags.sum(axis = 0).sort_values(ascending = False), columns = ['n_occurence'])\n",
    "df_tags = df_tags[df_tags_unique.index]"
   ]
  },
  {
   "cell_type": "code",
   "execution_count": 7,
   "metadata": {},
   "outputs": [
    {
     "data": {
      "text/plain": [
       "24326"
      ]
     },
     "execution_count": 7,
     "metadata": {},
     "output_type": "execute_result"
    }
   ],
   "source": [
    "# Calculate cumulative percentage of tags\n",
    "n_total_tags = df_tags.sum().sum()\n",
    "df_tags_unique['pct_tags'] = df_tags_unique.cumsum(axis = 0) / n_total_tags * 100\n",
    "n_total_tags"
   ]
  },
  {
   "cell_type": "code",
   "execution_count": 8,
   "metadata": {},
   "outputs": [
    {
     "data": {
      "text/plain": [
       "5031"
      ]
     },
     "execution_count": 8,
     "metadata": {},
     "output_type": "execute_result"
    }
   ],
   "source": [
    "# Calculate what % of posts are covered by at least one tag \n",
    "df_tmp = pd.DataFrame(index = df_tags.index, columns = ['Tagged'])\n",
    "df_tmp['Tagged'] = 0\n",
    "\n",
    "for col in df_tags:\n",
    "    df_tmp['Tagged'] = df_tmp['Tagged'] | df_tags[col]\n",
    "    df_tags_unique.loc[col, 'n_posts'] = df_tmp['Tagged'].sum()\n",
    "    \n",
    "df_tags_unique['pct_posts'] = df_tags_unique['n_posts'] / n_posts * 100\n",
    "\n",
    "# Reset index to create tag col\n",
    "df_tags_unique = df_tags_unique.reset_index().rename(columns = {'index': 'tag'})\n",
    "\n",
    "n_tags_unique = df_tags_unique['tag'].count()\n",
    "n_tags_unique"
   ]
  },
  {
   "cell_type": "code",
   "execution_count": 9,
   "metadata": {},
   "outputs": [
    {
     "data": {
      "text/html": [
       "<div>\n",
       "<style scoped>\n",
       "    .dataframe tbody tr th:only-of-type {\n",
       "        vertical-align: middle;\n",
       "    }\n",
       "\n",
       "    .dataframe tbody tr th {\n",
       "        vertical-align: top;\n",
       "    }\n",
       "\n",
       "    .dataframe thead th {\n",
       "        text-align: right;\n",
       "    }\n",
       "</style>\n",
       "<table border=\"1\" class=\"dataframe\">\n",
       "  <thead>\n",
       "    <tr style=\"text-align: right;\">\n",
       "      <th></th>\n",
       "      <th>tag</th>\n",
       "      <th>n_occurence</th>\n",
       "      <th>pct_tags</th>\n",
       "      <th>n_posts</th>\n",
       "      <th>pct_posts</th>\n",
       "    </tr>\n",
       "  </thead>\n",
       "  <tbody>\n",
       "    <tr>\n",
       "      <td>0</td>\n",
       "      <td>python</td>\n",
       "      <td>1294</td>\n",
       "      <td>5.319411</td>\n",
       "      <td>1294.0</td>\n",
       "      <td>16.1750</td>\n",
       "    </tr>\n",
       "    <tr>\n",
       "      <td>1</td>\n",
       "      <td>javascript</td>\n",
       "      <td>920</td>\n",
       "      <td>9.101373</td>\n",
       "      <td>2210.0</td>\n",
       "      <td>27.6250</td>\n",
       "    </tr>\n",
       "    <tr>\n",
       "      <td>2</td>\n",
       "      <td>java</td>\n",
       "      <td>567</td>\n",
       "      <td>11.432212</td>\n",
       "      <td>2772.0</td>\n",
       "      <td>34.6500</td>\n",
       "    </tr>\n",
       "    <tr>\n",
       "      <td>3</td>\n",
       "      <td>c#</td>\n",
       "      <td>379</td>\n",
       "      <td>12.990216</td>\n",
       "      <td>3145.0</td>\n",
       "      <td>39.3125</td>\n",
       "    </tr>\n",
       "    <tr>\n",
       "      <td>4</td>\n",
       "      <td>r</td>\n",
       "      <td>368</td>\n",
       "      <td>14.503001</td>\n",
       "      <td>3509.0</td>\n",
       "      <td>43.8625</td>\n",
       "    </tr>\n",
       "    <tr>\n",
       "      <td>...</td>\n",
       "      <td>...</td>\n",
       "      <td>...</td>\n",
       "      <td>...</td>\n",
       "      <td>...</td>\n",
       "      <td>...</td>\n",
       "    </tr>\n",
       "    <tr>\n",
       "      <td>5026</td>\n",
       "      <td>ngrok</td>\n",
       "      <td>1</td>\n",
       "      <td>99.983557</td>\n",
       "      <td>8000.0</td>\n",
       "      <td>100.0000</td>\n",
       "    </tr>\n",
       "    <tr>\n",
       "      <td>5027</td>\n",
       "      <td>nginx-ingress</td>\n",
       "      <td>1</td>\n",
       "      <td>99.987668</td>\n",
       "      <td>8000.0</td>\n",
       "      <td>100.0000</td>\n",
       "    </tr>\n",
       "    <tr>\n",
       "      <td>5028</td>\n",
       "      <td>ng-build</td>\n",
       "      <td>1</td>\n",
       "      <td>99.991778</td>\n",
       "      <td>8000.0</td>\n",
       "      <td>100.0000</td>\n",
       "    </tr>\n",
       "    <tr>\n",
       "      <td>5029</td>\n",
       "      <td>ng-bootstrap</td>\n",
       "      <td>1</td>\n",
       "      <td>99.995889</td>\n",
       "      <td>8000.0</td>\n",
       "      <td>100.0000</td>\n",
       "    </tr>\n",
       "    <tr>\n",
       "      <td>5030</td>\n",
       "      <td>libdl</td>\n",
       "      <td>1</td>\n",
       "      <td>100.000000</td>\n",
       "      <td>8000.0</td>\n",
       "      <td>100.0000</td>\n",
       "    </tr>\n",
       "  </tbody>\n",
       "</table>\n",
       "<p>5031 rows × 5 columns</p>\n",
       "</div>"
      ],
      "text/plain": [
       "                tag  n_occurence    pct_tags  n_posts  pct_posts\n",
       "0            python         1294    5.319411   1294.0    16.1750\n",
       "1        javascript          920    9.101373   2210.0    27.6250\n",
       "2              java          567   11.432212   2772.0    34.6500\n",
       "3                c#          379   12.990216   3145.0    39.3125\n",
       "4                 r          368   14.503001   3509.0    43.8625\n",
       "...             ...          ...         ...      ...        ...\n",
       "5026          ngrok            1   99.983557   8000.0   100.0000\n",
       "5027  nginx-ingress            1   99.987668   8000.0   100.0000\n",
       "5028       ng-build            1   99.991778   8000.0   100.0000\n",
       "5029   ng-bootstrap            1   99.995889   8000.0   100.0000\n",
       "5030          libdl            1  100.000000   8000.0   100.0000\n",
       "\n",
       "[5031 rows x 5 columns]"
      ]
     },
     "execution_count": 9,
     "metadata": {},
     "output_type": "execute_result"
    }
   ],
   "source": [
    "df_tags_unique"
   ]
  },
  {
   "cell_type": "code",
   "execution_count": 10,
   "metadata": {},
   "outputs": [
    {
     "data": {
      "text/plain": [
       "<matplotlib.axes._subplots.AxesSubplot at 0x243d8f0e1c8>"
      ]
     },
     "execution_count": 10,
     "metadata": {},
     "output_type": "execute_result"
    },
    {
     "data": {
      "image/png": "[encoded data removed]",
      "text/plain": [
       "<Figure size 432x288 with 1 Axes>"
      ]
     },
     "metadata": {
      "needs_background": "light"
     },
     "output_type": "display_data"
    }
   ],
   "source": [
    "sns.lineplot(x = df_tags_unique.index + 1, y = df_tags_unique['pct_tags'])"
   ]
  },
  {
   "cell_type": "code",
   "execution_count": 11,
   "metadata": {},
   "outputs": [
    {
     "data": {
      "text/plain": [
       "<matplotlib.axes._subplots.AxesSubplot at 0x243d9112208>"
      ]
     },
     "execution_count": 11,
     "metadata": {},
     "output_type": "execute_result"
    },
    {
     "data": {
      "image/png": "[encoded data removed]",
      "text/plain": [
       "<Figure size 432x288 with 1 Axes>"
      ]
     },
     "metadata": {
      "needs_background": "light"
     },
     "output_type": "display_data"
    }
   ],
   "source": [
    "sns.lineplot(x = df_tags_unique.index + 1, y = df_tags_unique['pct_posts'])"
   ]
  },
  {
   "cell_type": "code",
   "execution_count": 12,
   "metadata": {},
   "outputs": [
    {
     "data": {
      "text/plain": [
       "tag               tsql\n",
       "n_occurence         15\n",
       "pct_tags       57.5475\n",
       "n_posts           7275\n",
       "pct_posts      90.9375\n",
       "Name: 199, dtype: object"
      ]
     },
     "execution_count": 12,
     "metadata": {},
     "output_type": "execute_result"
    }
   ],
   "source": [
    "df_tags_unique.loc[199, :]"
   ]
  },
  {
   "cell_type": "markdown",
   "metadata": {},
   "source": [
    "# Modelling"
   ]
  },
  {
   "cell_type": "code",
   "execution_count": 13,
   "metadata": {},
   "outputs": [],
   "source": [
    "list_top = df_tags_unique.loc[0:199, 'tag']\n",
    "\n",
    "df_tags = df_tags[list_top]\n",
    "\n",
    "keep_index = df_tags[df_tags.sum(axis = 1) != 0].index\n",
    "\n",
    "X = df.loc[keep_index, 'Post']\n",
    "y = df_tags.loc[keep_index, :]"
   ]
  },
  {
   "cell_type": "code",
   "execution_count": 14,
   "metadata": {},
   "outputs": [],
   "source": [
    "# Remove '-' from RE_PUNCT in order to adapt the gensim strip_punctuation filter \n",
    "#  and conserve words like machine-learning, deep-learning ... "
   ]
  },
  {
   "cell_type": "code",
   "execution_count": 15,
   "metadata": {},
   "outputs": [
    {
     "data": {
      "text/plain": [
       "re.compile(r'([!\"\\#\\$%\\&\\'\\(\\)\\*\\+,\\-\\./:;<=>\\?@\\[\\\\\\]\\^_`\\{\\|\\}\\~])+',\n",
       "re.UNICODE)"
      ]
     },
     "execution_count": 15,
     "metadata": {},
     "output_type": "execute_result"
    }
   ],
   "source": [
    "gsp.RE_PUNCT"
   ]
  },
  {
   "cell_type": "code",
   "execution_count": 16,
   "metadata": {},
   "outputs": [],
   "source": [
    "punctuation = r\"\"\"!\"#$%&'()*+,./:;<=>?@[\\]^_`{|}~\"\"\"\n",
    "gsp.RE_PUNCT = re.compile(r'([%s])+' % re.escape(punctuation), re.UNICODE)"
   ]
  },
  {
   "cell_type": "code",
   "execution_count": 17,
   "metadata": {},
   "outputs": [
    {
     "data": {
      "text/plain": [
       "re.compile(r'([!\"\\#\\$%\\&\\'\\(\\)\\*\\+,\\./:;<=>\\?@\\[\\\\\\]\\^_`\\{\\|\\}\\~])+',\n",
       "re.UNICODE)"
      ]
     },
     "execution_count": 17,
     "metadata": {},
     "output_type": "execute_result"
    }
   ],
   "source": [
    "gsp.RE_PUNCT"
   ]
  },
  {
   "cell_type": "code",
   "execution_count": 18,
   "metadata": {},
   "outputs": [],
   "source": [
    "# Define and apply gensim filters\n",
    "filters = [\n",
    "           gsp.strip_tags, \n",
    "           gsp.strip_punctuation,\n",
    "           gsp.strip_multiple_whitespaces,\n",
    "           gsp.strip_numeric,\n",
    "           gsp.remove_stopwords, \n",
    "           gsp.strip_short, \n",
    "#            gsp.stem_text\n",
    "          ]\n",
    "\n",
    "def clean_text(s):\n",
    "    s = s.lower()\n",
    "    s = utils.to_unicode(s)\n",
    "    for f in filters:\n",
    "        s = f(s)\n",
    "    \n",
    "    s = s.split()\n",
    "    \n",
    "    return s\n",
    "\n",
    "# Custom transformer using gensim filters\n",
    "class TextCleaner(TransformerMixin):\n",
    "    def transform(self, X, **transform_params):\n",
    "        # Cleaning Text\n",
    "        return [clean_text(text) for text in X]\n",
    "\n",
    "    def fit(self, X, y=None, **fit_params):\n",
    "        return self\n",
    "\n",
    "    def get_params(self, deep=True):\n",
    "        return {}"
   ]
  },
  {
   "cell_type": "code",
   "execution_count": 19,
   "metadata": {},
   "outputs": [
    {
     "data": {
      "text/plain": [
       "[['machine-learning']]"
      ]
     },
     "execution_count": 19,
     "metadata": {},
     "output_type": "execute_result"
    }
   ],
   "source": [
    "Z = ['machine-learning']\n",
    "TextCleaner().transform(Z)"
   ]
  },
  {
   "cell_type": "code",
   "execution_count": 20,
   "metadata": {},
   "outputs": [],
   "source": [
    "data_lemmatized = TextCleaner().transform(X)\n",
    "\n",
    "# Create Dictionary\n",
    "id2word = Dictionary(data_lemmatized)\n",
    "\n",
    "# Create Corpus\n",
    "texts = data_lemmatized\n",
    "\n",
    "# Term Document Frequency\n",
    "corpus = [id2word.doc2bow(text) for text in texts]"
   ]
  },
  {
   "cell_type": "code",
   "execution_count": 21,
   "metadata": {},
   "outputs": [
    {
     "data": {
      "text/plain": [
       "['use',\n",
       " 'functions',\n",
       " 'nested',\n",
       " 'modules',\n",
       " 'importing',\n",
       " 'path',\n",
       " 'wondering',\n",
       " 'difference',\n",
       " 'cases',\n",
       " 'inner']"
      ]
     },
     "execution_count": 21,
     "metadata": {},
     "output_type": "execute_result"
    }
   ],
   "source": [
    "# Text is in the form of a list of words \n",
    "data_lemmatized[55][0:10]"
   ]
  },
  {
   "cell_type": "code",
   "execution_count": 22,
   "metadata": {},
   "outputs": [
    {
     "name": "stdout",
     "output_type": "stream",
     "text": [
      "[[(0, 3), (1, 1), (2, 1), (3, 1), (4, 1), (5, 1), (6, 1), (7, 1), (8, 1), (9, 3), (10, 1), (11, 1), (12, 1), (13, 2), (14, 2), (15, 1), (16, 1), (17, 3), (18, 1), (19, 1), (20, 1), (21, 1), (22, 1), (23, 1), (24, 1), (25, 1), (26, 1), (27, 1), (28, 1), (29, 1), (30, 1), (31, 2), (32, 3), (33, 1), (34, 1), (35, 1), (36, 1), (37, 1), (38, 2), (39, 8), (40, 2), (41, 3), (42, 3), (43, 1), (44, 7), (45, 2), (46, 3), (47, 1), (48, 1), (49, 2), (50, 1), (51, 2), (52, 3), (53, 1)]]\n"
     ]
    }
   ],
   "source": [
    "# Corpus representation counts the frequency of each word in each text \n",
    "print(corpus[:1])"
   ]
  },
  {
   "cell_type": "code",
   "execution_count": 23,
   "metadata": {},
   "outputs": [
    {
     "name": "stdout",
     "output_type": "stream",
     "text": [
      "Wall time: 2min 41s\n"
     ]
    }
   ],
   "source": [
    "%%time\n",
    "\n",
    "# Build LDA model\n",
    "lda_model = LdaMulticore(corpus = corpus, id2word=id2word, num_topics = 15, random_state = 100, \n",
    "                         chunksize = 100, passes = 10, per_word_topics = True)"
   ]
  },
  {
   "cell_type": "code",
   "execution_count": 24,
   "metadata": {},
   "outputs": [
    {
     "data": {
      "text/plain": [
       "[(0,\n",
       "  '0.017*\"error\" + 0.017*\"file\" + 0.015*\"amp\" + 0.009*\"command\" + 0.009*\"run\" + 0.009*\"use\" + 0.008*\"code\" + 0.008*\"files\" + 0.007*\"build\" + 0.007*\"package\"'),\n",
       " (1,\n",
       "  '0.052*\"div\" + 0.045*\"class\" + 0.017*\"html\" + 0.015*\"button\" + 0.014*\"function\" + 0.013*\"form\" + 0.012*\"text\" + 0.012*\"input\" + 0.011*\"value\" + 0.011*\"type\"'),\n",
       " (2,\n",
       "  '0.015*\"com\" + 0.014*\"file\" + 0.011*\"url\" + 0.010*\"https\" + 0.010*\"api\" + 0.010*\"request\" + 0.010*\"error\" + 0.008*\"json\" + 0.008*\"http\" + 0.008*\"new\"'),\n",
       " (3,\n",
       "  '0.073*\"android\" + 0.041*\"layout\" + 0.025*\"view\" + 0.021*\"item\" + 0.020*\"parent\" + 0.018*\"app\" + 0.015*\"child\" + 0.014*\"text\" + 0.014*\"height\" + 0.013*\"widget\"'),\n",
       " (4,\n",
       "  '0.032*\"int\" + 0.020*\"std\" + 0.015*\"amp\" + 0.013*\"new\" + 0.012*\"void\" + 0.012*\"return\" + 0.010*\"node\" + 0.009*\"main\" + 0.009*\"include\" + 0.008*\"char\"'),\n",
       " (5,\n",
       "  '0.014*\"float\" + 0.013*\"object\" + 0.012*\"double\" + 0.011*\"counter\" + 0.011*\"test\" + 0.011*\"vec\" + 0.011*\"class\" + 0.011*\"return\" + 0.010*\"topic\" + 0.010*\"context\"'),\n",
       " (6,\n",
       "  '0.047*\"table\" + 0.021*\"null\" + 0.020*\"query\" + 0.017*\"width\" + 0.013*\"height\" + 0.013*\"column\" + 0.012*\"select\" + 0.011*\"sql\" + 0.009*\"right\" + 0.008*\"left\"'),\n",
       " (7,\n",
       "  '0.057*\"java\" + 0.032*\"org\" + 0.019*\"com\" + 0.010*\"version\" + 0.009*\"jar\" + 0.009*\"springframework\" + 0.009*\"apache\" + 0.009*\"android\" + 0.008*\"exe\" + 0.008*\"class\"'),\n",
       " (8,\n",
       "  '0.029*\"const\" + 0.021*\"log\" + 0.020*\"console\" + 0.019*\"state\" + 0.017*\"function\" + 0.017*\"error\" + 0.016*\"return\" + 0.015*\"component\" + 0.013*\"data\" + 0.013*\"import\"'),\n",
       " (9,\n",
       "  '0.026*\"data\" + 0.014*\"value\" + 0.014*\"list\" + 0.013*\"like\" + 0.010*\"code\" + 0.010*\"array\" + 0.010*\"want\" + 0.009*\"number\" + 0.009*\"values\" + 0.009*\"function\"'),\n",
       " (10,\n",
       "  '0.026*\"image\" + 0.024*\"color\" + 0.019*\"size\" + 0.013*\"text\" + 0.012*\"arr\" + 0.009*\"var\" + 0.009*\"red\" + 0.008*\"img\" + 0.007*\"code\" + 0.007*\"offset\"'),\n",
       " (11,\n",
       "  '0.077*\"string\" + 0.064*\"public\" + 0.030*\"class\" + 0.027*\"int\" + 0.026*\"return\" + 0.024*\"new\" + 0.023*\"private\" + 0.018*\"list\" + 0.016*\"set\" + 0.014*\"user\"'),\n",
       " (12,\n",
       "  '0.061*\"self\" + 0.028*\"python\" + 0.020*\"import\" + 0.019*\"def\" + 0.016*\"lib\" + 0.016*\"line\" + 0.015*\"file\" + 0.010*\"site-packages\" + 0.010*\"print\" + 0.009*\"django\"'),\n",
       " (13,\n",
       "  '0.033*\"model\" + 0.028*\"nan\" + 0.014*\"product\" + 0.013*\"train\" + 0.012*\"tensorflow\" + 0.010*\"input\" + 0.010*\"keras\" + 0.009*\"import\" + 0.009*\"test\" + 0.009*\"git\"'),\n",
       " (14,\n",
       "  '0.033*\"date\" + 0.020*\"data\" + 0.015*\"models\" + 0.014*\"user\" + 0.013*\"time\" + 0.010*\"true\" + 0.007*\"type\" + 0.007*\"filter\" + 0.007*\"return\" + 0.007*\"model\"')]"
      ]
     },
     "execution_count": 24,
     "metadata": {},
     "output_type": "execute_result"
    }
   ],
   "source": [
    "lda_model.print_topics()"
   ]
  },
  {
   "cell_type": "code",
   "execution_count": 25,
   "metadata": {},
   "outputs": [
    {
     "name": "stdout",
     "output_type": "stream",
     "text": [
      "Coherence Score:  0.4933781861288398\n",
      "Wall time: 11.7 s\n"
     ]
    }
   ],
   "source": [
    "%%time\n",
    "\n",
    "# Compute Coherence Score\n",
    "coherence_model_lda = CoherenceModel(model = lda_model, texts = data_lemmatized, dictionary = id2word, coherence = 'c_v')\n",
    "\n",
    "coherence_lda = coherence_model_lda.get_coherence()\n",
    "\n",
    "print('Coherence Score: ', coherence_lda)"
   ]
  },
  {
   "cell_type": "code",
   "execution_count": 22,
   "metadata": {},
   "outputs": [
    {
     "data": {
      "image/png": "[encoded data removed]",
      "text/plain": [
       "<Figure size 432x288 with 1 Axes>"
      ]
     },
     "metadata": {
      "needs_background": "light"
     },
     "output_type": "display_data"
    }
   ],
   "source": [
    "# Evaluate coherence for different values of num_topics\n",
    "coherence = []\n",
    "# list_num_topics = range(7, 15)\n",
    "list_num_topics = [5, 10, 15, 20, 25, 30, 40, 50, 60, 70, 80, 90, 100, 120, 140, 160]\n",
    "\n",
    "for num_topics in list_num_topics:\n",
    "    lda_model = LdaMulticore(corpus = corpus, id2word=id2word, num_topics = num_topics, random_state = 100, \n",
    "                             chunksize = 100, passes = 10, per_word_topics = True)\n",
    "    \n",
    "    coherence_model_lda = CoherenceModel(model = lda_model, texts = data_lemmatized, dictionary = id2word, coherence = 'c_v')\n",
    "\n",
    "    coherence_lda = coherence_model_lda.get_coherence()\n",
    "    \n",
    "    coherence.append(coherence_lda)\n",
    "    \n",
    "plt.plot(list_num_topics, coherence, marker = 'o')\n",
    "plt.savefig('coherence.png', bbox_inches = 'tight')"
   ]
  },
  {
   "cell_type": "markdown",
   "metadata": {},
   "source": [
    "# Test model in real life conditions"
   ]
  },
  {
   "cell_type": "code",
   "execution_count": 26,
   "metadata": {},
   "outputs": [],
   "source": [
    "X_test = ['''How to improve model loss and accuracy? \n",
    "\n",
    "I'm currently using a Unet model taken from the kaggle starter code, and modified a couple of parameters to train it on the TACO Dataset for litter. Right now, I'm at a loss as to how I should proceed with optimizing my model. I'm experiencing ridiculous amounts of loss and abysmal accuracy, and I'm not entirely sure which parameters would improve my model's accuracy and loss. The TACO dataset has 60 categories (61 including background). Am I doing something wrong? I'm pretty new to this so any references I could read or advice would be much appreciated.\n",
    "\n",
    "Here is the code for my model:\n",
    "\n",
    "IMG_WIDTH = 224\n",
    "IMG_HEIGHT = 224\n",
    "IMG_CHANNELS = 3\n",
    "epochs = 25\n",
    "validation_steps = val_size\n",
    "steps_per_epoch = train_size\n",
    "\n",
    "##Creating the model\n",
    "\n",
    "initializer = \"he_normal\"\n",
    "\n",
    "###Building U-Net Model\n",
    "\n",
    "##Input Layer\n",
    "inputs = Input((IMG_WIDTH, IMG_HEIGHT, IMG_CHANNELS))\n",
    "\n",
    "##Converting inputs to float\n",
    "s = tf.keras.layers.Lambda(lambda x: x / 255)(inputs)\n",
    "\n",
    "##Contraction\n",
    "c1 = tf.keras.layers.Conv2D(16, (3,3), activation=\"relu\", kernel_initializer=initializer, padding=\"same\")(s)\n",
    "c1 = tf.keras.layers.Dropout(0.1)(c1)\n",
    "c1 = tf.keras.layers.Conv2D(16, (3,3), activation=\"relu\", kernel_initializer=initializer, padding=\"same\")(c1)\n",
    "p1 = tf.keras.layers.MaxPooling2D((2,2))(c1)\n",
    "\n",
    "c2 = tf.keras.layers.Conv2D(32, (3,3), activation=\"relu\", kernel_initializer=initializer, padding=\"same\")(p1)\n",
    "c2 = tf.keras.layers.Dropout(0.1)(c2)\n",
    "c2 = tf.keras.layers.Conv2D(32, (3,3), activation=\"relu\", kernel_initializer=initializer, padding=\"same\")(c2)\n",
    "p2 = tf.keras.layers.MaxPooling2D((2,2))(c2)\n",
    "\n",
    "c3 = tf.keras.layers.Conv2D(64, (3,3), activation=\"relu\", kernel_initializer=initializer, padding=\"same\")(p2)\n",
    "c3 = tf.keras.layers.Dropout(0.2)(c3)\n",
    "c3 = tf.keras.layers.Conv2D(64, (3,3), activation=\"relu\", kernel_initializer=initializer, padding=\"same\")(c3)\n",
    "p3 = tf.keras.layers.MaxPooling2D((2,2))(c3)\n",
    "\n",
    "c4 = tf.keras.layers.Conv2D(128, (3,3), activation=\"relu\", kernel_initializer=initializer, padding=\"same\")(p3)\n",
    "c4 = tf.keras.layers.Dropout(0.2)(c4)\n",
    "c4 = tf.keras.layers.Conv2D(128, (3,3), activation=\"relu\", kernel_initializer=initializer, padding=\"same\")(c4)\n",
    "p4 = tf.keras.layers.MaxPooling2D((2,2))(c4)\n",
    "\n",
    "c5 = tf.keras.layers.Conv2D(256, (3,3), activation=\"relu\", kernel_initializer=initializer, padding=\"same\")(p4)\n",
    "c5 = tf.keras.layers.Dropout(0.3)(c5)\n",
    "c5 = tf.keras.layers.Conv2D(256, (3,3), activation=\"relu\", kernel_initializer=initializer, padding=\"same\")(c5)\n",
    "\n",
    "##Expansion\n",
    "u6 = tf.keras.layers.Conv2DTranspose(128, (2,2), strides=(2,2), padding=\"same\")(c5)\n",
    "u6 = tf.keras.layers.concatenate([u6, c4])\n",
    "c6 = tf.keras.layers.Conv2D(128, (3,3), activation=\"relu\", kernel_initializer=initializer, padding=\"same\")(u6)\n",
    "c6 = tf.keras.layers.Dropout(0.2)(c6)\n",
    "c6 = tf.keras.layers.Conv2D(128, (3,3), activation=\"relu\", kernel_initializer=initializer, padding=\"same\")(c6)\n",
    "\n",
    "u7 = tf.keras.layers.Conv2DTranspose(64, (2,2), strides=(2,2), padding=\"same\")(c6)\n",
    "u7 = tf.keras.layers.concatenate([u7, c3])\n",
    "c7 = tf.keras.layers.Conv2D(64, (3,3), activation=\"relu\", kernel_initializer=initializer, padding=\"same\")(u7)\n",
    "c7 = tf.keras.layers.Dropout(0.2)(c7)\n",
    "c7 = tf.keras.layers.Conv2D(64, (3,3), activation=\"relu\", kernel_initializer=initializer, padding=\"same\")(c7)\n",
    "\n",
    "u8 = tf.keras.layers.Conv2DTranspose(32, (2,2), strides=(2,2), padding=\"same\")(c7)\n",
    "u8 = tf.keras.layers.concatenate([u8, c2])\n",
    "c8 = tf.keras.layers.Conv2D(32, (3,3), activation=\"relu\", kernel_initializer=initializer, padding=\"same\")(u8)\n",
    "c8 = tf.keras.layers.Dropout(0.1)(c8)\n",
    "c8 = tf.keras.layers.Conv2D(32, (3,3), activation=\"relu\", kernel_initializer=initializer, padding=\"same\")(c8)\n",
    "\n",
    "u9 = tf.keras.layers.Conv2DTranspose(16, (2,2), strides=(2,2), padding=\"same\")(c8)\n",
    "u9 = tf.keras.layers.concatenate([u9, c1], axis=3)\n",
    "c9 = tf.keras.layers.Conv2D(16, (3,3), activation=\"relu\", kernel_initializer=initializer, padding=\"same\")(u9)\n",
    "c9 = tf.keras.layers.Dropout(0.1)(c9)\n",
    "c9 = tf.keras.layers.Conv2D(16, (3,3), activation=\"relu\", kernel_initializer=initializer, padding=\"same\")(c9)\n",
    "\n",
    "##Output Layer\n",
    "outputs = tf.keras.layers.Dense(61, activation=\"softmax\")(c9)\n",
    "\n",
    "##Defining Model\n",
    "model = tf.keras.Model(inputs=[inputs], outputs=[outputs])\n",
    "\n",
    "##Compiling Model\n",
    "model.compile(optimizer=\"adam\", loss=\"categorical_crossentropy\", metrics=['accuracy'])\n",
    "\n",
    "##Training the model\n",
    "results = model.fit(x = train_gen, \n",
    "                    validation_data = val_gen, \n",
    "                    steps_per_epoch = steps_per_epoch, \n",
    "                    validation_steps = validation_steps, \n",
    "                    epochs = epochs, \n",
    "                    verbose = True)\n",
    "\n",
    "And here is the accuracy and loss from the first epoch:\n",
    "\n",
    "Epoch 1/25\n",
    " 185/1200 [===>..........................] - ETA: 3:30:04 - loss: 388.0077 - accuracy: 9.0721e-04\n",
    "\n",
    "I'm currently using tensorboard, modelcheckpoint, and earlystopping for callbacks, but unfortunately I don't know how these will help with optimizing my model. Would a larger number of neurons per layer work?\n",
    "''']\n",
    "\n",
    "# real tags = python tensorflow machine-learning keras deep-learning\n",
    "# https://stackoverflow.com/questions/61927516/how-to-improve-model-loss-and-accuracy"
   ]
  },
  {
   "cell_type": "code",
   "execution_count": 27,
   "metadata": {},
   "outputs": [],
   "source": [
    "X_test_prep = TextCleaner().transform(X_test)"
   ]
  },
  {
   "cell_type": "code",
   "execution_count": 28,
   "metadata": {},
   "outputs": [],
   "source": [
    "corpus_test = id2word.doc2bow(X_test_prep[0])"
   ]
  },
  {
   "cell_type": "code",
   "execution_count": 29,
   "metadata": {},
   "outputs": [
    {
     "data": {
      "text/plain": [
       "[(6, 0.022048024),\n",
       " (9, 0.01309305),\n",
       " (12, 0.010165672),\n",
       " (13, 0.80127233),\n",
       " (14, 0.15166813)]"
      ]
     },
     "execution_count": 29,
     "metadata": {},
     "output_type": "execute_result"
    }
   ],
   "source": [
    "topics_pred = lda_model.get_document_topics(corpus_test)\n",
    "topics_pred"
   ]
  },
  {
   "cell_type": "code",
   "execution_count": 30,
   "metadata": {},
   "outputs": [],
   "source": [
    "lda_tags = []\n",
    "\n",
    "for i in range(0, lda_model.num_topics):\n",
    "    \n",
    "    topic_tags = []\n",
    "    \n",
    "    for word, proba in lda_model.show_topic(i, topn = 15):\n",
    "#         if (list_top.str.contains(word)).sum() >= 1: \n",
    "        if (list_top == word).sum() == 1:\n",
    "            topic_tags.append(word)\n",
    "    \n",
    "    lda_tags.append(topic_tags)"
   ]
  },
  {
   "cell_type": "code",
   "execution_count": 31,
   "metadata": {},
   "outputs": [
    {
     "data": {
      "text/plain": [
       "[['file'],\n",
       " ['class', 'html', 'function', 'input', 'php'],\n",
       " ['file', 'api', 'json'],\n",
       " ['android'],\n",
       " ['string', 'function'],\n",
       " ['object', 'class'],\n",
       " ['sql'],\n",
       " ['java', 'android', 'class'],\n",
       " ['function', 'object'],\n",
       " ['list', 'function'],\n",
       " ['image'],\n",
       " ['string', 'class', 'list'],\n",
       " ['python', 'file', 'django', 'pygame'],\n",
       " ['tensorflow', 'input', 'keras', 'git'],\n",
       " ['date', 'time', 'filter', 'datetime']]"
      ]
     },
     "execution_count": 31,
     "metadata": {},
     "output_type": "execute_result"
    }
   ],
   "source": [
    "lda_tags"
   ]
  },
  {
   "cell_type": "code",
   "execution_count": 32,
   "metadata": {},
   "outputs": [],
   "source": [
    "tags_pred = []\n",
    "\n",
    "for topic_nb, proba in topics_pred:\n",
    "    tags_pred.extend(lda_tags[topic_nb])\n",
    "\n",
    "# Remove potential duplicates\n",
    "tags_pred = list(set(tags_pred))"
   ]
  },
  {
   "cell_type": "code",
   "execution_count": 33,
   "metadata": {},
   "outputs": [
    {
     "data": {
      "text/plain": [
       "['filter',\n",
       " 'sql',\n",
       " 'tensorflow',\n",
       " 'file',\n",
       " 'pygame',\n",
       " 'git',\n",
       " 'input',\n",
       " 'python',\n",
       " 'date',\n",
       " 'keras',\n",
       " 'list',\n",
       " 'django',\n",
       " 'time',\n",
       " 'datetime',\n",
       " 'function']"
      ]
     },
     "execution_count": 33,
     "metadata": {},
     "output_type": "execute_result"
    }
   ],
   "source": [
    "tags_pred"
   ]
  },
  {
   "cell_type": "code",
   "execution_count": 148,
   "metadata": {},
   "outputs": [
    {
     "data": {
      "text/plain": [
       "0               python\n",
       "1           javascript\n",
       "2                 java\n",
       "3                   c#\n",
       "4                    r\n",
       "            ...       \n",
       "195              shiny\n",
       "196    azure-functions\n",
       "197        material-ui\n",
       "198                npm\n",
       "199               tsql\n",
       "Name: tag, Length: 200, dtype: object"
      ]
     },
     "execution_count": 148,
     "metadata": {},
     "output_type": "execute_result"
    }
   ],
   "source": [
    "list_top"
   ]
  },
  {
   "cell_type": "markdown",
   "metadata": {},
   "source": [
    "# Visualize LDA results using pyLDAvis"
   ]
  },
  {
   "cell_type": "markdown",
   "metadata": {},
   "source": [
    "Warning : pyLDAvis bug in Jupyter Lab causes it to hide toolbar buttons (cf. https://github.com/bmabey/pyLDAvis/issues/162). "
   ]
  },
  {
   "cell_type": "code",
   "execution_count": 34,
   "metadata": {},
   "outputs": [],
   "source": [
    "import pyLDAvis\n",
    "import pyLDAvis.gensim"
   ]
  },
  {
   "cell_type": "code",
   "execution_count": null,
   "metadata": {},
   "outputs": [],
   "source": [
    "# Visualize the topics\n",
    "pyLDAvis.enable_notebook()\n",
    "\n",
    "LDAvis_prepared = pyLDAvis.gensim.prepare(lda_model, corpus, id2word)\n",
    " \n",
    "LDAvis_prepared"
   ]
  },
  {
   "cell_type": "code",
   "execution_count": null,
   "metadata": {},
   "outputs": [],
   "source": []
  }
 ],
 "metadata": {
  "kernelspec": {
   "display_name": "Python 3",
   "language": "python",
   "name": "python3"
  },
  "language_info": {
   "codemirror_mode": {
    "name": "ipython",
    "version": 3
   },
   "file_extension": ".py",
   "mimetype": "text/x-python",
   "name": "python",
   "nbconvert_exporter": "python",
   "pygments_lexer": "ipython3",
   "version": "3.7.4"
  }
 },
 "nbformat": 4,
 "nbformat_minor": 4
}
