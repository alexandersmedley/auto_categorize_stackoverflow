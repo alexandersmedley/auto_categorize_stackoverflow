{
 "cells": [
  {
   "cell_type": "code",
   "execution_count": 39,
   "metadata": {},
   "outputs": [],
   "source": [
    "import numpy as np\n",
    "import pandas as pd\n",
    "\n",
    "import seaborn as sns\n",
    "import matplotlib.pyplot as plt\n",
    "\n",
    "from sklearn.preprocessing import MultiLabelBinarizer\n",
    "\n",
    "from sklearn.model_selection import train_test_split\n",
    "from sklearn.model_selection import GridSearchCV\n",
    "\n",
    "from sklearn.pipeline import Pipeline\n",
    "from sklearn.base import TransformerMixin\n",
    "\n",
    "import sklearn.metrics as metrics\n",
    "\n",
    "from gensim import utils\n",
    "import gensim.parsing.preprocessing as gsp\n",
    "\n",
    "import joblib\n",
    "\n",
    "from gensim.corpora import Dictionary\n",
    "# from gensim.models import LdaModel\n",
    "from gensim.models import LdaMulticore\n",
    "from gensim.models import CoherenceModel\n",
    "\n",
    "import re"
   ]
  },
  {
   "cell_type": "markdown",
   "metadata": {},
   "source": [
    "# Functions"
   ]
  },
  {
   "cell_type": "markdown",
   "metadata": {},
   "source": [
    "# Load data"
   ]
  },
  {
   "cell_type": "code",
   "execution_count": 40,
   "metadata": {},
   "outputs": [],
   "source": [
    "# Read csv and create list of tags \n",
    "df = pd.read_csv('in/StackOverflow_50000_posts.csv')\n",
    "df = df[['Id', 'Title', 'Body', 'Tags']]\n",
    "\n",
    "df['Post'] = df['Title'] + ' ' + df['Body']\n",
    "df.drop(columns = ['Title', 'Body'], inplace = True)\n",
    "\n",
    "df['Tags'] = df['Tags'].str.findall(r'<(.*?)>')\n",
    "df['nTags'] = df['Tags'].apply(len)"
   ]
  },
  {
   "cell_type": "code",
   "execution_count": 41,
   "metadata": {},
   "outputs": [],
   "source": [
    "# df = df.loc[0:7999, :]\n",
    "n_posts = df['Id'].count()"
   ]
  },
  {
   "cell_type": "code",
   "execution_count": 42,
   "metadata": {},
   "outputs": [],
   "source": [
    "# Create tags matrix of size n_obs * n_tags\n",
    "mlb = MultiLabelBinarizer(sparse_output = False)\n",
    "df_tags = pd.DataFrame(mlb.fit_transform(df['Tags']), columns = mlb.classes_, index = df.index)"
   ]
  },
  {
   "cell_type": "markdown",
   "metadata": {},
   "source": [
    "# Analyze tags"
   ]
  },
  {
   "cell_type": "code",
   "execution_count": 43,
   "metadata": {},
   "outputs": [],
   "source": [
    "# Sort df_tags per number of occurences \n",
    "df_tags_unique = pd.DataFrame(df_tags.sum(axis = 0).sort_values(ascending = False), columns = ['n_occurence'])\n",
    "df_tags = df_tags[df_tags_unique.index]"
   ]
  },
  {
   "cell_type": "code",
   "execution_count": 44,
   "metadata": {},
   "outputs": [
    {
     "data": {
      "text/plain": [
       "153341"
      ]
     },
     "execution_count": 44,
     "metadata": {},
     "output_type": "execute_result"
    }
   ],
   "source": [
    "# Calculate cumulative percentage of tags\n",
    "n_total_tags = df_tags.sum().sum()\n",
    "df_tags_unique['pct_tags'] = df_tags_unique.cumsum(axis = 0) / n_total_tags * 100\n",
    "n_total_tags"
   ]
  },
  {
   "cell_type": "code",
   "execution_count": 45,
   "metadata": {},
   "outputs": [
    {
     "data": {
      "text/plain": [
       "13379"
      ]
     },
     "execution_count": 45,
     "metadata": {},
     "output_type": "execute_result"
    }
   ],
   "source": [
    "# Calculate what % of posts are covered by at least one tag \n",
    "df_tmp = pd.DataFrame(index = df_tags.index, columns = ['Tagged'])\n",
    "df_tmp['Tagged'] = 0\n",
    "\n",
    "for col in df_tags:\n",
    "    df_tmp['Tagged'] = df_tmp['Tagged'] | df_tags[col]\n",
    "    df_tags_unique.loc[col, 'n_posts'] = df_tmp['Tagged'].sum()\n",
    "    \n",
    "df_tags_unique['pct_posts'] = df_tags_unique['n_posts'] / n_posts * 100\n",
    "\n",
    "# Reset index to create tag col\n",
    "df_tags_unique = df_tags_unique.reset_index().rename(columns = {'index': 'tag'})\n",
    "\n",
    "n_tags_unique = df_tags_unique['tag'].count()\n",
    "n_tags_unique"
   ]
  },
  {
   "cell_type": "code",
   "execution_count": 46,
   "metadata": {},
   "outputs": [
    {
     "data": {
      "text/html": [
       "<div>\n",
       "<style scoped>\n",
       "    .dataframe tbody tr th:only-of-type {\n",
       "        vertical-align: middle;\n",
       "    }\n",
       "\n",
       "    .dataframe tbody tr th {\n",
       "        vertical-align: top;\n",
       "    }\n",
       "\n",
       "    .dataframe thead th {\n",
       "        text-align: right;\n",
       "    }\n",
       "</style>\n",
       "<table border=\"1\" class=\"dataframe\">\n",
       "  <thead>\n",
       "    <tr style=\"text-align: right;\">\n",
       "      <th></th>\n",
       "      <th>tag</th>\n",
       "      <th>n_occurence</th>\n",
       "      <th>pct_tags</th>\n",
       "      <th>n_posts</th>\n",
       "      <th>pct_posts</th>\n",
       "    </tr>\n",
       "  </thead>\n",
       "  <tbody>\n",
       "    <tr>\n",
       "      <td>0</td>\n",
       "      <td>python</td>\n",
       "      <td>7619</td>\n",
       "      <td>4.968665</td>\n",
       "      <td>7619.0</td>\n",
       "      <td>15.238</td>\n",
       "    </tr>\n",
       "    <tr>\n",
       "      <td>1</td>\n",
       "      <td>javascript</td>\n",
       "      <td>5654</td>\n",
       "      <td>8.655872</td>\n",
       "      <td>13237.0</td>\n",
       "      <td>26.474</td>\n",
       "    </tr>\n",
       "    <tr>\n",
       "      <td>2</td>\n",
       "      <td>java</td>\n",
       "      <td>3604</td>\n",
       "      <td>11.006189</td>\n",
       "      <td>16796.0</td>\n",
       "      <td>33.592</td>\n",
       "    </tr>\n",
       "    <tr>\n",
       "      <td>3</td>\n",
       "      <td>c#</td>\n",
       "      <td>2722</td>\n",
       "      <td>12.781317</td>\n",
       "      <td>19460.0</td>\n",
       "      <td>38.920</td>\n",
       "    </tr>\n",
       "    <tr>\n",
       "      <td>4</td>\n",
       "      <td>html</td>\n",
       "      <td>2298</td>\n",
       "      <td>14.279938</td>\n",
       "      <td>20540.0</td>\n",
       "      <td>41.080</td>\n",
       "    </tr>\n",
       "    <tr>\n",
       "      <td>...</td>\n",
       "      <td>...</td>\n",
       "      <td>...</td>\n",
       "      <td>...</td>\n",
       "      <td>...</td>\n",
       "      <td>...</td>\n",
       "    </tr>\n",
       "    <tr>\n",
       "      <td>13374</td>\n",
       "      <td>modulus</td>\n",
       "      <td>1</td>\n",
       "      <td>99.997391</td>\n",
       "      <td>50000.0</td>\n",
       "      <td>100.000</td>\n",
       "    </tr>\n",
       "    <tr>\n",
       "      <td>13375</td>\n",
       "      <td>mojo-useragent</td>\n",
       "      <td>1</td>\n",
       "      <td>99.998044</td>\n",
       "      <td>50000.0</td>\n",
       "      <td>100.000</td>\n",
       "    </tr>\n",
       "    <tr>\n",
       "      <td>13376</td>\n",
       "      <td>mollie</td>\n",
       "      <td>1</td>\n",
       "      <td>99.998696</td>\n",
       "      <td>50000.0</td>\n",
       "      <td>100.000</td>\n",
       "    </tr>\n",
       "    <tr>\n",
       "      <td>13377</td>\n",
       "      <td>mongo-dart</td>\n",
       "      <td>1</td>\n",
       "      <td>99.999348</td>\n",
       "      <td>50000.0</td>\n",
       "      <td>100.000</td>\n",
       "    </tr>\n",
       "    <tr>\n",
       "      <td>13378</td>\n",
       "      <td>.a</td>\n",
       "      <td>1</td>\n",
       "      <td>100.000000</td>\n",
       "      <td>50000.0</td>\n",
       "      <td>100.000</td>\n",
       "    </tr>\n",
       "  </tbody>\n",
       "</table>\n",
       "<p>13379 rows × 5 columns</p>\n",
       "</div>"
      ],
      "text/plain": [
       "                  tag  n_occurence    pct_tags  n_posts  pct_posts\n",
       "0              python         7619    4.968665   7619.0     15.238\n",
       "1          javascript         5654    8.655872  13237.0     26.474\n",
       "2                java         3604   11.006189  16796.0     33.592\n",
       "3                  c#         2722   12.781317  19460.0     38.920\n",
       "4                html         2298   14.279938  20540.0     41.080\n",
       "...               ...          ...         ...      ...        ...\n",
       "13374         modulus            1   99.997391  50000.0    100.000\n",
       "13375  mojo-useragent            1   99.998044  50000.0    100.000\n",
       "13376          mollie            1   99.998696  50000.0    100.000\n",
       "13377      mongo-dart            1   99.999348  50000.0    100.000\n",
       "13378              .a            1  100.000000  50000.0    100.000\n",
       "\n",
       "[13379 rows x 5 columns]"
      ]
     },
     "execution_count": 46,
     "metadata": {},
     "output_type": "execute_result"
    }
   ],
   "source": [
    "df_tags_unique"
   ]
  },
  {
   "cell_type": "code",
   "execution_count": 47,
   "metadata": {},
   "outputs": [
    {
     "data": {
      "text/plain": [
       "<matplotlib.axes._subplots.AxesSubplot at 0x12559812988>"
      ]
     },
     "execution_count": 47,
     "metadata": {},
     "output_type": "execute_result"
    },
    {
     "data": {
      "image/png": "[encoded data removed]",
      "text/plain": [
       "<Figure size 432x288 with 1 Axes>"
      ]
     },
     "metadata": {
      "needs_background": "light"
     },
     "output_type": "display_data"
    }
   ],
   "source": [
    "sns.lineplot(x = df_tags_unique.index + 1, y = df_tags_unique['pct_tags'])"
   ]
  },
  {
   "cell_type": "code",
   "execution_count": 48,
   "metadata": {},
   "outputs": [
    {
     "data": {
      "text/plain": [
       "<matplotlib.axes._subplots.AxesSubplot at 0x12559879488>"
      ]
     },
     "execution_count": 48,
     "metadata": {},
     "output_type": "execute_result"
    },
    {
     "data": {
      "image/png": "[encoded data removed]",
      "text/plain": [
       "<Figure size 432x288 with 1 Axes>"
      ]
     },
     "metadata": {
      "needs_background": "light"
     },
     "output_type": "display_data"
    }
   ],
   "source": [
    "sns.lineplot(x = df_tags_unique.index + 1, y = df_tags_unique['pct_posts'])"
   ]
  },
  {
   "cell_type": "code",
   "execution_count": 49,
   "metadata": {},
   "outputs": [
    {
     "data": {
      "text/plain": [
       "tag            optimization\n",
       "n_occurence              96\n",
       "pct_tags            56.8485\n",
       "n_posts               45464\n",
       "pct_posts            90.928\n",
       "Name: 199, dtype: object"
      ]
     },
     "execution_count": 49,
     "metadata": {},
     "output_type": "execute_result"
    }
   ],
   "source": [
    "df_tags_unique.loc[199, :]"
   ]
  },
  {
   "cell_type": "markdown",
   "metadata": {},
   "source": [
    "# Modelling"
   ]
  },
  {
   "cell_type": "markdown",
   "metadata": {},
   "source": [
    "## First subset of tags to limit the data set and get an unbiased test set"
   ]
  },
  {
   "cell_type": "code",
   "execution_count": 50,
   "metadata": {},
   "outputs": [],
   "source": [
    "list_top = df_tags_unique.loc[0:199, 'tag']\n",
    "\n",
    "df_tags = df_tags[list_top]\n",
    "\n",
    "keep_index = df_tags[df_tags.sum(axis = 1) != 0].index\n",
    "\n",
    "X = df.loc[keep_index, 'Post']\n",
    "y = df_tags.loc[keep_index, :]"
   ]
  },
  {
   "cell_type": "code",
   "execution_count": 51,
   "metadata": {},
   "outputs": [],
   "source": [
    "# Define a train and test set based on those tags\n",
    "X_train, X_test, y_train, y_test = train_test_split(X, y, test_size = 10000, random_state = 0)"
   ]
  },
  {
   "cell_type": "markdown",
   "metadata": {},
   "source": [
    "## Function to define tag and number of observations subset for train and val"
   ]
  },
  {
   "cell_type": "code",
   "execution_count": 52,
   "metadata": {},
   "outputs": [],
   "source": [
    "# Create a train and validation set, optionally with a limited number of tags \n",
    "def train_val_tag_subset(X_train, y_train, df_tags_unique, n_tags, n_train, n_val): \n",
    "    # Limit train and val to tag subset \n",
    "    list_top = df_tags_unique.loc[0:n_tags-1, 'tag']\n",
    "    y_train = y_train[list_top]\n",
    "    keep_index = y_train[y_train.sum(axis = 1) != 0].index\n",
    "    X_train = X_train[keep_index]\n",
    "    y_train = y_train.loc[keep_index, :]\n",
    "    \n",
    "    # Limit size of train and val\n",
    "    X_train = X_train.sample(n = n_train + n_val, random_state = 55)\n",
    "    y_train = y_train.loc[X_train.index, :]\n",
    "    \n",
    "    # Define a train and test set based on those tags\n",
    "    X_train, X_val, y_train, y_val = train_test_split(X_train, y_train, test_size = n_val, random_state = 0)\n",
    "    \n",
    "    return X_train, y_train, X_val, y_val"
   ]
  },
  {
   "cell_type": "code",
   "execution_count": 53,
   "metadata": {},
   "outputs": [],
   "source": [
    "# Create train and validation set of given size\n",
    "# No tag subset used in unsupervised learning\n",
    "X_train, y_train, X_val, y_val = train_val_tag_subset(X_train, y_train, df_tags_unique, \n",
    "                                                      n_tags = len(list_top), n_train = 10000, n_val = 6000)"
   ]
  },
  {
   "cell_type": "markdown",
   "metadata": {},
   "source": [
    "## Model"
   ]
  },
  {
   "cell_type": "code",
   "execution_count": 54,
   "metadata": {},
   "outputs": [],
   "source": [
    "# Remove '-' from RE_PUNCT in order to adapt the gensim strip_punctuation filter \n",
    "#  and conserve words like machine-learning, deep-learning ... "
   ]
  },
  {
   "cell_type": "code",
   "execution_count": 55,
   "metadata": {},
   "outputs": [
    {
     "data": {
      "text/plain": [
       "re.compile(r'([!\"\\#\\$%\\&\\'\\(\\)\\*\\+,\\./:;<=>\\?@\\[\\\\\\]\\^_`\\{\\|\\}\\~])+',\n",
       "re.UNICODE)"
      ]
     },
     "execution_count": 55,
     "metadata": {},
     "output_type": "execute_result"
    }
   ],
   "source": [
    "gsp.RE_PUNCT"
   ]
  },
  {
   "cell_type": "code",
   "execution_count": 56,
   "metadata": {},
   "outputs": [],
   "source": [
    "punctuation = r\"\"\"!\"#$%&'()*+,./:;<=>?@[\\]^_`{|}~\"\"\"\n",
    "gsp.RE_PUNCT = re.compile(r'([%s])+' % re.escape(punctuation), re.UNICODE)"
   ]
  },
  {
   "cell_type": "code",
   "execution_count": 57,
   "metadata": {},
   "outputs": [
    {
     "data": {
      "text/plain": [
       "re.compile(r'([!\"\\#\\$%\\&\\'\\(\\)\\*\\+,\\./:;<=>\\?@\\[\\\\\\]\\^_`\\{\\|\\}\\~])+',\n",
       "re.UNICODE)"
      ]
     },
     "execution_count": 57,
     "metadata": {},
     "output_type": "execute_result"
    }
   ],
   "source": [
    "gsp.RE_PUNCT"
   ]
  },
  {
   "cell_type": "code",
   "execution_count": 58,
   "metadata": {},
   "outputs": [],
   "source": [
    "# Define and apply gensim filters\n",
    "filters = [\n",
    "           gsp.strip_tags, \n",
    "           gsp.strip_punctuation,\n",
    "           gsp.strip_multiple_whitespaces,\n",
    "           gsp.strip_numeric,\n",
    "           gsp.remove_stopwords, \n",
    "           gsp.strip_short, \n",
    "#            gsp.stem_text\n",
    "          ]\n",
    "\n",
    "def clean_text(s):\n",
    "    s = s.lower()\n",
    "    s = utils.to_unicode(s)\n",
    "    for f in filters:\n",
    "        s = f(s)\n",
    "    \n",
    "    s = s.split()\n",
    "    \n",
    "    return s\n",
    "\n",
    "# Custom transformer using gensim filters\n",
    "class TextCleaner(TransformerMixin):\n",
    "    def transform(self, X, **transform_params):\n",
    "        # Cleaning Text\n",
    "        return [clean_text(text) for text in X]\n",
    "\n",
    "    def fit(self, X, y=None, **fit_params):\n",
    "        return self\n",
    "\n",
    "    def get_params(self, deep=True):\n",
    "        return {}"
   ]
  },
  {
   "cell_type": "code",
   "execution_count": 59,
   "metadata": {},
   "outputs": [],
   "source": [
    "# Determine tags associated with each topic by checking if any existing tag is present in the topic top words\n",
    "def calc_lda_tags(lda_model, list_top, n_top_words = 15): \n",
    "    # Initialize tag list, each element will be the list of tags associated to a topic of the lda_model\n",
    "    lda_tags = []\n",
    "    \n",
    "    # For every topic\n",
    "    for i in range(0, lda_model.num_topics):\n",
    "        \n",
    "        topic_tags = []\n",
    "        \n",
    "        # Add all top words identical to a tag to topic_tags\n",
    "        for word, proba in lda_model.show_topic(i, topn = n_top_words):\n",
    "            if (list_top == word).sum() == 1:\n",
    "                topic_tags.append(word)\n",
    "        \n",
    "        lda_tags.append(topic_tags)\n",
    "    \n",
    "    return lda_tags"
   ]
  },
  {
   "cell_type": "code",
   "execution_count": 60,
   "metadata": {},
   "outputs": [],
   "source": [
    "# Predict a list of tags for a single document in bow format using the lda_model and the tags associated to each topic\n",
    "def lda_tag_pred(lda_model, document, lda_tags, min_proba = 0):\n",
    "    # Get document topics from lda_model\n",
    "    topics_pred = lda_model.get_document_topics(document)\n",
    "    \n",
    "    # Get topic tags for every topic with proba greater than min_proba and combine them in a list\n",
    "    tags_pred = []\n",
    "    for topic_nb, proba in topics_pred:\n",
    "        if proba > min_proba :\n",
    "            tags_pred.extend(lda_tags[topic_nb])\n",
    "    \n",
    "    # Remove potential duplicates\n",
    "    tags_pred = list(set(tags_pred))\n",
    "    \n",
    "    return tags_pred"
   ]
  },
  {
   "cell_type": "code",
   "execution_count": 61,
   "metadata": {},
   "outputs": [],
   "source": [
    "# Predict the tags for multiple documents using the lda_model, return a df identical in size to y\n",
    "def lda_y_pred(lda_model, X, y, id2word, lda_tags, mlb, min_proba = 0):\n",
    "    # Initialize output\n",
    "    y_pred = pd.DataFrame(0, columns = y.columns, index = y.index)\n",
    "    \n",
    "    # Create a corpus in bow format from X\n",
    "    X_prep = TextCleaner().transform(X)\n",
    "    corpus = [id2word.doc2bow(text) for text in X_prep]\n",
    "    \n",
    "    # Predict tags for every document in the corpus\n",
    "    tags_pred = []\n",
    "    for document in corpus: \n",
    "        tags_pred_tmp = lda_tag_pred(lda_model, document, lda_tags, min_proba = min_proba)\n",
    "        tags_pred.append(tags_pred_tmp)\n",
    "    \n",
    "    # Transform list of tags into a y_pred matrix using the MultiLabelBinarizer fitted earlier\n",
    "    # Only keep the columns present in y to have y_pred comparable to y\n",
    "    y_pred = pd.DataFrame(mlb.transform(tags_pred), columns = mlb.classes_, index = y.index).loc[:, y.columns]\n",
    "    \n",
    "    return y_pred"
   ]
  },
  {
   "cell_type": "code",
   "execution_count": 62,
   "metadata": {},
   "outputs": [],
   "source": [
    "# Prepare dictionary and corpus \n",
    "X_train_prep = TextCleaner().transform(X_train)\n",
    "id2word = Dictionary(X_train_prep)\n",
    "corpus = [id2word.doc2bow(document) for document in X_train_prep]"
   ]
  },
  {
   "cell_type": "markdown",
   "metadata": {},
   "source": [
    "## Identify best HP in semi supervised manner"
   ]
  },
  {
   "cell_type": "code",
   "execution_count": 66,
   "metadata": {},
   "outputs": [
    {
     "name": "stdout",
     "output_type": "stream",
     "text": [
      "num_topics : 5\n",
      "model trained\n",
      "\n",
      "num_topics : 10\n",
      "model trained\n",
      "\n",
      "num_topics : 15\n",
      "model trained\n",
      "\n",
      "num_topics : 20\n",
      "model trained\n",
      "\n",
      "num_topics : 25\n",
      "model trained\n",
      "\n",
      "num_topics : 30\n",
      "model trained\n",
      "\n",
      "num_topics : 40\n",
      "model trained\n",
      "\n",
      "num_topics : 50\n",
      "model trained\n",
      "\n",
      "num_topics : 60\n",
      "model trained\n",
      "\n",
      "num_topics : 70\n",
      "model trained\n",
      "\n",
      "num_topics : 80\n",
      "model trained\n",
      "\n",
      "num_topics : 90\n",
      "model trained\n",
      "\n",
      "num_topics : 100\n",
      "model trained\n",
      "\n",
      "num_topics : 120\n",
      "model trained\n",
      "\n",
      "num_topics : 140\n",
      "model trained\n",
      "\n",
      "Wall time: 2h 59min 47s\n"
     ]
    },
    {
     "data": {
      "image/png": "[encoded data removed]",
      "text/plain": [
       "<Figure size 432x288 with 1 Axes>"
      ]
     },
     "metadata": {
      "needs_background": "light"
     },
     "output_type": "display_data"
    }
   ],
   "source": [
    "%%time\n",
    "\n",
    "coherence = []\n",
    "max_jaccard = 0 \n",
    "\n",
    "list_num_topics = [5, 10, 15, 20, 25, 30, 40, 50, 60, 70, 80, 90, 100, 120, 140]\n",
    "num_topics_opt = 0\n",
    "\n",
    "list_n_top_words = [5, 10, 15, 20, 25, 30, 35]\n",
    "n_top_words_opt = 0\n",
    "\n",
    "list_min_proba = [0, 0.1, 0.2, 0.3, 0.4, 0.5]\n",
    "min_proba_opt = 0\n",
    "\n",
    "for num_topics in list_num_topics:\n",
    "    print('num_topics : {}'.format(num_topics))\n",
    "    # Train LDA model\n",
    "    lda_model = LdaMulticore(corpus = corpus, id2word = id2word, num_topics = num_topics, random_state = 100, \n",
    "                             chunksize = 100, passes = 10, per_word_topics = True)\n",
    "    print('model trained\\n')\n",
    "    \n",
    "    # Calculate topic coherence\n",
    "    coherence_model_lda = CoherenceModel(model = lda_model, texts = X_train_prep, dictionary = id2word, coherence = 'c_v')\n",
    "    coherence_lda = coherence_model_lda.get_coherence()\n",
    "    coherence.append(coherence_lda)\n",
    "    \n",
    "    # Apply semi supervised evaluation by calculating jaccard on validation set\n",
    "    for n_top_words in list_n_top_words: \n",
    "        lda_tags = calc_lda_tags(lda_model, list_top, n_top_words = n_top_words)\n",
    "        \n",
    "        for min_proba in list_min_proba:\n",
    "            y_pred = lda_y_pred(lda_model, X_val, y_val, id2word, lda_tags, mlb, min_proba = min_proba)\n",
    "            \n",
    "            jaccard = metrics.jaccard_score(y_val, y_pred, average = 'weighted')\n",
    "            \n",
    "            if jaccard > max_jaccard:\n",
    "                max_jaccard = jaccard\n",
    "                n_top_words_opt = n_top_words\n",
    "                min_proba_opt = min_proba\n",
    "                num_topics_opt = num_topics\n",
    "    \n",
    "plt.plot(list_num_topics, coherence, marker = 'o')\n",
    "plt.savefig('coherence.png', bbox_inches = 'tight')"
   ]
  },
  {
   "cell_type": "code",
   "execution_count": 67,
   "metadata": {},
   "outputs": [
    {
     "name": "stdout",
     "output_type": "stream",
     "text": [
      "max_jaccard : 0.12748057194617496\n",
      "num_topics_opt : 140\n",
      "n_top_words_opt : 25\n",
      "min_proba_opt : 0.1\n"
     ]
    }
   ],
   "source": [
    "print('max_jaccard :', max_jaccard)\n",
    "print('num_topics_opt :', num_topics_opt)\n",
    "print('n_top_words_opt :', n_top_words_opt)\n",
    "print('min_proba_opt :', min_proba_opt)"
   ]
  },
  {
   "cell_type": "code",
   "execution_count": 68,
   "metadata": {},
   "outputs": [
    {
     "name": "stdout",
     "output_type": "stream",
     "text": [
      "[0.4850366493684136, 0.5633358071857765, 0.5479291716319501, 0.5558690514044569, 0.5119494729027063, 0.5177750318723756, 0.5031064540218064, 0.4872769273317884, 0.4884226561264493, 0.4871291984989129, 0.5014168964422185, 0.49182358152779637, 0.48456667331938597, 0.47310930916029104, 0.4877878762474847]\n"
     ]
    }
   ],
   "source": [
    "print(coherence)"
   ]
  },
  {
   "cell_type": "markdown",
   "metadata": {},
   "source": [
    "## Train best model"
   ]
  },
  {
   "cell_type": "code",
   "execution_count": 69,
   "metadata": {},
   "outputs": [],
   "source": [
    "# num_topics_opt = 80 \n",
    "# n_top_words_opt = 15\n",
    "# min_proba_opt = 0"
   ]
  },
  {
   "cell_type": "code",
   "execution_count": 70,
   "metadata": {},
   "outputs": [
    {
     "name": "stdout",
     "output_type": "stream",
     "text": [
      "Wall time: 11min 45s\n"
     ]
    }
   ],
   "source": [
    "%%time\n",
    "\n",
    "lda_model = LdaMulticore(corpus = corpus, id2word = id2word, num_topics = num_topics_opt, random_state = 100, \n",
    "                         chunksize = 100, passes = 10, per_word_topics = True)"
   ]
  },
  {
   "cell_type": "code",
   "execution_count": 71,
   "metadata": {},
   "outputs": [],
   "source": [
    "lda_tags = calc_lda_tags(lda_model, list_top, n_top_words = n_top_words_opt)"
   ]
  },
  {
   "cell_type": "code",
   "execution_count": 72,
   "metadata": {},
   "outputs": [],
   "source": [
    "y_pred = lda_y_pred(lda_model, X_test, y_test, id2word, lda_tags, mlb, min_proba = min_proba_opt)\n",
    "\n",
    "jaccard = metrics.jaccard_score(y_test, y_pred, average = 'weighted')"
   ]
  },
  {
   "cell_type": "code",
   "execution_count": 85,
   "metadata": {},
   "outputs": [
    {
     "data": {
      "text/plain": [
       "0.11885396964779486"
      ]
     },
     "execution_count": 85,
     "metadata": {},
     "output_type": "execute_result"
    }
   ],
   "source": [
    "jaccard"
   ]
  },
  {
   "cell_type": "code",
   "execution_count": 88,
   "metadata": {},
   "outputs": [],
   "source": [
    "lda_model.save('lda_model')"
   ]
  },
  {
   "cell_type": "code",
   "execution_count": 90,
   "metadata": {},
   "outputs": [
    {
     "data": {
      "text/plain": [
       "['lda_tags.list']"
      ]
     },
     "execution_count": 90,
     "metadata": {},
     "output_type": "execute_result"
    }
   ],
   "source": [
    "joblib.dump(lda_tags, 'lda_tags.list')"
   ]
  },
  {
   "cell_type": "markdown",
   "metadata": {},
   "source": [
    "# Test model in real life conditions"
   ]
  },
  {
   "cell_type": "code",
   "execution_count": 74,
   "metadata": {},
   "outputs": [],
   "source": [
    "X_prod = ['''How to improve model loss and accuracy? \n",
    "\n",
    "I'm currently using a Unet model taken from the kaggle starter code, and modified a couple of parameters to train it on the TACO Dataset for litter. Right now, I'm at a loss as to how I should proceed with optimizing my model. I'm experiencing ridiculous amounts of loss and abysmal accuracy, and I'm not entirely sure which parameters would improve my model's accuracy and loss. The TACO dataset has 60 categories (61 including background). Am I doing something wrong? I'm pretty new to this so any references I could read or advice would be much appreciated.\n",
    "\n",
    "Here is the code for my model:\n",
    "\n",
    "IMG_WIDTH = 224\n",
    "IMG_HEIGHT = 224\n",
    "IMG_CHANNELS = 3\n",
    "epochs = 25\n",
    "validation_steps = val_size\n",
    "steps_per_epoch = train_size\n",
    "\n",
    "##Creating the model\n",
    "\n",
    "initializer = \"he_normal\"\n",
    "\n",
    "###Building U-Net Model\n",
    "\n",
    "##Input Layer\n",
    "inputs = Input((IMG_WIDTH, IMG_HEIGHT, IMG_CHANNELS))\n",
    "\n",
    "##Converting inputs to float\n",
    "s = tf.keras.layers.Lambda(lambda x: x / 255)(inputs)\n",
    "\n",
    "##Contraction\n",
    "c1 = tf.keras.layers.Conv2D(16, (3,3), activation=\"relu\", kernel_initializer=initializer, padding=\"same\")(s)\n",
    "c1 = tf.keras.layers.Dropout(0.1)(c1)\n",
    "c1 = tf.keras.layers.Conv2D(16, (3,3), activation=\"relu\", kernel_initializer=initializer, padding=\"same\")(c1)\n",
    "p1 = tf.keras.layers.MaxPooling2D((2,2))(c1)\n",
    "\n",
    "c2 = tf.keras.layers.Conv2D(32, (3,3), activation=\"relu\", kernel_initializer=initializer, padding=\"same\")(p1)\n",
    "c2 = tf.keras.layers.Dropout(0.1)(c2)\n",
    "c2 = tf.keras.layers.Conv2D(32, (3,3), activation=\"relu\", kernel_initializer=initializer, padding=\"same\")(c2)\n",
    "p2 = tf.keras.layers.MaxPooling2D((2,2))(c2)\n",
    "\n",
    "c3 = tf.keras.layers.Conv2D(64, (3,3), activation=\"relu\", kernel_initializer=initializer, padding=\"same\")(p2)\n",
    "c3 = tf.keras.layers.Dropout(0.2)(c3)\n",
    "c3 = tf.keras.layers.Conv2D(64, (3,3), activation=\"relu\", kernel_initializer=initializer, padding=\"same\")(c3)\n",
    "p3 = tf.keras.layers.MaxPooling2D((2,2))(c3)\n",
    "\n",
    "c4 = tf.keras.layers.Conv2D(128, (3,3), activation=\"relu\", kernel_initializer=initializer, padding=\"same\")(p3)\n",
    "c4 = tf.keras.layers.Dropout(0.2)(c4)\n",
    "c4 = tf.keras.layers.Conv2D(128, (3,3), activation=\"relu\", kernel_initializer=initializer, padding=\"same\")(c4)\n",
    "p4 = tf.keras.layers.MaxPooling2D((2,2))(c4)\n",
    "\n",
    "c5 = tf.keras.layers.Conv2D(256, (3,3), activation=\"relu\", kernel_initializer=initializer, padding=\"same\")(p4)\n",
    "c5 = tf.keras.layers.Dropout(0.3)(c5)\n",
    "c5 = tf.keras.layers.Conv2D(256, (3,3), activation=\"relu\", kernel_initializer=initializer, padding=\"same\")(c5)\n",
    "\n",
    "##Expansion\n",
    "u6 = tf.keras.layers.Conv2DTranspose(128, (2,2), strides=(2,2), padding=\"same\")(c5)\n",
    "u6 = tf.keras.layers.concatenate([u6, c4])\n",
    "c6 = tf.keras.layers.Conv2D(128, (3,3), activation=\"relu\", kernel_initializer=initializer, padding=\"same\")(u6)\n",
    "c6 = tf.keras.layers.Dropout(0.2)(c6)\n",
    "c6 = tf.keras.layers.Conv2D(128, (3,3), activation=\"relu\", kernel_initializer=initializer, padding=\"same\")(c6)\n",
    "\n",
    "u7 = tf.keras.layers.Conv2DTranspose(64, (2,2), strides=(2,2), padding=\"same\")(c6)\n",
    "u7 = tf.keras.layers.concatenate([u7, c3])\n",
    "c7 = tf.keras.layers.Conv2D(64, (3,3), activation=\"relu\", kernel_initializer=initializer, padding=\"same\")(u7)\n",
    "c7 = tf.keras.layers.Dropout(0.2)(c7)\n",
    "c7 = tf.keras.layers.Conv2D(64, (3,3), activation=\"relu\", kernel_initializer=initializer, padding=\"same\")(c7)\n",
    "\n",
    "u8 = tf.keras.layers.Conv2DTranspose(32, (2,2), strides=(2,2), padding=\"same\")(c7)\n",
    "u8 = tf.keras.layers.concatenate([u8, c2])\n",
    "c8 = tf.keras.layers.Conv2D(32, (3,3), activation=\"relu\", kernel_initializer=initializer, padding=\"same\")(u8)\n",
    "c8 = tf.keras.layers.Dropout(0.1)(c8)\n",
    "c8 = tf.keras.layers.Conv2D(32, (3,3), activation=\"relu\", kernel_initializer=initializer, padding=\"same\")(c8)\n",
    "\n",
    "u9 = tf.keras.layers.Conv2DTranspose(16, (2,2), strides=(2,2), padding=\"same\")(c8)\n",
    "u9 = tf.keras.layers.concatenate([u9, c1], axis=3)\n",
    "c9 = tf.keras.layers.Conv2D(16, (3,3), activation=\"relu\", kernel_initializer=initializer, padding=\"same\")(u9)\n",
    "c9 = tf.keras.layers.Dropout(0.1)(c9)\n",
    "c9 = tf.keras.layers.Conv2D(16, (3,3), activation=\"relu\", kernel_initializer=initializer, padding=\"same\")(c9)\n",
    "\n",
    "##Output Layer\n",
    "outputs = tf.keras.layers.Dense(61, activation=\"softmax\")(c9)\n",
    "\n",
    "##Defining Model\n",
    "model = tf.keras.Model(inputs=[inputs], outputs=[outputs])\n",
    "\n",
    "##Compiling Model\n",
    "model.compile(optimizer=\"adam\", loss=\"categorical_crossentropy\", metrics=['accuracy'])\n",
    "\n",
    "##Training the model\n",
    "results = model.fit(x = train_gen, \n",
    "                    validation_data = val_gen, \n",
    "                    steps_per_epoch = steps_per_epoch, \n",
    "                    validation_steps = validation_steps, \n",
    "                    epochs = epochs, \n",
    "                    verbose = True)\n",
    "\n",
    "And here is the accuracy and loss from the first epoch:\n",
    "\n",
    "Epoch 1/25\n",
    " 185/1200 [===>..........................] - ETA: 3:30:04 - loss: 388.0077 - accuracy: 9.0721e-04\n",
    "\n",
    "I'm currently using tensorboard, modelcheckpoint, and earlystopping for callbacks, but unfortunately I don't know how these will help with optimizing my model. Would a larger number of neurons per layer work?\n",
    "''']\n",
    "\n",
    "# real tags = python tensorflow machine-learning keras deep-learning\n",
    "# https://stackoverflow.com/questions/61927516/how-to-improve-model-loss-and-accuracy"
   ]
  },
  {
   "cell_type": "code",
   "execution_count": 75,
   "metadata": {},
   "outputs": [],
   "source": [
    "X_prod_prep = TextCleaner().transform(X_prod)\n",
    "corpus_prod = id2word.doc2bow(X_prod_prep[0])"
   ]
  },
  {
   "cell_type": "code",
   "execution_count": 76,
   "metadata": {},
   "outputs": [
    {
     "data": {
      "text/plain": [
       "['testing', 'vector', 'keras', 'tensorflow']"
      ]
     },
     "execution_count": 76,
     "metadata": {},
     "output_type": "execute_result"
    }
   ],
   "source": [
    "lda_tag_pred(lda_model, corpus_prod, lda_tags, min_proba = min_proba_opt)"
   ]
  },
  {
   "cell_type": "markdown",
   "metadata": {},
   "source": [
    "# Visualize LDA results using pyLDAvis"
   ]
  },
  {
   "cell_type": "markdown",
   "metadata": {},
   "source": [
    "Warning : pyLDAvis bug in Jupyter Lab causes it to hide toolbar buttons (cf. https://github.com/bmabey/pyLDAvis/issues/162). "
   ]
  },
  {
   "cell_type": "code",
   "execution_count": 34,
   "metadata": {},
   "outputs": [],
   "source": [
    "import pyLDAvis\n",
    "import pyLDAvis.gensim"
   ]
  },
  {
   "cell_type": "code",
   "execution_count": null,
   "metadata": {},
   "outputs": [],
   "source": [
    "# Visualize the topics\n",
    "pyLDAvis.enable_notebook()\n",
    "\n",
    "LDAvis_prepared = pyLDAvis.gensim.prepare(lda_model, corpus, id2word)\n",
    " \n",
    "LDAvis_prepared"
   ]
  },
  {
   "cell_type": "code",
   "execution_count": null,
   "metadata": {},
   "outputs": [],
   "source": []
  }
 ],
 "metadata": {
  "kernelspec": {
   "display_name": "Python 3",
   "language": "python",
   "name": "python3"
  },
  "language_info": {
   "codemirror_mode": {
    "name": "ipython",
    "version": 3
   },
   "file_extension": ".py",
   "mimetype": "text/x-python",
   "name": "python",
   "nbconvert_exporter": "python",
   "pygments_lexer": "ipython3",
   "version": "3.7.4"
  }
 },
 "nbformat": 4,
 "nbformat_minor": 4
}
