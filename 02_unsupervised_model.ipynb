{
 "cells": [
  {
   "cell_type": "code",
   "execution_count": 1,
   "metadata": {},
   "outputs": [],
   "source": [
    "import numpy as np\n",
    "import pandas as pd\n",
    "\n",
    "import seaborn as sns\n",
    "import matplotlib.pyplot as plt\n",
    "\n",
    "import eli5\n",
    "\n",
    "from sklearn.preprocessing import MultiLabelBinarizer\n",
    "\n",
    "from sklearn.model_selection import train_test_split\n",
    "from sklearn.model_selection import GridSearchCV\n",
    "\n",
    "from sklearn.pipeline import Pipeline\n",
    "from sklearn.base import TransformerMixin\n",
    "\n",
    "from sklearn.feature_extraction.text import TfidfVectorizer\n",
    "\n",
    "from skmultilearn.problem_transform import BinaryRelevance\n",
    "from sklearn.ensemble import RandomForestClassifier\n",
    "import xgboost as xgb\n",
    "\n",
    "import sklearn.metrics as metrics\n",
    "\n",
    "from gensim import utils\n",
    "import gensim.parsing.preprocessing as gsp\n",
    "\n",
    "import joblib"
   ]
  },
  {
   "cell_type": "markdown",
   "metadata": {},
   "source": [
    "# Functions"
   ]
  },
  {
   "cell_type": "code",
   "execution_count": 2,
   "metadata": {},
   "outputs": [],
   "source": [
    "# Définition d'une fonction permettant d'afficher la matrice de confusion et l'accuracy\n",
    "def plot_confusion_matrix(y_true, y_pred, labels = [0, 1]):\n",
    "    #Calculate accuracy and confusion matrix\n",
    "    accuracy = metrics.accuracy_score(y_true, y_pred)\n",
    "    cm = metrics.multilabel_confusion_matrix(y_true, y_pred)\n",
    "    \n",
    "    #Plot confusion matrix\n",
    "    plt.figure(figsize=(7,7))\n",
    "    ax = sns.heatmap(cm, annot= True, fmt=\".0f\", linewidths=.5, square = True, cmap = 'Blues_r', \n",
    "                     xticklabels = labels, yticklabels = labels);\n",
    "    bottom, top = ax.get_ylim()\n",
    "    ax.set_ylim(bottom + 0.1, top - 0.1)\n",
    "    plt.ylabel('Actual label');\n",
    "    plt.xlabel('Predicted label');\n",
    "    all_sample_title = 'Accuracy: {:.3f}'.format(accuracy)\n",
    "    plt.title(all_sample_title, size = 15);\n",
    "    return "
   ]
  },
  {
   "cell_type": "markdown",
   "metadata": {},
   "source": [
    "# Load data"
   ]
  },
  {
   "cell_type": "code",
   "execution_count": 3,
   "metadata": {},
   "outputs": [],
   "source": [
    "# Read csv and create list of tags \n",
    "df = pd.read_csv('in/StackOverflow_50000_posts.csv')\n",
    "df = df[['Id', 'Title', 'Body', 'Tags']]\n",
    "\n",
    "df['Post'] = df['Title'] + ' ' + df['Body']\n",
    "df.drop(columns = ['Title', 'Body'], inplace = True)\n",
    "\n",
    "df['Tags'] = df['Tags'].str.findall(r'<(.*?)>')\n",
    "df['nTags'] = df['Tags'].apply(len)"
   ]
  },
  {
   "cell_type": "code",
   "execution_count": 4,
   "metadata": {},
   "outputs": [],
   "source": [
    "df = df.loc[0:499, :]\n",
    "n_posts = df['Id'].count()"
   ]
  },
  {
   "cell_type": "code",
   "execution_count": 5,
   "metadata": {},
   "outputs": [],
   "source": [
    "# Create tags matrix of size n_obs * n_tags\n",
    "mlb = MultiLabelBinarizer(sparse_output = False)\n",
    "df_tags = pd.DataFrame(mlb.fit_transform(df['Tags']), columns = mlb.classes_, index = df.index)"
   ]
  },
  {
   "cell_type": "markdown",
   "metadata": {},
   "source": [
    "# Analyze tags"
   ]
  },
  {
   "cell_type": "code",
   "execution_count": 6,
   "metadata": {},
   "outputs": [],
   "source": [
    "# Sort df_tags per number of occurences \n",
    "df_tags_unique = pd.DataFrame(df_tags.sum(axis = 0).sort_values(ascending = False), columns = ['n_occurence'])\n",
    "df_tags = df_tags[df_tags_unique.index]"
   ]
  },
  {
   "cell_type": "code",
   "execution_count": 7,
   "metadata": {},
   "outputs": [
    {
     "data": {
      "text/plain": [
       "1496"
      ]
     },
     "execution_count": 7,
     "metadata": {},
     "output_type": "execute_result"
    }
   ],
   "source": [
    "# Calculate cumulative percentage of tags\n",
    "n_total_tags = df_tags.sum().sum()\n",
    "df_tags_unique['pct_tags'] = df_tags_unique.cumsum(axis = 0) / n_total_tags * 100\n",
    "n_total_tags"
   ]
  },
  {
   "cell_type": "code",
   "execution_count": 8,
   "metadata": {},
   "outputs": [
    {
     "data": {
      "text/plain": [
       "764"
      ]
     },
     "execution_count": 8,
     "metadata": {},
     "output_type": "execute_result"
    }
   ],
   "source": [
    "# Calculate what % of posts are covered by at least one tag \n",
    "df_tmp = pd.DataFrame(index = df_tags.index, columns = ['Tagged'])\n",
    "df_tmp['Tagged'] = 0\n",
    "\n",
    "for col in df_tags:\n",
    "    df_tmp['Tagged'] = df_tmp['Tagged'] | df_tags[col]\n",
    "    df_tags_unique.loc[col, 'n_posts'] = df_tmp['Tagged'].sum()\n",
    "    \n",
    "df_tags_unique['pct_posts'] = df_tags_unique['n_posts'] / n_posts * 100\n",
    "\n",
    "# Reset index to create tag col\n",
    "df_tags_unique = df_tags_unique.reset_index().rename(columns = {'index': 'tag'})\n",
    "\n",
    "n_tags_unique = df_tags_unique['tag'].count()\n",
    "n_tags_unique"
   ]
  },
  {
   "cell_type": "code",
   "execution_count": 9,
   "metadata": {},
   "outputs": [
    {
     "data": {
      "text/html": [
       "<div>\n",
       "<style scoped>\n",
       "    .dataframe tbody tr th:only-of-type {\n",
       "        vertical-align: middle;\n",
       "    }\n",
       "\n",
       "    .dataframe tbody tr th {\n",
       "        vertical-align: top;\n",
       "    }\n",
       "\n",
       "    .dataframe thead th {\n",
       "        text-align: right;\n",
       "    }\n",
       "</style>\n",
       "<table border=\"1\" class=\"dataframe\">\n",
       "  <thead>\n",
       "    <tr style=\"text-align: right;\">\n",
       "      <th></th>\n",
       "      <th>tag</th>\n",
       "      <th>n_occurence</th>\n",
       "      <th>pct_tags</th>\n",
       "      <th>n_posts</th>\n",
       "      <th>pct_posts</th>\n",
       "    </tr>\n",
       "  </thead>\n",
       "  <tbody>\n",
       "    <tr>\n",
       "      <td>0</td>\n",
       "      <td>python</td>\n",
       "      <td>89</td>\n",
       "      <td>5.949198</td>\n",
       "      <td>89.0</td>\n",
       "      <td>17.8</td>\n",
       "    </tr>\n",
       "    <tr>\n",
       "      <td>1</td>\n",
       "      <td>javascript</td>\n",
       "      <td>43</td>\n",
       "      <td>8.823529</td>\n",
       "      <td>132.0</td>\n",
       "      <td>26.4</td>\n",
       "    </tr>\n",
       "    <tr>\n",
       "      <td>2</td>\n",
       "      <td>java</td>\n",
       "      <td>37</td>\n",
       "      <td>11.296791</td>\n",
       "      <td>168.0</td>\n",
       "      <td>33.6</td>\n",
       "    </tr>\n",
       "    <tr>\n",
       "      <td>3</td>\n",
       "      <td>r</td>\n",
       "      <td>29</td>\n",
       "      <td>13.235294</td>\n",
       "      <td>197.0</td>\n",
       "      <td>39.4</td>\n",
       "    </tr>\n",
       "    <tr>\n",
       "      <td>4</td>\n",
       "      <td>python-3.x</td>\n",
       "      <td>24</td>\n",
       "      <td>14.839572</td>\n",
       "      <td>205.0</td>\n",
       "      <td>41.0</td>\n",
       "    </tr>\n",
       "    <tr>\n",
       "      <td>...</td>\n",
       "      <td>...</td>\n",
       "      <td>...</td>\n",
       "      <td>...</td>\n",
       "      <td>...</td>\n",
       "      <td>...</td>\n",
       "    </tr>\n",
       "    <tr>\n",
       "      <td>759</td>\n",
       "      <td>nio</td>\n",
       "      <td>1</td>\n",
       "      <td>99.732620</td>\n",
       "      <td>499.0</td>\n",
       "      <td>99.8</td>\n",
       "    </tr>\n",
       "    <tr>\n",
       "      <td>760</td>\n",
       "      <td>ngxs</td>\n",
       "      <td>1</td>\n",
       "      <td>99.799465</td>\n",
       "      <td>499.0</td>\n",
       "      <td>99.8</td>\n",
       "    </tr>\n",
       "    <tr>\n",
       "      <td>761</td>\n",
       "      <td>neural-network</td>\n",
       "      <td>1</td>\n",
       "      <td>99.866310</td>\n",
       "      <td>499.0</td>\n",
       "      <td>99.8</td>\n",
       "    </tr>\n",
       "    <tr>\n",
       "      <td>762</td>\n",
       "      <td>netlogo</td>\n",
       "      <td>1</td>\n",
       "      <td>99.933155</td>\n",
       "      <td>500.0</td>\n",
       "      <td>100.0</td>\n",
       "    </tr>\n",
       "    <tr>\n",
       "      <td>763</td>\n",
       "      <td>.net</td>\n",
       "      <td>1</td>\n",
       "      <td>100.000000</td>\n",
       "      <td>500.0</td>\n",
       "      <td>100.0</td>\n",
       "    </tr>\n",
       "  </tbody>\n",
       "</table>\n",
       "<p>764 rows × 5 columns</p>\n",
       "</div>"
      ],
      "text/plain": [
       "                tag  n_occurence    pct_tags  n_posts  pct_posts\n",
       "0            python           89    5.949198     89.0       17.8\n",
       "1        javascript           43    8.823529    132.0       26.4\n",
       "2              java           37   11.296791    168.0       33.6\n",
       "3                 r           29   13.235294    197.0       39.4\n",
       "4        python-3.x           24   14.839572    205.0       41.0\n",
       "..              ...          ...         ...      ...        ...\n",
       "759             nio            1   99.732620    499.0       99.8\n",
       "760            ngxs            1   99.799465    499.0       99.8\n",
       "761  neural-network            1   99.866310    499.0       99.8\n",
       "762         netlogo            1   99.933155    500.0      100.0\n",
       "763            .net            1  100.000000    500.0      100.0\n",
       "\n",
       "[764 rows x 5 columns]"
      ]
     },
     "execution_count": 9,
     "metadata": {},
     "output_type": "execute_result"
    }
   ],
   "source": [
    "df_tags_unique"
   ]
  },
  {
   "cell_type": "code",
   "execution_count": 10,
   "metadata": {},
   "outputs": [
    {
     "data": {
      "text/plain": [
       "<matplotlib.axes._subplots.AxesSubplot at 0x1f618f0cb08>"
      ]
     },
     "execution_count": 10,
     "metadata": {},
     "output_type": "execute_result"
    },
    {
     "data": {
      "image/png": "[encoded data removed]",
      "text/plain": [
       "<Figure size 432x288 with 1 Axes>"
      ]
     },
     "metadata": {
      "needs_background": "light"
     },
     "output_type": "display_data"
    }
   ],
   "source": [
    "sns.lineplot(x = df_tags_unique.index + 1, y = df_tags_unique['pct_tags'])"
   ]
  },
  {
   "cell_type": "code",
   "execution_count": 11,
   "metadata": {},
   "outputs": [
    {
     "data": {
      "text/plain": [
       "<matplotlib.axes._subplots.AxesSubplot at 0x1f61a05b288>"
      ]
     },
     "execution_count": 11,
     "metadata": {},
     "output_type": "execute_result"
    },
    {
     "data": {
      "image/png": "[encoded data removed]",
      "text/plain": [
       "<Figure size 432x288 with 1 Axes>"
      ]
     },
     "metadata": {
      "needs_background": "light"
     },
     "output_type": "display_data"
    }
   ],
   "source": [
    "sns.lineplot(x = df_tags_unique.index + 1, y = df_tags_unique['pct_posts'])"
   ]
  },
  {
   "cell_type": "code",
   "execution_count": 12,
   "metadata": {},
   "outputs": [
    {
     "data": {
      "text/plain": [
       "tag            dataframe\n",
       "n_occurence            9\n",
       "pct_tags         28.7433\n",
       "n_posts              320\n",
       "pct_posts             64\n",
       "Name: 19, dtype: object"
      ]
     },
     "execution_count": 12,
     "metadata": {},
     "output_type": "execute_result"
    }
   ],
   "source": [
    "df_tags_unique.loc[19, :]"
   ]
  },
  {
   "cell_type": "markdown",
   "metadata": {},
   "source": [
    "# Modelling"
   ]
  },
  {
   "cell_type": "code",
   "execution_count": 13,
   "metadata": {},
   "outputs": [],
   "source": [
    "# Define and apply gensim filters\n",
    "filters = [\n",
    "           gsp.strip_tags, \n",
    "           gsp.strip_punctuation,\n",
    "           gsp.strip_multiple_whitespaces,\n",
    "           gsp.strip_numeric,\n",
    "           gsp.remove_stopwords, \n",
    "#            gsp.strip_short, \n",
    "           gsp.stem_text\n",
    "          ]\n",
    "\n",
    "def clean_text(s):\n",
    "    s = s.lower()\n",
    "    s = utils.to_unicode(s)\n",
    "    for f in filters:\n",
    "        s = f(s)\n",
    "    return s\n",
    "\n",
    "# Custom transformer using gensim filters\n",
    "class TextCleaner(TransformerMixin):\n",
    "    def transform(self, X, **transform_params):\n",
    "        # Cleaning Text\n",
    "        return [clean_text(text) for text in X]\n",
    "\n",
    "    def fit(self, X, y=None, **fit_params):\n",
    "        return self\n",
    "\n",
    "    def get_params(self, deep=True):\n",
    "        return {}"
   ]
  },
  {
   "cell_type": "code",
   "execution_count": 14,
   "metadata": {},
   "outputs": [],
   "source": [
    "pip = Pipeline([('clean', TextCleaner()),\n",
    "                ('vect', TfidfVectorizer())\n",
    "               ])"
   ]
  },
  {
   "cell_type": "code",
   "execution_count": 15,
   "metadata": {},
   "outputs": [],
   "source": [
    "X = df.loc[:, 'Post']"
   ]
  },
  {
   "cell_type": "code",
   "execution_count": 16,
   "metadata": {},
   "outputs": [
    {
     "data": {
      "text/plain": [
       "Pipeline(memory=None,\n",
       "         steps=[('clean', <__main__.TextCleaner object at 0x000001F61A0474C8>),\n",
       "                ('vect',\n",
       "                 TfidfVectorizer(analyzer='word', binary=False,\n",
       "                                 decode_error='strict',\n",
       "                                 dtype=<class 'numpy.float64'>,\n",
       "                                 encoding='utf-8', input='content',\n",
       "                                 lowercase=True, max_df=1.0, max_features=None,\n",
       "                                 min_df=1, ngram_range=(1, 1), norm='l2',\n",
       "                                 preprocessor=None, smooth_idf=True,\n",
       "                                 stop_words=None, strip_accents=None,\n",
       "                                 sublinear_tf=False,\n",
       "                                 token_pattern='(?u)\\\\b\\\\w\\\\w+\\\\b',\n",
       "                                 tokenizer=None, use_idf=True,\n",
       "                                 vocabulary=None))],\n",
       "         verbose=False)"
      ]
     },
     "execution_count": 16,
     "metadata": {},
     "output_type": "execute_result"
    }
   ],
   "source": [
    "pip.fit(X)"
   ]
  },
  {
   "cell_type": "code",
   "execution_count": 17,
   "metadata": {},
   "outputs": [],
   "source": [
    "X_prep = pip.transform(X)"
   ]
  },
  {
   "cell_type": "code",
   "execution_count": 18,
   "metadata": {},
   "outputs": [
    {
     "data": {
      "text/plain": [
       "<500x7483 sparse matrix of type '<class 'numpy.float64'>'\n",
       "\twith 29148 stored elements in Compressed Sparse Row format>"
      ]
     },
     "execution_count": 18,
     "metadata": {},
     "output_type": "execute_result"
    }
   ],
   "source": [
    "X_prep"
   ]
  },
  {
   "cell_type": "code",
   "execution_count": 19,
   "metadata": {},
   "outputs": [],
   "source": [
    "from sklearn.decomposition import NMF, LatentDirichletAllocation"
   ]
  },
  {
   "cell_type": "code",
   "execution_count": 20,
   "metadata": {},
   "outputs": [],
   "source": [
    "n_samples = 500\n",
    "n_features = 7483\n",
    "n_components = 10\n",
    "n_top_words = 20"
   ]
  },
  {
   "cell_type": "code",
   "execution_count": 21,
   "metadata": {},
   "outputs": [],
   "source": [
    "nmf = NMF(n_components = n_components)"
   ]
  },
  {
   "cell_type": "code",
   "execution_count": 22,
   "metadata": {},
   "outputs": [
    {
     "data": {
      "text/plain": [
       "NMF(alpha=0.0, beta_loss='frobenius', init=None, l1_ratio=0.0, max_iter=200,\n",
       "    n_components=10, random_state=None, shuffle=False, solver='cd', tol=0.0001,\n",
       "    verbose=0)"
      ]
     },
     "execution_count": 22,
     "metadata": {},
     "output_type": "execute_result"
    }
   ],
   "source": [
    "nmf.fit(X_prep)"
   ]
  },
  {
   "cell_type": "code",
   "execution_count": 23,
   "metadata": {},
   "outputs": [],
   "source": [
    "def print_top_words(model, feature_names, n_top_words):\n",
    "    for topic_idx, topic in enumerate(model.components_):\n",
    "        message = \"Topic #%d: \" % topic_idx\n",
    "        message += \" \".join([feature_names[i]\n",
    "                             for i in topic.argsort()[:-n_top_words - 1:-1]])\n",
    "        print(message)\n",
    "    print()"
   ]
  },
  {
   "cell_type": "code",
   "execution_count": 24,
   "metadata": {},
   "outputs": [
    {
     "name": "stdout",
     "output_type": "stream",
     "text": [
      "\n",
      "Topics in NMF model (Frobenius norm):\n",
      "Topic #0: gt lt span button td class xml data type function form php rout mean style compon li templat mpg pin\n",
      "Topic #1: list valu string int function arrai foo map kei number return print void split code size check variabl want filter\n",
      "Topic #2: df datafram column pd valu na index nan data panda timestamp row time featur output seri np mean vector like\n",
      "Topic #3: id user movi item friend tabl privat entiti class person public demand select button gt databas creat custom mail statu\n",
      "Topic #4: div px class lt text imag gt span width margin background tr grid item img element height box color react\n",
      "Topic #5: java org springframework bean redi flag class groovi factori public unknown sourc aspectj spark method annot artifactori retrofit support com\n",
      "Topic #6: test error run app node js build messag aw email data com http us request api user modul respons script\n",
      "Topic #7: date column datetim null queri tabl valu obj type object field end data laravel subtract dt measur record calcul year\n",
      "Topic #8: file upload csv path program txt open python folder os attach number line header packag repo downloadurl myfil data write\n",
      "Topic #9: model self pygam product import player class def event comment repli screen game field banana wall save django delet sale\n",
      "\n"
     ]
    }
   ],
   "source": [
    "print(\"\\nTopics in NMF model (Frobenius norm):\")\n",
    "tfidf_feature_names = pip['vect'].get_feature_names()\n",
    "print_top_words(nmf, tfidf_feature_names, n_top_words)"
   ]
  },
  {
   "cell_type": "code",
   "execution_count": 25,
   "metadata": {},
   "outputs": [
    {
     "data": {
      "text/plain": [
       "LatentDirichletAllocation(batch_size=128, doc_topic_prior=None,\n",
       "                          evaluate_every=-1, learning_decay=0.7,\n",
       "                          learning_method='batch', learning_offset=10.0,\n",
       "                          max_doc_update_iter=100, max_iter=10,\n",
       "                          mean_change_tol=0.001, n_components=10, n_jobs=None,\n",
       "                          perp_tol=0.1, random_state=None,\n",
       "                          topic_word_prior=None, total_samples=1000000.0,\n",
       "                          verbose=0)"
      ]
     },
     "execution_count": 25,
     "metadata": {},
     "output_type": "execute_result"
    }
   ],
   "source": [
    "lda = LatentDirichletAllocation(n_components = n_components)\n",
    "lda.fit(X_prep)"
   ]
  },
  {
   "cell_type": "code",
   "execution_count": 26,
   "metadata": {},
   "outputs": [
    {
     "name": "stdout",
     "output_type": "stream",
     "text": [
      "\n",
      "Topics in LDA:\n",
      "Topic #0: valu gt arrai data row df lt num text list count output graph result column screen check new var span\n",
      "Topic #1: id gt lt column date user data tabl time queri function valu creat like item select end class product code\n",
      "Topic #2: null user player tabl data privat id grid print lt set tweet line queri gt python interv return lat long\n",
      "Topic #3: index gt column list titl datafram df valu pd id mean np friend address arrai function import mpg ftp job\n",
      "Topic #4: karat valu repo seri file email banana char write codekit contact program delet fr th string uiview myccpobject timex jest\n",
      "Topic #5: gt lt div class valu id file type string kei text data event date field html item user properti error\n",
      "Topic #6: gt lt file int function run error test py number python id class path td string list work user script\n",
      "Topic #7: movi map aw testschip list std xmm weight string uri sort gyp assert gt defin warn projector person dask channel\n",
      "Topic #8: gt lt px self class test com width function valu http const public navig bar model return imag button error\n",
      "Topic #9: java angular error import aw model save test compon email plot respons file messag datetim referr except folder tmp line\n",
      "\n"
     ]
    }
   ],
   "source": [
    "print(\"\\nTopics in LDA:\")\n",
    "tfidf_feature_names = pip['vect'].get_feature_names()\n",
    "print_top_words(lda, tfidf_feature_names, n_top_words)"
   ]
  },
  {
   "cell_type": "code",
   "execution_count": null,
   "metadata": {},
   "outputs": [],
   "source": []
  }
 ],
 "metadata": {
  "kernelspec": {
   "display_name": "Python 3",
   "language": "python",
   "name": "python3"
  },
  "language_info": {
   "codemirror_mode": {
    "name": "ipython",
    "version": 3
   },
   "file_extension": ".py",
   "mimetype": "text/x-python",
   "name": "python",
   "nbconvert_exporter": "python",
   "pygments_lexer": "ipython3",
   "version": "3.7.4"
  }
 },
 "nbformat": 4,
 "nbformat_minor": 4
}
