{
 "cells": [
  {
   "cell_type": "code",
   "execution_count": 57,
   "metadata": {},
   "outputs": [],
   "source": [
    "import numpy as np\n",
    "import pandas as pd\n",
    "\n",
    "import seaborn as sns\n",
    "import matplotlib.pyplot as plt\n",
    "\n",
    "from sklearn.preprocessing import MultiLabelBinarizer\n",
    "\n",
    "from sklearn.model_selection import train_test_split\n",
    "from sklearn.model_selection import GridSearchCV\n",
    "\n",
    "from sklearn.pipeline import Pipeline\n",
    "from sklearn.base import TransformerMixin\n",
    "\n",
    "import sklearn.metrics as metrics\n",
    "\n",
    "from gensim import utils\n",
    "import gensim.parsing.preprocessing as gsp\n",
    "\n",
    "import joblib\n",
    "\n",
    "from gensim.corpora import Dictionary\n",
    "from gensim.models import LdaModel\n",
    "from gensim.models import CoherenceModel\n",
    "\n",
    "import re"
   ]
  },
  {
   "cell_type": "markdown",
   "metadata": {},
   "source": [
    "# Functions"
   ]
  },
  {
   "cell_type": "markdown",
   "metadata": {},
   "source": [
    "# Load data"
   ]
  },
  {
   "cell_type": "code",
   "execution_count": 2,
   "metadata": {},
   "outputs": [],
   "source": [
    "# Read csv and create list of tags \n",
    "df = pd.read_csv('in/StackOverflow_50000_posts.csv')\n",
    "df = df[['Id', 'Title', 'Body', 'Tags']]\n",
    "\n",
    "df['Post'] = df['Title'] + ' ' + df['Body']\n",
    "df.drop(columns = ['Title', 'Body'], inplace = True)\n",
    "\n",
    "df['Tags'] = df['Tags'].str.findall(r'<(.*?)>')\n",
    "df['nTags'] = df['Tags'].apply(len)"
   ]
  },
  {
   "cell_type": "code",
   "execution_count": 3,
   "metadata": {},
   "outputs": [],
   "source": [
    "# df = df.loc[0:7999, :]\n",
    "n_posts = df['Id'].count()"
   ]
  },
  {
   "cell_type": "code",
   "execution_count": 4,
   "metadata": {},
   "outputs": [],
   "source": [
    "# Create tags matrix of size n_obs * n_tags\n",
    "mlb = MultiLabelBinarizer(sparse_output = False)\n",
    "df_tags = pd.DataFrame(mlb.fit_transform(df['Tags']), columns = mlb.classes_, index = df.index)"
   ]
  },
  {
   "cell_type": "markdown",
   "metadata": {},
   "source": [
    "# Analyze tags"
   ]
  },
  {
   "cell_type": "code",
   "execution_count": 5,
   "metadata": {},
   "outputs": [],
   "source": [
    "# Sort df_tags per number of occurences \n",
    "df_tags_unique = pd.DataFrame(df_tags.sum(axis = 0).sort_values(ascending = False), columns = ['n_occurence'])\n",
    "df_tags = df_tags[df_tags_unique.index]"
   ]
  },
  {
   "cell_type": "code",
   "execution_count": 6,
   "metadata": {},
   "outputs": [
    {
     "data": {
      "text/plain": [
       "153341"
      ]
     },
     "execution_count": 6,
     "metadata": {},
     "output_type": "execute_result"
    }
   ],
   "source": [
    "# Calculate cumulative percentage of tags\n",
    "n_total_tags = df_tags.sum().sum()\n",
    "df_tags_unique['pct_tags'] = df_tags_unique.cumsum(axis = 0) / n_total_tags * 100\n",
    "n_total_tags"
   ]
  },
  {
   "cell_type": "code",
   "execution_count": 7,
   "metadata": {},
   "outputs": [
    {
     "data": {
      "text/plain": [
       "13379"
      ]
     },
     "execution_count": 7,
     "metadata": {},
     "output_type": "execute_result"
    }
   ],
   "source": [
    "# Calculate what % of posts are covered by at least one tag \n",
    "df_tmp = pd.DataFrame(index = df_tags.index, columns = ['Tagged'])\n",
    "df_tmp['Tagged'] = 0\n",
    "\n",
    "for col in df_tags:\n",
    "    df_tmp['Tagged'] = df_tmp['Tagged'] | df_tags[col]\n",
    "    df_tags_unique.loc[col, 'n_posts'] = df_tmp['Tagged'].sum()\n",
    "    \n",
    "df_tags_unique['pct_posts'] = df_tags_unique['n_posts'] / n_posts * 100\n",
    "\n",
    "# Reset index to create tag col\n",
    "df_tags_unique = df_tags_unique.reset_index().rename(columns = {'index': 'tag'})\n",
    "\n",
    "n_tags_unique = df_tags_unique['tag'].count()\n",
    "n_tags_unique"
   ]
  },
  {
   "cell_type": "code",
   "execution_count": 8,
   "metadata": {},
   "outputs": [
    {
     "data": {
      "text/html": [
       "<div>\n",
       "<style scoped>\n",
       "    .dataframe tbody tr th:only-of-type {\n",
       "        vertical-align: middle;\n",
       "    }\n",
       "\n",
       "    .dataframe tbody tr th {\n",
       "        vertical-align: top;\n",
       "    }\n",
       "\n",
       "    .dataframe thead th {\n",
       "        text-align: right;\n",
       "    }\n",
       "</style>\n",
       "<table border=\"1\" class=\"dataframe\">\n",
       "  <thead>\n",
       "    <tr style=\"text-align: right;\">\n",
       "      <th></th>\n",
       "      <th>tag</th>\n",
       "      <th>n_occurence</th>\n",
       "      <th>pct_tags</th>\n",
       "      <th>n_posts</th>\n",
       "      <th>pct_posts</th>\n",
       "    </tr>\n",
       "  </thead>\n",
       "  <tbody>\n",
       "    <tr>\n",
       "      <td>0</td>\n",
       "      <td>python</td>\n",
       "      <td>7619</td>\n",
       "      <td>4.968665</td>\n",
       "      <td>7619.0</td>\n",
       "      <td>15.238</td>\n",
       "    </tr>\n",
       "    <tr>\n",
       "      <td>1</td>\n",
       "      <td>javascript</td>\n",
       "      <td>5654</td>\n",
       "      <td>8.655872</td>\n",
       "      <td>13237.0</td>\n",
       "      <td>26.474</td>\n",
       "    </tr>\n",
       "    <tr>\n",
       "      <td>2</td>\n",
       "      <td>java</td>\n",
       "      <td>3604</td>\n",
       "      <td>11.006189</td>\n",
       "      <td>16796.0</td>\n",
       "      <td>33.592</td>\n",
       "    </tr>\n",
       "    <tr>\n",
       "      <td>3</td>\n",
       "      <td>c#</td>\n",
       "      <td>2722</td>\n",
       "      <td>12.781317</td>\n",
       "      <td>19460.0</td>\n",
       "      <td>38.920</td>\n",
       "    </tr>\n",
       "    <tr>\n",
       "      <td>4</td>\n",
       "      <td>html</td>\n",
       "      <td>2298</td>\n",
       "      <td>14.279938</td>\n",
       "      <td>20540.0</td>\n",
       "      <td>41.080</td>\n",
       "    </tr>\n",
       "    <tr>\n",
       "      <td>...</td>\n",
       "      <td>...</td>\n",
       "      <td>...</td>\n",
       "      <td>...</td>\n",
       "      <td>...</td>\n",
       "      <td>...</td>\n",
       "    </tr>\n",
       "    <tr>\n",
       "      <td>13374</td>\n",
       "      <td>modulus</td>\n",
       "      <td>1</td>\n",
       "      <td>99.997391</td>\n",
       "      <td>50000.0</td>\n",
       "      <td>100.000</td>\n",
       "    </tr>\n",
       "    <tr>\n",
       "      <td>13375</td>\n",
       "      <td>mojo-useragent</td>\n",
       "      <td>1</td>\n",
       "      <td>99.998044</td>\n",
       "      <td>50000.0</td>\n",
       "      <td>100.000</td>\n",
       "    </tr>\n",
       "    <tr>\n",
       "      <td>13376</td>\n",
       "      <td>mollie</td>\n",
       "      <td>1</td>\n",
       "      <td>99.998696</td>\n",
       "      <td>50000.0</td>\n",
       "      <td>100.000</td>\n",
       "    </tr>\n",
       "    <tr>\n",
       "      <td>13377</td>\n",
       "      <td>mongo-dart</td>\n",
       "      <td>1</td>\n",
       "      <td>99.999348</td>\n",
       "      <td>50000.0</td>\n",
       "      <td>100.000</td>\n",
       "    </tr>\n",
       "    <tr>\n",
       "      <td>13378</td>\n",
       "      <td>.a</td>\n",
       "      <td>1</td>\n",
       "      <td>100.000000</td>\n",
       "      <td>50000.0</td>\n",
       "      <td>100.000</td>\n",
       "    </tr>\n",
       "  </tbody>\n",
       "</table>\n",
       "<p>13379 rows × 5 columns</p>\n",
       "</div>"
      ],
      "text/plain": [
       "                  tag  n_occurence    pct_tags  n_posts  pct_posts\n",
       "0              python         7619    4.968665   7619.0     15.238\n",
       "1          javascript         5654    8.655872  13237.0     26.474\n",
       "2                java         3604   11.006189  16796.0     33.592\n",
       "3                  c#         2722   12.781317  19460.0     38.920\n",
       "4                html         2298   14.279938  20540.0     41.080\n",
       "...               ...          ...         ...      ...        ...\n",
       "13374         modulus            1   99.997391  50000.0    100.000\n",
       "13375  mojo-useragent            1   99.998044  50000.0    100.000\n",
       "13376          mollie            1   99.998696  50000.0    100.000\n",
       "13377      mongo-dart            1   99.999348  50000.0    100.000\n",
       "13378              .a            1  100.000000  50000.0    100.000\n",
       "\n",
       "[13379 rows x 5 columns]"
      ]
     },
     "execution_count": 8,
     "metadata": {},
     "output_type": "execute_result"
    }
   ],
   "source": [
    "df_tags_unique"
   ]
  },
  {
   "cell_type": "code",
   "execution_count": 9,
   "metadata": {},
   "outputs": [
    {
     "data": {
      "text/plain": [
       "<matplotlib.axes._subplots.AxesSubplot at 0x280185ccfc8>"
      ]
     },
     "execution_count": 9,
     "metadata": {},
     "output_type": "execute_result"
    },
    {
     "data": {
      "image/png": "[encoded data removed]",
      "text/plain": [
       "<Figure size 432x288 with 1 Axes>"
      ]
     },
     "metadata": {
      "needs_background": "light"
     },
     "output_type": "display_data"
    }
   ],
   "source": [
    "sns.lineplot(x = df_tags_unique.index + 1, y = df_tags_unique['pct_tags'])"
   ]
  },
  {
   "cell_type": "code",
   "execution_count": 10,
   "metadata": {},
   "outputs": [
    {
     "data": {
      "text/plain": [
       "<matplotlib.axes._subplots.AxesSubplot at 0x2801868d708>"
      ]
     },
     "execution_count": 10,
     "metadata": {},
     "output_type": "execute_result"
    },
    {
     "data": {
      "image/png": "[encoded data removed]",
      "text/plain": [
       "<Figure size 432x288 with 1 Axes>"
      ]
     },
     "metadata": {
      "needs_background": "light"
     },
     "output_type": "display_data"
    }
   ],
   "source": [
    "sns.lineplot(x = df_tags_unique.index + 1, y = df_tags_unique['pct_posts'])"
   ]
  },
  {
   "cell_type": "code",
   "execution_count": 11,
   "metadata": {},
   "outputs": [
    {
     "data": {
      "text/plain": [
       "tag            optimization\n",
       "n_occurence              96\n",
       "pct_tags            56.8485\n",
       "n_posts               45464\n",
       "pct_posts            90.928\n",
       "Name: 199, dtype: object"
      ]
     },
     "execution_count": 11,
     "metadata": {},
     "output_type": "execute_result"
    }
   ],
   "source": [
    "df_tags_unique.loc[199, :]"
   ]
  },
  {
   "cell_type": "markdown",
   "metadata": {},
   "source": [
    "# Modelling"
   ]
  },
  {
   "cell_type": "markdown",
   "metadata": {},
   "source": [
    "## First subset of tags to limit the data set and get an unbiased test set"
   ]
  },
  {
   "cell_type": "code",
   "execution_count": 12,
   "metadata": {},
   "outputs": [],
   "source": [
    "list_top = df_tags_unique.loc[0:199, 'tag']\n",
    "\n",
    "df_tags = df_tags[list_top]\n",
    "\n",
    "keep_index = df_tags[df_tags.sum(axis = 1) != 0].index\n",
    "\n",
    "X = df.loc[keep_index, 'Post']\n",
    "y = df_tags.loc[keep_index, :]"
   ]
  },
  {
   "cell_type": "code",
   "execution_count": 13,
   "metadata": {},
   "outputs": [],
   "source": [
    "# Define a train and test set based on those tags\n",
    "X_train, X_test, y_train, y_test = train_test_split(X, y, test_size = 1500, random_state = 0)"
   ]
  },
  {
   "cell_type": "markdown",
   "metadata": {},
   "source": [
    "## Function to define tag and number of observations subset for train and val"
   ]
  },
  {
   "cell_type": "code",
   "execution_count": 14,
   "metadata": {},
   "outputs": [],
   "source": [
    "# Create a train and validation set, optionally with a limited number of tags \n",
    "def train_val_tag_subset(X_train, y_train, df_tags_unique, n_tags, n_train, n_val): \n",
    "    # Limit train and val to tag subset \n",
    "    list_top = df_tags_unique.loc[0:n_tags-1, 'tag']\n",
    "    y_train = y_train[list_top]\n",
    "    keep_index = y_train[y_train.sum(axis = 1) != 0].index\n",
    "    X_train = X_train[keep_index]\n",
    "    y_train = y_train.loc[keep_index, :]\n",
    "    \n",
    "    # Limit size of train and val\n",
    "    X_train = X_train.sample(n = n_train + n_val, random_state = 55)\n",
    "    y_train = y_train.loc[X_train.index, :]\n",
    "    \n",
    "    # Define a train and test set based on those tags\n",
    "    X_train, X_val, y_train, y_val = train_test_split(X_train, y_train, test_size = n_val, random_state = 0)\n",
    "    \n",
    "    return X_train, y_train, X_val, y_val"
   ]
  },
  {
   "cell_type": "code",
   "execution_count": 15,
   "metadata": {},
   "outputs": [],
   "source": [
    "# Create train and validation set of given size\n",
    "# No tag subset used in unsupervised learning\n",
    "X_train, y_train, X_val, y_val = train_val_tag_subset(X_train, y_train, df_tags_unique, \n",
    "                                                      n_tags = len(list_top), n_train = 2500, n_val = 2000)"
   ]
  },
  {
   "cell_type": "markdown",
   "metadata": {},
   "source": [
    "## Model"
   ]
  },
  {
   "cell_type": "code",
   "execution_count": 16,
   "metadata": {},
   "outputs": [],
   "source": [
    "# Remove '-' from RE_PUNCT in order to adapt the gensim strip_punctuation filter \n",
    "#  and conserve words like machine-learning, deep-learning ... "
   ]
  },
  {
   "cell_type": "code",
   "execution_count": 17,
   "metadata": {},
   "outputs": [
    {
     "data": {
      "text/plain": [
       "re.compile(r'([!\"\\#\\$%\\&\\'\\(\\)\\*\\+,\\-\\./:;<=>\\?@\\[\\\\\\]\\^_`\\{\\|\\}\\~])+',\n",
       "re.UNICODE)"
      ]
     },
     "execution_count": 17,
     "metadata": {},
     "output_type": "execute_result"
    }
   ],
   "source": [
    "gsp.RE_PUNCT"
   ]
  },
  {
   "cell_type": "code",
   "execution_count": 18,
   "metadata": {},
   "outputs": [],
   "source": [
    "punctuation = r\"\"\"!\"#$%&'()*+,./:;<=>?@[\\]^_`{|}~\"\"\"\n",
    "gsp.RE_PUNCT = re.compile(r'([%s])+' % re.escape(punctuation), re.UNICODE)"
   ]
  },
  {
   "cell_type": "code",
   "execution_count": 19,
   "metadata": {},
   "outputs": [
    {
     "data": {
      "text/plain": [
       "re.compile(r'([!\"\\#\\$%\\&\\'\\(\\)\\*\\+,\\./:;<=>\\?@\\[\\\\\\]\\^_`\\{\\|\\}\\~])+',\n",
       "re.UNICODE)"
      ]
     },
     "execution_count": 19,
     "metadata": {},
     "output_type": "execute_result"
    }
   ],
   "source": [
    "gsp.RE_PUNCT"
   ]
  },
  {
   "cell_type": "code",
   "execution_count": 20,
   "metadata": {},
   "outputs": [],
   "source": [
    "# Define and apply gensim filters\n",
    "filters = [\n",
    "           gsp.strip_tags, \n",
    "           gsp.strip_punctuation,\n",
    "           gsp.strip_multiple_whitespaces,\n",
    "           gsp.strip_numeric,\n",
    "           gsp.remove_stopwords, \n",
    "           gsp.strip_short, \n",
    "#            gsp.stem_text\n",
    "          ]\n",
    "\n",
    "def clean_text(s):\n",
    "    s = s.lower()\n",
    "    s = utils.to_unicode(s)\n",
    "    for f in filters:\n",
    "        s = f(s)\n",
    "    \n",
    "    s = s.split()\n",
    "    \n",
    "    return s\n",
    "\n",
    "# Custom transformer using gensim filters\n",
    "class TextCleaner(TransformerMixin):\n",
    "    def transform(self, X, **transform_params):\n",
    "        # Cleaning Text\n",
    "        return [clean_text(text) for text in X]\n",
    "\n",
    "    def fit(self, X, y=None, **fit_params):\n",
    "        return self\n",
    "\n",
    "    def get_params(self, deep=True):\n",
    "        return {}"
   ]
  },
  {
   "cell_type": "code",
   "execution_count": 21,
   "metadata": {},
   "outputs": [
    {
     "data": {
      "text/plain": [
       "[['machine-learning']]"
      ]
     },
     "execution_count": 21,
     "metadata": {},
     "output_type": "execute_result"
    }
   ],
   "source": [
    "Z = ['machine-learning']\n",
    "TextCleaner().transform(Z)"
   ]
  },
  {
   "cell_type": "code",
   "execution_count": 22,
   "metadata": {},
   "outputs": [],
   "source": [
    "data_lemmatized = TextCleaner().transform(X_train)\n",
    "\n",
    "# Create Dictionary\n",
    "id2word = Dictionary(data_lemmatized)\n",
    "\n",
    "# Create Corpus\n",
    "texts = data_lemmatized\n",
    "\n",
    "# Term Document Frequency\n",
    "corpus = [id2word.doc2bow(text) for text in texts]"
   ]
  },
  {
   "cell_type": "code",
   "execution_count": 23,
   "metadata": {},
   "outputs": [
    {
     "data": {
      "text/plain": [
       "['php',\n",
       " 'create',\n",
       " 'formatted',\n",
       " 'xml',\n",
       " 'sql',\n",
       " 'result',\n",
       " 'problem',\n",
       " 'struggling',\n",
       " 'days',\n",
       " 'create']"
      ]
     },
     "execution_count": 23,
     "metadata": {},
     "output_type": "execute_result"
    }
   ],
   "source": [
    "# Text is in the form of a list of words \n",
    "data_lemmatized[55][0:10]"
   ]
  },
  {
   "cell_type": "code",
   "execution_count": 24,
   "metadata": {},
   "outputs": [
    {
     "name": "stdout",
     "output_type": "stream",
     "text": [
      "[[(0, 2), (1, 1), (2, 1), (3, 4), (4, 3), (5, 1), (6, 1), (7, 1), (8, 2), (9, 1), (10, 3), (11, 3), (12, 1), (13, 1), (14, 1), (15, 1), (16, 1), (17, 2), (18, 4), (19, 2), (20, 2), (21, 5), (22, 2), (23, 2), (24, 2), (25, 2), (26, 2), (27, 3), (28, 1), (29, 1), (30, 1), (31, 1), (32, 15), (33, 1), (34, 1), (35, 2), (36, 2), (37, 1), (38, 2), (39, 1), (40, 1), (41, 2), (42, 1), (43, 1), (44, 2), (45, 3), (46, 1), (47, 2), (48, 1), (49, 12), (50, 1), (51, 1), (52, 1), (53, 1), (54, 1), (55, 1), (56, 1), (57, 6), (58, 1), (59, 1), (60, 1), (61, 1), (62, 1), (63, 10), (64, 1), (65, 2), (66, 2), (67, 2), (68, 1), (69, 1), (70, 4), (71, 1), (72, 4), (73, 4), (74, 1), (75, 2), (76, 1), (77, 4), (78, 1), (79, 2), (80, 2), (81, 1), (82, 1), (83, 5), (84, 3), (85, 2), (86, 2), (87, 4), (88, 2), (89, 1), (90, 2), (91, 4), (92, 1), (93, 1), (94, 4), (95, 1), (96, 1), (97, 1), (98, 2), (99, 2), (100, 2), (101, 2), (102, 1), (103, 1), (104, 1), (105, 1), (106, 12), (107, 2), (108, 1), (109, 2), (110, 4), (111, 2), (112, 2), (113, 1), (114, 2), (115, 1), (116, 1), (117, 1), (118, 3), (119, 1), (120, 3), (121, 1), (122, 2), (123, 16), (124, 1), (125, 1), (126, 4), (127, 1), (128, 2), (129, 6), (130, 1), (131, 1), (132, 1), (133, 1), (134, 1), (135, 2), (136, 2), (137, 3), (138, 2), (139, 1), (140, 2), (141, 1), (142, 3), (143, 2), (144, 2)]]\n"
     ]
    }
   ],
   "source": [
    "# Corpus representation counts the frequency of each word in each text \n",
    "print(corpus[:1])"
   ]
  },
  {
   "cell_type": "code",
   "execution_count": 25,
   "metadata": {},
   "outputs": [
    {
     "name": "stdout",
     "output_type": "stream",
     "text": [
      "Wall time: 32.3 s\n"
     ]
    }
   ],
   "source": [
    "%%time\n",
    "\n",
    "# Build LDA model\n",
    "lda_model = LdaModel(corpus = corpus, id2word=id2word, num_topics = 50, random_state = 100, \n",
    "                         chunksize = 100, passes = 10, per_word_topics = True)"
   ]
  },
  {
   "cell_type": "code",
   "execution_count": 26,
   "metadata": {},
   "outputs": [
    {
     "data": {
      "text/plain": [
       "[(41,\n",
       "  '0.098*\"style\" + 0.094*\"position\" + 0.083*\"padding\" + 0.077*\"relative\" + 0.072*\"z-index\" + 0.013*\"class\" + 0.011*\"flutter\" + 0.010*\"icon\" + 0.010*\"anonymous\" + 0.010*\"crossorigin\"'),\n",
       " (20,\n",
       "  '0.028*\"version\" + 0.015*\"build\" + 0.014*\"bin\" + 0.014*\"usr\" + 0.012*\"command\" + 0.011*\"error\" + 0.010*\"artifactid\" + 0.009*\"following\" + 0.009*\"example\" + 0.008*\"http\"'),\n",
       " (38,\n",
       "  '0.066*\"view\" + 0.045*\"text\" + 0.026*\"style\" + 0.023*\"color\" + 0.016*\"size\" + 0.012*\"value\" + 0.012*\"grid\" + 0.012*\"var\" + 0.011*\"image\" + 0.011*\"index\"'),\n",
       " (7,\n",
       "  '0.190*\"self\" + 0.027*\"pygame\" + 0.027*\"def\" + 0.023*\"event\" + 0.018*\"init\" + 0.015*\"color\" + 0.014*\"key\" + 0.012*\"rect\" + 0.012*\"pyqt\" + 0.012*\"import\"'),\n",
       " (46,\n",
       "  '0.145*\"image\" + 0.022*\"img\" + 0.021*\"png\" + 0.020*\"message\" + 0.019*\"user\" + 0.016*\"images\" + 0.013*\"groups\" + 0.012*\"open\" + 0.011*\"nice\" + 0.010*\"true\"'),\n",
       " (11,\n",
       "  '0.019*\"folder\" + 0.017*\"click\" + 0.017*\"button\" + 0.017*\"message\" + 0.015*\"new\" + 0.011*\"certificate\" + 0.009*\"checkout\" + 0.008*\"private\" + 0.007*\"like\" + 0.007*\"history\"'),\n",
       " (37,\n",
       "  '0.015*\"string\" + 0.014*\"new\" + 0.013*\"extension\" + 0.012*\"println\" + 0.012*\"stack\" + 0.011*\"characters\" + 0.010*\"board\" + 0.009*\"serial\" + 0.008*\"add\" + 0.007*\"client\"'),\n",
       " (29,\n",
       "  '0.069*\"data\" + 0.041*\"list\" + 0.035*\"column\" + 0.024*\"frame\" + 0.021*\"formula\" + 0.020*\"names\" + 0.020*\"row\" + 0.014*\"want\" + 0.014*\"columns\" + 0.014*\"dataframe\"'),\n",
       " (21,\n",
       "  '0.029*\"const\" + 0.021*\"console\" + 0.020*\"log\" + 0.016*\"app\" + 0.014*\"error\" + 0.013*\"object\" + 0.011*\"err\" + 0.011*\"json\" + 0.011*\"return\" + 0.009*\"function\"'),\n",
       " (43,\n",
       "  '0.089*\"div\" + 0.087*\"class\" + 0.023*\"button\" + 0.022*\"html\" + 0.020*\"span\" + 0.019*\"input\" + 0.018*\"type\" + 0.018*\"text\" + 0.015*\"href\" + 0.014*\"script\"'),\n",
       " (18,\n",
       "  '0.066*\"public\" + 0.034*\"return\" + 0.033*\"class\" + 0.026*\"int\" + 0.022*\"private\" + 0.017*\"string\" + 0.013*\"void\" + 0.011*\"case\" + 0.010*\"room\" + 0.010*\"item\"'),\n",
       " (28,\n",
       "  '0.027*\"file\" + 0.020*\"rec\" + 0.019*\"create\" + 0.015*\"sqlalchemy\" + 0.013*\"index\" + 0.012*\"user\" + 0.009*\"null\" + 0.009*\"apache\" + 0.008*\"sql\" + 0.008*\"read\"'),\n",
       " (12,\n",
       "  '0.108*\"var\" + 0.047*\"function\" + 0.028*\"obj\" + 0.023*\"sum\" + 0.020*\"git\" + 0.018*\"result\" + 0.012*\"nan\" + 0.011*\"length\" + 0.011*\"mov\" + 0.010*\"values\"'),\n",
       " (22,\n",
       "  '0.035*\"async\" + 0.030*\"return\" + 0.028*\"await\" + 0.027*\"tag\" + 0.022*\"word\" + 0.018*\"promise\" + 0.017*\"data\" + 0.014*\"new\" + 0.011*\"length\" + 0.010*\"biginteger\"'),\n",
       " (48,\n",
       "  '0.054*\"int\" + 0.025*\"number\" + 0.024*\"return\" + 0.021*\"char\" + 0.019*\"printf\" + 0.017*\"array\" + 0.014*\"code\" + 0.013*\"amp\" + 0.013*\"test\" + 0.010*\"null\"'),\n",
       " (40,\n",
       "  '0.027*\"array\" + 0.020*\"list\" + 0.011*\"loop\" + 0.010*\"object\" + 0.010*\"key\" + 0.009*\"high\" + 0.009*\"low\" + 0.009*\"map\" + 0.008*\"way\" + 0.008*\"pygame\"'),\n",
       " (26,\n",
       "  '0.022*\"queue\" + 0.020*\"end\" + 0.016*\"request\" + 0.015*\"def\" + 0.014*\"process\" + 0.012*\"let\" + 0.012*\"data\" + 0.012*\"true\" + 0.011*\"self\" + 0.010*\"member\"'),\n",
       " (24,\n",
       "  '0.017*\"include\" + 0.010*\"openssl\" + 0.010*\"graph\" + 0.009*\"path\" + 0.008*\"error\" + 0.008*\"app\" + 0.007*\"char\" + 0.007*\"mingw\" + 0.006*\"screen\" + 0.006*\"size\"'),\n",
       " (33,\n",
       "  '0.027*\"this-\" + 0.026*\"session\" + 0.017*\"len\" + 0.015*\"function\" + 0.014*\"update\" + 0.013*\"hex\" + 0.013*\"cart\" + 0.013*\"asc\" + 0.012*\"post\" + 0.012*\"query\"'),\n",
       " (32,\n",
       "  '0.051*\"time\" + 0.011*\"like\" + 0.010*\"score\" + 0.009*\"input\" + 0.009*\"data\" + 0.009*\"output\" + 0.008*\"value\" + 0.008*\"print\" + 0.008*\"import\" + 0.007*\"use\"')]"
      ]
     },
     "execution_count": 26,
     "metadata": {},
     "output_type": "execute_result"
    }
   ],
   "source": [
    "lda_model.print_topics()"
   ]
  },
  {
   "cell_type": "code",
   "execution_count": 27,
   "metadata": {},
   "outputs": [
    {
     "name": "stdout",
     "output_type": "stream",
     "text": [
      "Coherence Score:  0.416829893767364\n",
      "Wall time: 11.5 s\n"
     ]
    }
   ],
   "source": [
    "%%time\n",
    "\n",
    "# Compute Coherence Score\n",
    "coherence_model_lda = CoherenceModel(model = lda_model, texts = data_lemmatized, dictionary = id2word, coherence = 'c_v')\n",
    "\n",
    "coherence_lda = coherence_model_lda.get_coherence()\n",
    "\n",
    "print('Coherence Score: ', coherence_lda)"
   ]
  },
  {
   "cell_type": "code",
   "execution_count": 28,
   "metadata": {},
   "outputs": [
    {
     "data": {
      "text/plain": [
       "[['api', 'database'],\n",
       " ['list', 'plot', 'html', 'function'],\n",
       " [],\n",
       " ['string', 'class', 'list'],\n",
       " ['javafx', 'java'],\n",
       " ['android', 'string'],\n",
       " ['file', 'php', 'python', 'function'],\n",
       " ['pygame'],\n",
       " ['xml'],\n",
       " ['list', 'json'],\n",
       " ['java', 'gradle', 'api', 'string'],\n",
       " ['file'],\n",
       " ['function', 'git'],\n",
       " ['python', 'file', 'tensorflow', 'django'],\n",
       " [],\n",
       " ['azure', 'string'],\n",
       " [],\n",
       " ['matrix', 'dataframe', 'list'],\n",
       " ['class', 'string', 'list', 'java'],\n",
       " ['android', 'string', 'datetime', 'file'],\n",
       " ['http', 'file', 'maven'],\n",
       " ['object', 'json', 'function'],\n",
       " [],\n",
       " ['testing'],\n",
       " [],\n",
       " ['dictionary'],\n",
       " ['class'],\n",
       " ['vector', 'string'],\n",
       " ['file', 'sql', 'http'],\n",
       " ['list', 'dataframe', 'class'],\n",
       " ['class'],\n",
       " ['excel', 'http'],\n",
       " ['function'],\n",
       " ['function'],\n",
       " [],\n",
       " ['image', 'keras', 'html'],\n",
       " ['class', 'string'],\n",
       " ['string'],\n",
       " ['image'],\n",
       " ['date', 'java', 'string', 'spring'],\n",
       " ['list', 'object', 'pygame'],\n",
       " ['class', 'flutter'],\n",
       " ['sql', 'database'],\n",
       " ['class', 'html', 'css'],\n",
       " [],\n",
       " [],\n",
       " ['image'],\n",
       " ['java', 'android'],\n",
       " [],\n",
       " ['function']]"
      ]
     },
     "execution_count": 28,
     "metadata": {},
     "output_type": "execute_result"
    }
   ],
   "source": [
    "# Determine tags associated with each topic by checking if any existing tag is present in the topic top words\n",
    "def calc_lda_tags(lda_model, list_top, n_top_words = 15): \n",
    "    # Initialize tag list, each element will be the list of tags associated to a topic of the lda_model\n",
    "    lda_tags = []\n",
    "    \n",
    "    # For every topic\n",
    "    for i in range(0, lda_model.num_topics):\n",
    "        \n",
    "        topic_tags = []\n",
    "        \n",
    "        # Add all top words identical to a tag to topic_tags\n",
    "        for word, proba in lda_model.show_topic(i, topn = n_top_words):\n",
    "            if (list_top == word).sum() == 1:\n",
    "                topic_tags.append(word)\n",
    "        \n",
    "        lda_tags.append(topic_tags)\n",
    "    \n",
    "    return lda_tags\n",
    "\n",
    "lda_tags = calc_lda_tags(lda_model, list_top, n_top_words = 15)\n",
    "lda_tags"
   ]
  },
  {
   "cell_type": "code",
   "execution_count": 29,
   "metadata": {},
   "outputs": [],
   "source": [
    "# Predict a list of tags for a single document in bow format using the lda_model and the tags associated to each topic\n",
    "def lda_tag_pred(lda_model, document, lda_tags, min_proba = 0):\n",
    "    # Get document topics from lda_model\n",
    "    topics_pred = lda_model.get_document_topics(document)\n",
    "    \n",
    "    # Get topic tags for every topic with proba greater than min_proba and combine them in a list\n",
    "    tags_pred = []\n",
    "    for topic_nb, proba in topics_pred:\n",
    "        if proba > min_proba :\n",
    "            tags_pred.extend(lda_tags[topic_nb])\n",
    "    \n",
    "    # Remove potential duplicates\n",
    "    tags_pred = list(set(tags_pred))\n",
    "    \n",
    "    return tags_pred"
   ]
  },
  {
   "cell_type": "code",
   "execution_count": 30,
   "metadata": {},
   "outputs": [],
   "source": [
    "# Predict the tags for multiple documents using the lda_model, return a df identical in size to y\n",
    "def lda_y_pred(lda_model, X, y, id2word, lda_tags, mlb, min_proba = 0):\n",
    "    # Initialize output\n",
    "    y_pred = pd.DataFrame(0, columns = y.columns, index = y.index)\n",
    "    \n",
    "    # Create a corpus in bow format from X\n",
    "    X_prep = TextCleaner().transform(X)\n",
    "    corpus = [id2word.doc2bow(text) for text in X_prep]\n",
    "    \n",
    "    # Predict tags for every document in the corpus\n",
    "    tags_pred = []\n",
    "    for document in corpus: \n",
    "        tags_pred_tmp = lda_tag_pred(lda_model, document, lda_tags, min_proba = min_proba)\n",
    "        tags_pred.append(tags_pred_tmp)\n",
    "    \n",
    "    # Transform list of tags into a y_pred matrix using the MultiLabelBinarizer fitted earlier\n",
    "    # Only keep the columns present in y to have y_pred comparable to y\n",
    "    y_pred = pd.DataFrame(mlb.transform(tags_pred), columns = mlb.classes_, index = y.index).loc[:, y.columns]\n",
    "    \n",
    "    return y_pred"
   ]
  },
  {
   "cell_type": "code",
   "execution_count": 31,
   "metadata": {},
   "outputs": [],
   "source": [
    "y_pred = lda_y_pred(lda_model, X_test, y_test, id2word, lda_tags, mlb, min_proba = 0.2)"
   ]
  },
  {
   "cell_type": "code",
   "execution_count": 32,
   "metadata": {},
   "outputs": [
    {
     "data": {
      "text/html": [
       "<div>\n",
       "<style scoped>\n",
       "    .dataframe tbody tr th:only-of-type {\n",
       "        vertical-align: middle;\n",
       "    }\n",
       "\n",
       "    .dataframe tbody tr th {\n",
       "        vertical-align: top;\n",
       "    }\n",
       "\n",
       "    .dataframe thead th {\n",
       "        text-align: right;\n",
       "    }\n",
       "</style>\n",
       "<table border=\"1\" class=\"dataframe\">\n",
       "  <thead>\n",
       "    <tr style=\"text-align: right;\">\n",
       "      <th></th>\n",
       "      <th>python</th>\n",
       "      <th>javascript</th>\n",
       "      <th>java</th>\n",
       "      <th>c#</th>\n",
       "      <th>html</th>\n",
       "      <th>r</th>\n",
       "      <th>c++</th>\n",
       "      <th>pandas</th>\n",
       "      <th>android</th>\n",
       "      <th>php</th>\n",
       "      <th>...</th>\n",
       "      <th>parsing</th>\n",
       "      <th>http</th>\n",
       "      <th>angular-material</th>\n",
       "      <th>aggregation-framework</th>\n",
       "      <th>ansible</th>\n",
       "      <th>axios</th>\n",
       "      <th>matrix</th>\n",
       "      <th>ionic-framework</th>\n",
       "      <th>angular8</th>\n",
       "      <th>optimization</th>\n",
       "    </tr>\n",
       "  </thead>\n",
       "  <tbody>\n",
       "    <tr>\n",
       "      <td>42104</td>\n",
       "      <td>0</td>\n",
       "      <td>0</td>\n",
       "      <td>0</td>\n",
       "      <td>0</td>\n",
       "      <td>0</td>\n",
       "      <td>0</td>\n",
       "      <td>0</td>\n",
       "      <td>0</td>\n",
       "      <td>0</td>\n",
       "      <td>0</td>\n",
       "      <td>...</td>\n",
       "      <td>0</td>\n",
       "      <td>0</td>\n",
       "      <td>0</td>\n",
       "      <td>0</td>\n",
       "      <td>0</td>\n",
       "      <td>0</td>\n",
       "      <td>0</td>\n",
       "      <td>0</td>\n",
       "      <td>0</td>\n",
       "      <td>0</td>\n",
       "    </tr>\n",
       "    <tr>\n",
       "      <td>16052</td>\n",
       "      <td>0</td>\n",
       "      <td>0</td>\n",
       "      <td>0</td>\n",
       "      <td>0</td>\n",
       "      <td>0</td>\n",
       "      <td>0</td>\n",
       "      <td>0</td>\n",
       "      <td>0</td>\n",
       "      <td>0</td>\n",
       "      <td>0</td>\n",
       "      <td>...</td>\n",
       "      <td>0</td>\n",
       "      <td>0</td>\n",
       "      <td>0</td>\n",
       "      <td>0</td>\n",
       "      <td>0</td>\n",
       "      <td>0</td>\n",
       "      <td>0</td>\n",
       "      <td>0</td>\n",
       "      <td>0</td>\n",
       "      <td>0</td>\n",
       "    </tr>\n",
       "    <tr>\n",
       "      <td>37308</td>\n",
       "      <td>0</td>\n",
       "      <td>0</td>\n",
       "      <td>0</td>\n",
       "      <td>0</td>\n",
       "      <td>0</td>\n",
       "      <td>0</td>\n",
       "      <td>0</td>\n",
       "      <td>0</td>\n",
       "      <td>0</td>\n",
       "      <td>0</td>\n",
       "      <td>...</td>\n",
       "      <td>0</td>\n",
       "      <td>0</td>\n",
       "      <td>0</td>\n",
       "      <td>0</td>\n",
       "      <td>0</td>\n",
       "      <td>0</td>\n",
       "      <td>0</td>\n",
       "      <td>0</td>\n",
       "      <td>0</td>\n",
       "      <td>0</td>\n",
       "    </tr>\n",
       "    <tr>\n",
       "      <td>3458</td>\n",
       "      <td>0</td>\n",
       "      <td>0</td>\n",
       "      <td>0</td>\n",
       "      <td>0</td>\n",
       "      <td>0</td>\n",
       "      <td>0</td>\n",
       "      <td>0</td>\n",
       "      <td>0</td>\n",
       "      <td>0</td>\n",
       "      <td>0</td>\n",
       "      <td>...</td>\n",
       "      <td>0</td>\n",
       "      <td>0</td>\n",
       "      <td>0</td>\n",
       "      <td>0</td>\n",
       "      <td>0</td>\n",
       "      <td>0</td>\n",
       "      <td>1</td>\n",
       "      <td>0</td>\n",
       "      <td>0</td>\n",
       "      <td>0</td>\n",
       "    </tr>\n",
       "    <tr>\n",
       "      <td>8358</td>\n",
       "      <td>0</td>\n",
       "      <td>0</td>\n",
       "      <td>0</td>\n",
       "      <td>0</td>\n",
       "      <td>0</td>\n",
       "      <td>0</td>\n",
       "      <td>0</td>\n",
       "      <td>0</td>\n",
       "      <td>0</td>\n",
       "      <td>0</td>\n",
       "      <td>...</td>\n",
       "      <td>0</td>\n",
       "      <td>0</td>\n",
       "      <td>0</td>\n",
       "      <td>0</td>\n",
       "      <td>0</td>\n",
       "      <td>0</td>\n",
       "      <td>0</td>\n",
       "      <td>0</td>\n",
       "      <td>0</td>\n",
       "      <td>0</td>\n",
       "    </tr>\n",
       "    <tr>\n",
       "      <td>...</td>\n",
       "      <td>...</td>\n",
       "      <td>...</td>\n",
       "      <td>...</td>\n",
       "      <td>...</td>\n",
       "      <td>...</td>\n",
       "      <td>...</td>\n",
       "      <td>...</td>\n",
       "      <td>...</td>\n",
       "      <td>...</td>\n",
       "      <td>...</td>\n",
       "      <td>...</td>\n",
       "      <td>...</td>\n",
       "      <td>...</td>\n",
       "      <td>...</td>\n",
       "      <td>...</td>\n",
       "      <td>...</td>\n",
       "      <td>...</td>\n",
       "      <td>...</td>\n",
       "      <td>...</td>\n",
       "      <td>...</td>\n",
       "      <td>...</td>\n",
       "    </tr>\n",
       "    <tr>\n",
       "      <td>17062</td>\n",
       "      <td>0</td>\n",
       "      <td>0</td>\n",
       "      <td>1</td>\n",
       "      <td>0</td>\n",
       "      <td>0</td>\n",
       "      <td>0</td>\n",
       "      <td>0</td>\n",
       "      <td>0</td>\n",
       "      <td>0</td>\n",
       "      <td>0</td>\n",
       "      <td>...</td>\n",
       "      <td>0</td>\n",
       "      <td>0</td>\n",
       "      <td>0</td>\n",
       "      <td>0</td>\n",
       "      <td>0</td>\n",
       "      <td>0</td>\n",
       "      <td>0</td>\n",
       "      <td>0</td>\n",
       "      <td>0</td>\n",
       "      <td>0</td>\n",
       "    </tr>\n",
       "    <tr>\n",
       "      <td>10526</td>\n",
       "      <td>0</td>\n",
       "      <td>0</td>\n",
       "      <td>0</td>\n",
       "      <td>0</td>\n",
       "      <td>0</td>\n",
       "      <td>0</td>\n",
       "      <td>0</td>\n",
       "      <td>0</td>\n",
       "      <td>0</td>\n",
       "      <td>0</td>\n",
       "      <td>...</td>\n",
       "      <td>0</td>\n",
       "      <td>0</td>\n",
       "      <td>0</td>\n",
       "      <td>0</td>\n",
       "      <td>0</td>\n",
       "      <td>0</td>\n",
       "      <td>0</td>\n",
       "      <td>0</td>\n",
       "      <td>0</td>\n",
       "      <td>0</td>\n",
       "    </tr>\n",
       "    <tr>\n",
       "      <td>40717</td>\n",
       "      <td>0</td>\n",
       "      <td>0</td>\n",
       "      <td>0</td>\n",
       "      <td>0</td>\n",
       "      <td>0</td>\n",
       "      <td>0</td>\n",
       "      <td>0</td>\n",
       "      <td>0</td>\n",
       "      <td>0</td>\n",
       "      <td>0</td>\n",
       "      <td>...</td>\n",
       "      <td>0</td>\n",
       "      <td>0</td>\n",
       "      <td>0</td>\n",
       "      <td>0</td>\n",
       "      <td>0</td>\n",
       "      <td>0</td>\n",
       "      <td>0</td>\n",
       "      <td>0</td>\n",
       "      <td>0</td>\n",
       "      <td>0</td>\n",
       "    </tr>\n",
       "    <tr>\n",
       "      <td>35391</td>\n",
       "      <td>0</td>\n",
       "      <td>0</td>\n",
       "      <td>0</td>\n",
       "      <td>0</td>\n",
       "      <td>0</td>\n",
       "      <td>0</td>\n",
       "      <td>0</td>\n",
       "      <td>0</td>\n",
       "      <td>0</td>\n",
       "      <td>0</td>\n",
       "      <td>...</td>\n",
       "      <td>0</td>\n",
       "      <td>0</td>\n",
       "      <td>0</td>\n",
       "      <td>0</td>\n",
       "      <td>0</td>\n",
       "      <td>0</td>\n",
       "      <td>0</td>\n",
       "      <td>0</td>\n",
       "      <td>0</td>\n",
       "      <td>0</td>\n",
       "    </tr>\n",
       "    <tr>\n",
       "      <td>22984</td>\n",
       "      <td>0</td>\n",
       "      <td>0</td>\n",
       "      <td>0</td>\n",
       "      <td>0</td>\n",
       "      <td>0</td>\n",
       "      <td>0</td>\n",
       "      <td>0</td>\n",
       "      <td>0</td>\n",
       "      <td>0</td>\n",
       "      <td>0</td>\n",
       "      <td>...</td>\n",
       "      <td>0</td>\n",
       "      <td>1</td>\n",
       "      <td>0</td>\n",
       "      <td>0</td>\n",
       "      <td>0</td>\n",
       "      <td>0</td>\n",
       "      <td>0</td>\n",
       "      <td>0</td>\n",
       "      <td>0</td>\n",
       "      <td>0</td>\n",
       "    </tr>\n",
       "  </tbody>\n",
       "</table>\n",
       "<p>1500 rows × 200 columns</p>\n",
       "</div>"
      ],
      "text/plain": [
       "       python  javascript  java  c#  html  r  c++  pandas  android  php  ...  \\\n",
       "42104       0           0     0   0     0  0    0       0        0    0  ...   \n",
       "16052       0           0     0   0     0  0    0       0        0    0  ...   \n",
       "37308       0           0     0   0     0  0    0       0        0    0  ...   \n",
       "3458        0           0     0   0     0  0    0       0        0    0  ...   \n",
       "8358        0           0     0   0     0  0    0       0        0    0  ...   \n",
       "...       ...         ...   ...  ..   ... ..  ...     ...      ...  ...  ...   \n",
       "17062       0           0     1   0     0  0    0       0        0    0  ...   \n",
       "10526       0           0     0   0     0  0    0       0        0    0  ...   \n",
       "40717       0           0     0   0     0  0    0       0        0    0  ...   \n",
       "35391       0           0     0   0     0  0    0       0        0    0  ...   \n",
       "22984       0           0     0   0     0  0    0       0        0    0  ...   \n",
       "\n",
       "       parsing  http  angular-material  aggregation-framework  ansible  axios  \\\n",
       "42104        0     0                 0                      0        0      0   \n",
       "16052        0     0                 0                      0        0      0   \n",
       "37308        0     0                 0                      0        0      0   \n",
       "3458         0     0                 0                      0        0      0   \n",
       "8358         0     0                 0                      0        0      0   \n",
       "...        ...   ...               ...                    ...      ...    ...   \n",
       "17062        0     0                 0                      0        0      0   \n",
       "10526        0     0                 0                      0        0      0   \n",
       "40717        0     0                 0                      0        0      0   \n",
       "35391        0     0                 0                      0        0      0   \n",
       "22984        0     1                 0                      0        0      0   \n",
       "\n",
       "       matrix  ionic-framework  angular8  optimization  \n",
       "42104       0                0         0             0  \n",
       "16052       0                0         0             0  \n",
       "37308       0                0         0             0  \n",
       "3458        1                0         0             0  \n",
       "8358        0                0         0             0  \n",
       "...       ...              ...       ...           ...  \n",
       "17062       0                0         0             0  \n",
       "10526       0                0         0             0  \n",
       "40717       0                0         0             0  \n",
       "35391       0                0         0             0  \n",
       "22984       0                0         0             0  \n",
       "\n",
       "[1500 rows x 200 columns]"
      ]
     },
     "execution_count": 32,
     "metadata": {},
     "output_type": "execute_result"
    }
   ],
   "source": [
    "y_pred"
   ]
  },
  {
   "cell_type": "code",
   "execution_count": 33,
   "metadata": {},
   "outputs": [
    {
     "data": {
      "text/plain": [
       "4070"
      ]
     },
     "execution_count": 33,
     "metadata": {},
     "output_type": "execute_result"
    }
   ],
   "source": [
    "y_pred.sum().sum()"
   ]
  },
  {
   "cell_type": "code",
   "execution_count": 34,
   "metadata": {},
   "outputs": [
    {
     "name": "stderr",
     "output_type": "stream",
     "text": [
      "C:\\Users\\Alex\\Anaconda3\\lib\\site-packages\\sklearn\\metrics\\classification.py:778: UndefinedMetricWarning: Jaccard is ill-defined and being set to 0.0 in labels with no true or predicted samples.\n",
      "  'true or predicted', average, ('jaccard',))\n"
     ]
    },
    {
     "data": {
      "text/plain": [
       "0.04762834734311543"
      ]
     },
     "execution_count": 34,
     "metadata": {},
     "output_type": "execute_result"
    }
   ],
   "source": [
    "jaccard = metrics.jaccard_score(y_test, y_pred, average = 'weighted')\n",
    "jaccard"
   ]
  },
  {
   "cell_type": "code",
   "execution_count": 54,
   "metadata": {},
   "outputs": [
    {
     "name": "stdout",
     "output_type": "stream",
     "text": [
      "num_topics : 5\n",
      "\n",
      "num_topics : 15\n",
      "\n",
      "Wall time: 1min 12s\n"
     ]
    },
    {
     "data": {
      "image/png": "[encoded data removed]",
      "text/plain": [
       "<Figure size 432x288 with 1 Axes>"
      ]
     },
     "metadata": {
      "needs_background": "light"
     },
     "output_type": "display_data"
    }
   ],
   "source": [
    "%%time\n",
    "\n",
    "# Evaluate coherence for different values of num_topics\n",
    "coherence = []\n",
    "list_num_topics = [5, 10, 15, 20, 25, 30, 40, 50, 60, 70, 80, 90, 100, 120, 140, 160]\n",
    "list_num_topics = [5, 15]\n",
    "num_topics_opt = 0\n",
    "\n",
    "max_jaccard = 0 \n",
    "list_n_top_words = [5, 10, 15]\n",
    "n_top_words_opt = 0\n",
    "list_min_proba = [0, 0.1, 0.2]\n",
    "min_proba_opt = 0\n",
    "\n",
    "for num_topics in list_num_topics:\n",
    "    print('num_topics : {}\\n'.format(num_topics))\n",
    "    # Train LDA model\n",
    "    lda_model = LdaModel(corpus = corpus, id2word = id2word, num_topics = num_topics, random_state = 100, \n",
    "                             chunksize = 100, passes = 10, per_word_topics = True)\n",
    "    \n",
    "    # Calculate topic coherence\n",
    "    coherence_model_lda = CoherenceModel(model = lda_model, texts = data_lemmatized, dictionary = id2word, coherence = 'c_v')\n",
    "    coherence_lda = coherence_model_lda.get_coherence()\n",
    "    coherence.append(coherence_lda)\n",
    "    \n",
    "    # Apply semi supervised evaluation by calculating jaccard on validation set\n",
    "    for n_top_words in list_n_top_words: \n",
    "        lda_tags = calc_lda_tags(lda_model, list_top, n_top_words = n_top_words)\n",
    "        \n",
    "        for min_proba in list_min_proba:\n",
    "            y_pred = lda_y_pred(lda_model, X_val, y_val, id2word, lda_tags, mlb, min_proba = min_proba)\n",
    "            \n",
    "            jaccard = metrics.jaccard_score(y_val, y_pred, average = 'weighted')\n",
    "            \n",
    "            if jaccard > max_jaccard:\n",
    "                max_jaccard = jaccard\n",
    "                n_top_words_opt = n_top_words\n",
    "                min_proba_opt = min_proba\n",
    "                num_topics_opt = num_topics\n",
    "    \n",
    "plt.plot(list_num_topics, coherence, marker = 'o')\n",
    "plt.savefig('coherence.png', bbox_inches = 'tight')"
   ]
  },
  {
   "cell_type": "code",
   "execution_count": 55,
   "metadata": {},
   "outputs": [
    {
     "name": "stdout",
     "output_type": "stream",
     "text": [
      "max_jaccard : 0.03588684710668714\n",
      "num_topics_opt : 15\n",
      "n_top_words_opt : 15\n",
      "min_proba_opt : 0.1\n"
     ]
    }
   ],
   "source": [
    "print('max_jaccard :', max_jaccard)\n",
    "print('num_topics_opt :', num_topics_opt)\n",
    "print('n_top_words_opt :', n_top_words_opt)\n",
    "print('min_proba_opt :', min_proba_opt)"
   ]
  },
  {
   "cell_type": "code",
   "execution_count": 56,
   "metadata": {},
   "outputs": [
    {
     "name": "stdout",
     "output_type": "stream",
     "text": [
      "[0.4329104853994779, 0.44386020807108256]\n"
     ]
    }
   ],
   "source": [
    "print(coherence)"
   ]
  },
  {
   "cell_type": "markdown",
   "metadata": {},
   "source": [
    "# Test model in real life conditions"
   ]
  },
  {
   "cell_type": "code",
   "execution_count": 32,
   "metadata": {},
   "outputs": [],
   "source": [
    "X_test = ['''How to improve model loss and accuracy? \n",
    "\n",
    "I'm currently using a Unet model taken from the kaggle starter code, and modified a couple of parameters to train it on the TACO Dataset for litter. Right now, I'm at a loss as to how I should proceed with optimizing my model. I'm experiencing ridiculous amounts of loss and abysmal accuracy, and I'm not entirely sure which parameters would improve my model's accuracy and loss. The TACO dataset has 60 categories (61 including background). Am I doing something wrong? I'm pretty new to this so any references I could read or advice would be much appreciated.\n",
    "\n",
    "Here is the code for my model:\n",
    "\n",
    "IMG_WIDTH = 224\n",
    "IMG_HEIGHT = 224\n",
    "IMG_CHANNELS = 3\n",
    "epochs = 25\n",
    "validation_steps = val_size\n",
    "steps_per_epoch = train_size\n",
    "\n",
    "##Creating the model\n",
    "\n",
    "initializer = \"he_normal\"\n",
    "\n",
    "###Building U-Net Model\n",
    "\n",
    "##Input Layer\n",
    "inputs = Input((IMG_WIDTH, IMG_HEIGHT, IMG_CHANNELS))\n",
    "\n",
    "##Converting inputs to float\n",
    "s = tf.keras.layers.Lambda(lambda x: x / 255)(inputs)\n",
    "\n",
    "##Contraction\n",
    "c1 = tf.keras.layers.Conv2D(16, (3,3), activation=\"relu\", kernel_initializer=initializer, padding=\"same\")(s)\n",
    "c1 = tf.keras.layers.Dropout(0.1)(c1)\n",
    "c1 = tf.keras.layers.Conv2D(16, (3,3), activation=\"relu\", kernel_initializer=initializer, padding=\"same\")(c1)\n",
    "p1 = tf.keras.layers.MaxPooling2D((2,2))(c1)\n",
    "\n",
    "c2 = tf.keras.layers.Conv2D(32, (3,3), activation=\"relu\", kernel_initializer=initializer, padding=\"same\")(p1)\n",
    "c2 = tf.keras.layers.Dropout(0.1)(c2)\n",
    "c2 = tf.keras.layers.Conv2D(32, (3,3), activation=\"relu\", kernel_initializer=initializer, padding=\"same\")(c2)\n",
    "p2 = tf.keras.layers.MaxPooling2D((2,2))(c2)\n",
    "\n",
    "c3 = tf.keras.layers.Conv2D(64, (3,3), activation=\"relu\", kernel_initializer=initializer, padding=\"same\")(p2)\n",
    "c3 = tf.keras.layers.Dropout(0.2)(c3)\n",
    "c3 = tf.keras.layers.Conv2D(64, (3,3), activation=\"relu\", kernel_initializer=initializer, padding=\"same\")(c3)\n",
    "p3 = tf.keras.layers.MaxPooling2D((2,2))(c3)\n",
    "\n",
    "c4 = tf.keras.layers.Conv2D(128, (3,3), activation=\"relu\", kernel_initializer=initializer, padding=\"same\")(p3)\n",
    "c4 = tf.keras.layers.Dropout(0.2)(c4)\n",
    "c4 = tf.keras.layers.Conv2D(128, (3,3), activation=\"relu\", kernel_initializer=initializer, padding=\"same\")(c4)\n",
    "p4 = tf.keras.layers.MaxPooling2D((2,2))(c4)\n",
    "\n",
    "c5 = tf.keras.layers.Conv2D(256, (3,3), activation=\"relu\", kernel_initializer=initializer, padding=\"same\")(p4)\n",
    "c5 = tf.keras.layers.Dropout(0.3)(c5)\n",
    "c5 = tf.keras.layers.Conv2D(256, (3,3), activation=\"relu\", kernel_initializer=initializer, padding=\"same\")(c5)\n",
    "\n",
    "##Expansion\n",
    "u6 = tf.keras.layers.Conv2DTranspose(128, (2,2), strides=(2,2), padding=\"same\")(c5)\n",
    "u6 = tf.keras.layers.concatenate([u6, c4])\n",
    "c6 = tf.keras.layers.Conv2D(128, (3,3), activation=\"relu\", kernel_initializer=initializer, padding=\"same\")(u6)\n",
    "c6 = tf.keras.layers.Dropout(0.2)(c6)\n",
    "c6 = tf.keras.layers.Conv2D(128, (3,3), activation=\"relu\", kernel_initializer=initializer, padding=\"same\")(c6)\n",
    "\n",
    "u7 = tf.keras.layers.Conv2DTranspose(64, (2,2), strides=(2,2), padding=\"same\")(c6)\n",
    "u7 = tf.keras.layers.concatenate([u7, c3])\n",
    "c7 = tf.keras.layers.Conv2D(64, (3,3), activation=\"relu\", kernel_initializer=initializer, padding=\"same\")(u7)\n",
    "c7 = tf.keras.layers.Dropout(0.2)(c7)\n",
    "c7 = tf.keras.layers.Conv2D(64, (3,3), activation=\"relu\", kernel_initializer=initializer, padding=\"same\")(c7)\n",
    "\n",
    "u8 = tf.keras.layers.Conv2DTranspose(32, (2,2), strides=(2,2), padding=\"same\")(c7)\n",
    "u8 = tf.keras.layers.concatenate([u8, c2])\n",
    "c8 = tf.keras.layers.Conv2D(32, (3,3), activation=\"relu\", kernel_initializer=initializer, padding=\"same\")(u8)\n",
    "c8 = tf.keras.layers.Dropout(0.1)(c8)\n",
    "c8 = tf.keras.layers.Conv2D(32, (3,3), activation=\"relu\", kernel_initializer=initializer, padding=\"same\")(c8)\n",
    "\n",
    "u9 = tf.keras.layers.Conv2DTranspose(16, (2,2), strides=(2,2), padding=\"same\")(c8)\n",
    "u9 = tf.keras.layers.concatenate([u9, c1], axis=3)\n",
    "c9 = tf.keras.layers.Conv2D(16, (3,3), activation=\"relu\", kernel_initializer=initializer, padding=\"same\")(u9)\n",
    "c9 = tf.keras.layers.Dropout(0.1)(c9)\n",
    "c9 = tf.keras.layers.Conv2D(16, (3,3), activation=\"relu\", kernel_initializer=initializer, padding=\"same\")(c9)\n",
    "\n",
    "##Output Layer\n",
    "outputs = tf.keras.layers.Dense(61, activation=\"softmax\")(c9)\n",
    "\n",
    "##Defining Model\n",
    "model = tf.keras.Model(inputs=[inputs], outputs=[outputs])\n",
    "\n",
    "##Compiling Model\n",
    "model.compile(optimizer=\"adam\", loss=\"categorical_crossentropy\", metrics=['accuracy'])\n",
    "\n",
    "##Training the model\n",
    "results = model.fit(x = train_gen, \n",
    "                    validation_data = val_gen, \n",
    "                    steps_per_epoch = steps_per_epoch, \n",
    "                    validation_steps = validation_steps, \n",
    "                    epochs = epochs, \n",
    "                    verbose = True)\n",
    "\n",
    "And here is the accuracy and loss from the first epoch:\n",
    "\n",
    "Epoch 1/25\n",
    " 185/1200 [===>..........................] - ETA: 3:30:04 - loss: 388.0077 - accuracy: 9.0721e-04\n",
    "\n",
    "I'm currently using tensorboard, modelcheckpoint, and earlystopping for callbacks, but unfortunately I don't know how these will help with optimizing my model. Would a larger number of neurons per layer work?\n",
    "''']\n",
    "\n",
    "# real tags = python tensorflow machine-learning keras deep-learning\n",
    "# https://stackoverflow.com/questions/61927516/how-to-improve-model-loss-and-accuracy"
   ]
  },
  {
   "cell_type": "code",
   "execution_count": 42,
   "metadata": {},
   "outputs": [],
   "source": [
    "y_test = pd.DataFrame(0, columns = y.columns, index = [0])"
   ]
  },
  {
   "cell_type": "code",
   "execution_count": 46,
   "metadata": {},
   "outputs": [],
   "source": [
    "y_pred = lda_y_pred(lda_model, X_test, y_test, id2word, lda_tags, mlb)"
   ]
  },
  {
   "cell_type": "code",
   "execution_count": 51,
   "metadata": {},
   "outputs": [
    {
     "data": {
      "text/html": [
       "<div>\n",
       "<style scoped>\n",
       "    .dataframe tbody tr th:only-of-type {\n",
       "        vertical-align: middle;\n",
       "    }\n",
       "\n",
       "    .dataframe tbody tr th {\n",
       "        vertical-align: top;\n",
       "    }\n",
       "\n",
       "    .dataframe thead th {\n",
       "        text-align: right;\n",
       "    }\n",
       "</style>\n",
       "<table border=\"1\" class=\"dataframe\">\n",
       "  <thead>\n",
       "    <tr style=\"text-align: right;\">\n",
       "      <th></th>\n",
       "      <th>python</th>\n",
       "      <th>javascript</th>\n",
       "      <th>java</th>\n",
       "      <th>c#</th>\n",
       "      <th>html</th>\n",
       "      <th>r</th>\n",
       "      <th>c++</th>\n",
       "      <th>pandas</th>\n",
       "      <th>android</th>\n",
       "      <th>php</th>\n",
       "      <th>...</th>\n",
       "      <th>parsing</th>\n",
       "      <th>http</th>\n",
       "      <th>angular-material</th>\n",
       "      <th>aggregation-framework</th>\n",
       "      <th>ansible</th>\n",
       "      <th>axios</th>\n",
       "      <th>matrix</th>\n",
       "      <th>ionic-framework</th>\n",
       "      <th>angular8</th>\n",
       "      <th>optimization</th>\n",
       "    </tr>\n",
       "  </thead>\n",
       "  <tbody>\n",
       "    <tr>\n",
       "      <td>0</td>\n",
       "      <td>1</td>\n",
       "      <td>0</td>\n",
       "      <td>1</td>\n",
       "      <td>0</td>\n",
       "      <td>1</td>\n",
       "      <td>0</td>\n",
       "      <td>0</td>\n",
       "      <td>0</td>\n",
       "      <td>0</td>\n",
       "      <td>0</td>\n",
       "      <td>...</td>\n",
       "      <td>0</td>\n",
       "      <td>0</td>\n",
       "      <td>0</td>\n",
       "      <td>0</td>\n",
       "      <td>0</td>\n",
       "      <td>0</td>\n",
       "      <td>1</td>\n",
       "      <td>0</td>\n",
       "      <td>0</td>\n",
       "      <td>0</td>\n",
       "    </tr>\n",
       "  </tbody>\n",
       "</table>\n",
       "<p>1 rows × 200 columns</p>\n",
       "</div>"
      ],
      "text/plain": [
       "   python  javascript  java  c#  html  r  c++  pandas  android  php  ...  \\\n",
       "0       1           0     1   0     1  0    0       0        0    0  ...   \n",
       "\n",
       "   parsing  http  angular-material  aggregation-framework  ansible  axios  \\\n",
       "0        0     0                 0                      0        0      0   \n",
       "\n",
       "   matrix  ionic-framework  angular8  optimization  \n",
       "0       1                0         0             0  \n",
       "\n",
       "[1 rows x 200 columns]"
      ]
     },
     "execution_count": 51,
     "metadata": {},
     "output_type": "execute_result"
    }
   ],
   "source": [
    "y_pred"
   ]
  },
  {
   "cell_type": "code",
   "execution_count": 52,
   "metadata": {},
   "outputs": [
    {
     "name": "stdout",
     "output_type": "stream",
     "text": [
      "python\n",
      "java\n",
      "html\n",
      "css\n",
      "django\n",
      "git\n",
      "tensorflow\n",
      "function\n",
      "keras\n",
      "class\n",
      "object\n",
      "file\n",
      "vector\n",
      "matrix\n"
     ]
    }
   ],
   "source": [
    "for col in y_pred.columns:\n",
    "    if y_pred[col][0] > 0:\n",
    "        print(col)"
   ]
  },
  {
   "cell_type": "code",
   "execution_count": 33,
   "metadata": {},
   "outputs": [],
   "source": [
    "X_test_prep = TextCleaner().transform(X_test)"
   ]
  },
  {
   "cell_type": "code",
   "execution_count": 34,
   "metadata": {},
   "outputs": [],
   "source": [
    "corpus_test = id2word.doc2bow(X_test_prep[0])"
   ]
  },
  {
   "cell_type": "code",
   "execution_count": 35,
   "metadata": {},
   "outputs": [
    {
     "data": {
      "text/plain": [
       "[(14, 0.015787749),\n",
       " (20, 0.011104653),\n",
       " (31, 0.096986815),\n",
       " (35, 0.16925858),\n",
       " (40, 0.65115017),\n",
       " (44, 0.03294476)]"
      ]
     },
     "execution_count": 35,
     "metadata": {},
     "output_type": "execute_result"
    }
   ],
   "source": [
    "topics_pred = lda_model.get_document_topics(corpus_test)\n",
    "topics_pred"
   ]
  },
  {
   "cell_type": "code",
   "execution_count": 38,
   "metadata": {},
   "outputs": [],
   "source": [
    "tags_pred = []\n",
    "\n",
    "for topic_nb, proba in topics_pred:\n",
    "    tags_pred.extend(lda_tags[topic_nb])\n",
    "\n",
    "# Remove potential duplicates\n",
    "tags_pred = list(set(tags_pred))"
   ]
  },
  {
   "cell_type": "code",
   "execution_count": 39,
   "metadata": {},
   "outputs": [
    {
     "data": {
      "text/plain": [
       "['matrix',\n",
       " 'html',\n",
       " 'css',\n",
       " 'tensorflow',\n",
       " 'file',\n",
       " 'django',\n",
       " 'vector',\n",
       " 'python',\n",
       " 'function',\n",
       " 'git',\n",
       " 'keras',\n",
       " 'java',\n",
       " 'class',\n",
       " 'object']"
      ]
     },
     "execution_count": 39,
     "metadata": {},
     "output_type": "execute_result"
    }
   ],
   "source": [
    "tags_pred"
   ]
  },
  {
   "cell_type": "markdown",
   "metadata": {},
   "source": [
    "# Visualize LDA results using pyLDAvis"
   ]
  },
  {
   "cell_type": "markdown",
   "metadata": {},
   "source": [
    "Warning : pyLDAvis bug in Jupyter Lab causes it to hide toolbar buttons (cf. https://github.com/bmabey/pyLDAvis/issues/162). "
   ]
  },
  {
   "cell_type": "code",
   "execution_count": 34,
   "metadata": {},
   "outputs": [],
   "source": [
    "import pyLDAvis\n",
    "import pyLDAvis.gensim"
   ]
  },
  {
   "cell_type": "code",
   "execution_count": null,
   "metadata": {},
   "outputs": [],
   "source": [
    "# Visualize the topics\n",
    "pyLDAvis.enable_notebook()\n",
    "\n",
    "LDAvis_prepared = pyLDAvis.gensim.prepare(lda_model, corpus, id2word)\n",
    " \n",
    "LDAvis_prepared"
   ]
  },
  {
   "cell_type": "code",
   "execution_count": null,
   "metadata": {},
   "outputs": [],
   "source": []
  }
 ],
 "metadata": {
  "kernelspec": {
   "display_name": "Python 3",
   "language": "python",
   "name": "python3"
  },
  "language_info": {
   "codemirror_mode": {
    "name": "ipython",
    "version": 3
   },
   "file_extension": ".py",
   "mimetype": "text/x-python",
   "name": "python",
   "nbconvert_exporter": "python",
   "pygments_lexer": "ipython3",
   "version": "3.7.4"
  }
 },
 "nbformat": 4,
 "nbformat_minor": 4
}
