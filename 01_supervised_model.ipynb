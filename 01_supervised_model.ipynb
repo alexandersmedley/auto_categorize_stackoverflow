{
 "cells": [
  {
   "cell_type": "code",
   "execution_count": 41,
   "metadata": {},
   "outputs": [],
   "source": [
    "import numpy as np\n",
    "import pandas as pd\n",
    "\n",
    "import seaborn as sns\n",
    "import matplotlib.pyplot as plt\n",
    "\n",
    "import eli5\n",
    "\n",
    "from sklearn.preprocessing import MultiLabelBinarizer\n",
    "\n",
    "from sklearn.model_selection import train_test_split\n",
    "from sklearn.model_selection import PredefinedSplit\n",
    "from sklearn.model_selection import GridSearchCV\n",
    "\n",
    "from sklearn.pipeline import Pipeline\n",
    "from sklearn.base import TransformerMixin\n",
    "\n",
    "from sklearn.feature_extraction.text import TfidfVectorizer\n",
    "\n",
    "from skmultilearn.problem_transform import BinaryRelevance\n",
    "from sklearn.ensemble import RandomForestClassifier\n",
    "import xgboost as xgb\n",
    "\n",
    "import sklearn.metrics as metrics\n",
    "\n",
    "from gensim import utils\n",
    "import gensim.parsing.preprocessing as gsp\n",
    "\n",
    "import joblib"
   ]
  },
  {
   "cell_type": "markdown",
   "metadata": {},
   "source": [
    "# Functions"
   ]
  },
  {
   "cell_type": "code",
   "execution_count": 42,
   "metadata": {},
   "outputs": [],
   "source": [
    "# Définition d'une fonction permettant d'afficher la matrice de confusion et l'accuracy\n",
    "def plot_confusion_matrix(y_true, y_pred, labels = [0, 1]):\n",
    "    #Calculate accuracy and confusion matrix\n",
    "    accuracy = metrics.accuracy_score(y_true, y_pred)\n",
    "    cm = metrics.multilabel_confusion_matrix(y_true, y_pred)\n",
    "    \n",
    "    #Plot confusion matrix\n",
    "    plt.figure(figsize=(7,7))\n",
    "    ax = sns.heatmap(cm, annot= True, fmt=\".0f\", linewidths=.5, square = True, cmap = 'Blues_r', \n",
    "                     xticklabels = labels, yticklabels = labels);\n",
    "    bottom, top = ax.get_ylim()\n",
    "    ax.set_ylim(bottom + 0.1, top - 0.1)\n",
    "    plt.ylabel('Actual label');\n",
    "    plt.xlabel('Predicted label');\n",
    "    all_sample_title = 'Accuracy: {:.3f}'.format(accuracy)\n",
    "    plt.title(all_sample_title, size = 15);\n",
    "    return "
   ]
  },
  {
   "cell_type": "markdown",
   "metadata": {},
   "source": [
    "# Load data"
   ]
  },
  {
   "cell_type": "code",
   "execution_count": 43,
   "metadata": {},
   "outputs": [],
   "source": [
    "# Read csv and create list of tags \n",
    "df = pd.read_csv('in/StackOverflow_50000_posts.csv')\n",
    "df = df[['Id', 'Title', 'Body', 'Tags']]\n",
    "\n",
    "df['Post'] = df['Title'] + ' ' + df['Body']\n",
    "df.drop(columns = ['Title', 'Body'], inplace = True)\n",
    "\n",
    "df['Tags'] = df['Tags'].str.findall(r'<(.*?)>')\n",
    "df['nTags'] = df['Tags'].apply(len)"
   ]
  },
  {
   "cell_type": "code",
   "execution_count": 44,
   "metadata": {},
   "outputs": [],
   "source": [
    "df = df.loc[0:1999, :]\n",
    "n_posts = df['Id'].count()"
   ]
  },
  {
   "cell_type": "code",
   "execution_count": 45,
   "metadata": {},
   "outputs": [],
   "source": [
    "# Create tags matrix of size n_obs * n_tags\n",
    "mlb = MultiLabelBinarizer(sparse_output = False)\n",
    "df_tags = pd.DataFrame(mlb.fit_transform(df['Tags']), columns = mlb.classes_, index = df.index)"
   ]
  },
  {
   "cell_type": "markdown",
   "metadata": {},
   "source": [
    "# Analyze tags"
   ]
  },
  {
   "cell_type": "code",
   "execution_count": 46,
   "metadata": {},
   "outputs": [],
   "source": [
    "# Sort df_tags per number of occurences \n",
    "df_tags_unique = pd.DataFrame(df_tags.sum(axis = 0).sort_values(ascending = False), columns = ['n_occurence'])\n",
    "df_tags = df_tags[df_tags_unique.index]"
   ]
  },
  {
   "cell_type": "code",
   "execution_count": 47,
   "metadata": {},
   "outputs": [
    {
     "data": {
      "text/plain": [
       "6075"
      ]
     },
     "execution_count": 47,
     "metadata": {},
     "output_type": "execute_result"
    }
   ],
   "source": [
    "# Calculate cumulative percentage of tags\n",
    "n_total_tags = df_tags.sum().sum()\n",
    "df_tags_unique['pct_tags'] = df_tags_unique.cumsum(axis = 0) / n_total_tags * 100\n",
    "n_total_tags"
   ]
  },
  {
   "cell_type": "code",
   "execution_count": 48,
   "metadata": {},
   "outputs": [
    {
     "data": {
      "text/plain": [
       "2104"
      ]
     },
     "execution_count": 48,
     "metadata": {},
     "output_type": "execute_result"
    }
   ],
   "source": [
    "# Calculate what % of posts are covered by at least one tag \n",
    "df_tmp = pd.DataFrame(index = df_tags.index, columns = ['Tagged'])\n",
    "df_tmp['Tagged'] = 0\n",
    "\n",
    "for col in df_tags:\n",
    "    df_tmp['Tagged'] = df_tmp['Tagged'] | df_tags[col]\n",
    "    df_tags_unique.loc[col, 'n_posts'] = df_tmp['Tagged'].sum()\n",
    "    \n",
    "df_tags_unique['pct_posts'] = df_tags_unique['n_posts'] / n_posts * 100\n",
    "\n",
    "# Reset index to create tag col\n",
    "df_tags_unique = df_tags_unique.reset_index().rename(columns = {'index': 'tag'})\n",
    "\n",
    "n_tags_unique = df_tags_unique['tag'].count()\n",
    "n_tags_unique"
   ]
  },
  {
   "cell_type": "code",
   "execution_count": 49,
   "metadata": {},
   "outputs": [
    {
     "data": {
      "text/html": [
       "<div>\n",
       "<style scoped>\n",
       "    .dataframe tbody tr th:only-of-type {\n",
       "        vertical-align: middle;\n",
       "    }\n",
       "\n",
       "    .dataframe tbody tr th {\n",
       "        vertical-align: top;\n",
       "    }\n",
       "\n",
       "    .dataframe thead th {\n",
       "        text-align: right;\n",
       "    }\n",
       "</style>\n",
       "<table border=\"1\" class=\"dataframe\">\n",
       "  <thead>\n",
       "    <tr style=\"text-align: right;\">\n",
       "      <th></th>\n",
       "      <th>tag</th>\n",
       "      <th>n_occurence</th>\n",
       "      <th>pct_tags</th>\n",
       "      <th>n_posts</th>\n",
       "      <th>pct_posts</th>\n",
       "    </tr>\n",
       "  </thead>\n",
       "  <tbody>\n",
       "    <tr>\n",
       "      <td>0</td>\n",
       "      <td>python</td>\n",
       "      <td>340</td>\n",
       "      <td>5.596708</td>\n",
       "      <td>340.0</td>\n",
       "      <td>17.00</td>\n",
       "    </tr>\n",
       "    <tr>\n",
       "      <td>1</td>\n",
       "      <td>javascript</td>\n",
       "      <td>186</td>\n",
       "      <td>8.658436</td>\n",
       "      <td>525.0</td>\n",
       "      <td>26.25</td>\n",
       "    </tr>\n",
       "    <tr>\n",
       "      <td>2</td>\n",
       "      <td>java</td>\n",
       "      <td>161</td>\n",
       "      <td>11.308642</td>\n",
       "      <td>683.0</td>\n",
       "      <td>34.15</td>\n",
       "    </tr>\n",
       "    <tr>\n",
       "      <td>3</td>\n",
       "      <td>r</td>\n",
       "      <td>106</td>\n",
       "      <td>13.053498</td>\n",
       "      <td>788.0</td>\n",
       "      <td>39.40</td>\n",
       "    </tr>\n",
       "    <tr>\n",
       "      <td>4</td>\n",
       "      <td>c#</td>\n",
       "      <td>95</td>\n",
       "      <td>14.617284</td>\n",
       "      <td>882.0</td>\n",
       "      <td>44.10</td>\n",
       "    </tr>\n",
       "    <tr>\n",
       "      <td>...</td>\n",
       "      <td>...</td>\n",
       "      <td>...</td>\n",
       "      <td>...</td>\n",
       "      <td>...</td>\n",
       "      <td>...</td>\n",
       "    </tr>\n",
       "    <tr>\n",
       "      <td>2099</td>\n",
       "      <td>ngxs</td>\n",
       "      <td>1</td>\n",
       "      <td>99.934156</td>\n",
       "      <td>2000.0</td>\n",
       "      <td>100.00</td>\n",
       "    </tr>\n",
       "    <tr>\n",
       "      <td>2100</td>\n",
       "      <td>ngzone</td>\n",
       "      <td>1</td>\n",
       "      <td>99.950617</td>\n",
       "      <td>2000.0</td>\n",
       "      <td>100.00</td>\n",
       "    </tr>\n",
       "    <tr>\n",
       "      <td>2101</td>\n",
       "      <td>nlog</td>\n",
       "      <td>1</td>\n",
       "      <td>99.967078</td>\n",
       "      <td>2000.0</td>\n",
       "      <td>100.00</td>\n",
       "    </tr>\n",
       "    <tr>\n",
       "      <td>2102</td>\n",
       "      <td>node-schedule</td>\n",
       "      <td>1</td>\n",
       "      <td>99.983539</td>\n",
       "      <td>2000.0</td>\n",
       "      <td>100.00</td>\n",
       "    </tr>\n",
       "    <tr>\n",
       "      <td>2103</td>\n",
       "      <td>kivy</td>\n",
       "      <td>1</td>\n",
       "      <td>100.000000</td>\n",
       "      <td>2000.0</td>\n",
       "      <td>100.00</td>\n",
       "    </tr>\n",
       "  </tbody>\n",
       "</table>\n",
       "<p>2104 rows × 5 columns</p>\n",
       "</div>"
      ],
      "text/plain": [
       "                tag  n_occurence    pct_tags  n_posts  pct_posts\n",
       "0            python          340    5.596708    340.0      17.00\n",
       "1        javascript          186    8.658436    525.0      26.25\n",
       "2              java          161   11.308642    683.0      34.15\n",
       "3                 r          106   13.053498    788.0      39.40\n",
       "4                c#           95   14.617284    882.0      44.10\n",
       "...             ...          ...         ...      ...        ...\n",
       "2099           ngxs            1   99.934156   2000.0     100.00\n",
       "2100         ngzone            1   99.950617   2000.0     100.00\n",
       "2101           nlog            1   99.967078   2000.0     100.00\n",
       "2102  node-schedule            1   99.983539   2000.0     100.00\n",
       "2103           kivy            1  100.000000   2000.0     100.00\n",
       "\n",
       "[2104 rows x 5 columns]"
      ]
     },
     "execution_count": 49,
     "metadata": {},
     "output_type": "execute_result"
    }
   ],
   "source": [
    "df_tags_unique"
   ]
  },
  {
   "cell_type": "code",
   "execution_count": 50,
   "metadata": {},
   "outputs": [
    {
     "data": {
      "text/plain": [
       "<matplotlib.axes._subplots.AxesSubplot at 0x2c614e9ad08>"
      ]
     },
     "execution_count": 50,
     "metadata": {},
     "output_type": "execute_result"
    },
    {
     "data": {
      "image/png": "[encoded data removed]",
      "text/plain": [
       "<Figure size 432x288 with 1 Axes>"
      ]
     },
     "metadata": {
      "needs_background": "light"
     },
     "output_type": "display_data"
    }
   ],
   "source": [
    "sns.lineplot(x = df_tags_unique.index + 1, y = df_tags_unique['pct_tags'])"
   ]
  },
  {
   "cell_type": "code",
   "execution_count": 51,
   "metadata": {},
   "outputs": [
    {
     "data": {
      "text/plain": [
       "<matplotlib.axes._subplots.AxesSubplot at 0x2c614f22b48>"
      ]
     },
     "execution_count": 51,
     "metadata": {},
     "output_type": "execute_result"
    },
    {
     "data": {
      "image/png": "[encoded data removed]",
      "text/plain": [
       "<Figure size 432x288 with 1 Axes>"
      ]
     },
     "metadata": {
      "needs_background": "light"
     },
     "output_type": "display_data"
    }
   ],
   "source": [
    "sns.lineplot(x = df_tags_unique.index + 1, y = df_tags_unique['pct_posts'])"
   ]
  },
  {
   "cell_type": "code",
   "execution_count": 52,
   "metadata": {},
   "outputs": [
    {
     "data": {
      "text/plain": [
       "tag             arrays\n",
       "n_occurence         35\n",
       "pct_tags       29.2181\n",
       "n_posts           1352\n",
       "pct_posts         67.6\n",
       "Name: 19, dtype: object"
      ]
     },
     "execution_count": 52,
     "metadata": {},
     "output_type": "execute_result"
    }
   ],
   "source": [
    "df_tags_unique.loc[19, :]"
   ]
  },
  {
   "cell_type": "markdown",
   "metadata": {},
   "source": [
    "# Modelling"
   ]
  },
  {
   "cell_type": "markdown",
   "metadata": {},
   "source": [
    "## Select subset of tags to create train and test set"
   ]
  },
  {
   "cell_type": "code",
   "execution_count": 53,
   "metadata": {},
   "outputs": [],
   "source": [
    "list_top = df_tags_unique.loc[0:19, 'tag']\n",
    "\n",
    "df_tags = df_tags[list_top]\n",
    "\n",
    "keep_index = df_tags[df_tags.sum(axis = 1) != 0].index\n",
    "\n",
    "X = df.loc[keep_index, 'Post']\n",
    "y = df_tags.loc[keep_index, :]\n",
    "\n",
    "# train = 50%, val = 25%, test = 25%\n",
    "X_train, X_test, y_train, y_test = train_test_split(X, y, test_size = 0.25, random_state = 0)\n",
    "\n",
    "X_train_tmp, X_val, y_train_tmp, y_val = train_test_split(X_train, y_train, test_size = 1/3, random_state = 0)\n",
    "\n",
    "# When working with a validation set in GridSearchCV, we can use a predefined split instead of k-folds\n",
    "split_index = [0 if x in X_val.index else -1 for x in X_train.index]\n",
    "pds = PredefinedSplit(test_fold = split_index)"
   ]
  },
  {
   "cell_type": "markdown",
   "metadata": {},
   "source": [
    "## Create pipeline"
   ]
  },
  {
   "cell_type": "code",
   "execution_count": 54,
   "metadata": {},
   "outputs": [],
   "source": [
    "# Define and apply gensim filters\n",
    "filters = [\n",
    "           gsp.strip_tags, \n",
    "           gsp.strip_punctuation,\n",
    "           gsp.strip_multiple_whitespaces,\n",
    "           gsp.strip_numeric,\n",
    "           gsp.remove_stopwords, \n",
    "#            gsp.strip_short, \n",
    "           gsp.stem_text\n",
    "          ]\n",
    "\n",
    "def clean_text(s):\n",
    "    s = s.lower()\n",
    "    s = utils.to_unicode(s)\n",
    "    for f in filters:\n",
    "        s = f(s)\n",
    "    return s\n",
    "\n",
    "# Custom transformer using gensim filters\n",
    "class TextCleaner(TransformerMixin):\n",
    "    def transform(self, X, **transform_params):\n",
    "        # Cleaning Text\n",
    "        return [clean_text(text) for text in X]\n",
    "\n",
    "    def fit(self, X, y=None, **fit_params):\n",
    "        return self\n",
    "\n",
    "    def get_params(self, deep=True):\n",
    "        return {}"
   ]
  },
  {
   "cell_type": "code",
   "execution_count": 55,
   "metadata": {},
   "outputs": [],
   "source": [
    "models = [\n",
    "#     RandomForestClassifier(n_estimators = 100, n_jobs = -1, random_state = 457), \n",
    "    xgb.XGBClassifier(objective = 'binary:logistic', n_jobs = -1, random_state = 457)\n",
    "]\n",
    "\n",
    "# RF\n",
    "max_depth_rf = np.arange(10,30)\n",
    "max_features_rf = [0.8, 'auto', 'sqrt']\n",
    "min_samples_split_rf = [2, 4, 10]\n",
    "\n",
    "# XGBoost\n",
    "n_estimators_xgb = [100, 200]\n",
    "max_depth_xgb = [5, 10, 15]\n",
    "learning_rate_xgb = [0.1]\n",
    "gamma_xgb = [0]\n",
    "reg_lambda_xgb = [1]\n",
    "\n",
    "param_grid = [\n",
    "    # XGBoost uniquement\n",
    "    {'model__classifier__n_estimators': n_estimators_xgb,\n",
    "     'model__classifier__max_depth': max_depth_xgb, \n",
    "     'model__classifier__learning_rate': learning_rate_xgb, \n",
    "     'model__classifier__gamma': gamma_xgb, \n",
    "     'model__classifier__reg_lambda': reg_lambda_xgb\n",
    "    }\n",
    "]"
   ]
  },
  {
   "cell_type": "code",
   "execution_count": 56,
   "metadata": {},
   "outputs": [
    {
     "name": "stdout",
     "output_type": "stream",
     "text": [
      "Model : XGBClassifier(base_score=0.5, booster='gbtree', colsample_bylevel=1,\n",
      "              colsample_bynode=1, colsample_bytree=1, gamma=0,\n",
      "              learning_rate=0.1, max_delta_step=0, max_depth=3,\n",
      "              min_child_weight=1, missing=None, n_estimators=100, n_jobs=-1,\n",
      "              nthread=None, objective='binary:logistic', random_state=457,\n",
      "              reg_alpha=0, reg_lambda=1, scale_pos_weight=1, seed=None,\n",
      "              silent=None, subsample=1, verbosity=1)\n",
      "Cross Validation best score : 0.47487369954503017\n",
      "Cross Validation best params : {'model__classifier__gamma': 1, 'model__classifier__learning_rate': 0.1, 'model__classifier__max_depth': 10, 'model__classifier__n_estimators': 100, 'model__classifier__reg_lambda': 1}\n",
      "Test results :\n",
      "Jaccard : 0.536489027206058\n",
      "F1 : 0.6732217660130431\n",
      "decision_threshold : 0.2\n",
      "\n",
      "Wall time: 39min 53s\n"
     ]
    }
   ],
   "source": [
    "%%time\n",
    "\n",
    "for i in range(0, len(models)):\n",
    "    clf = BinaryRelevance(classifier = models[i], require_dense = [True, True])\n",
    "    pip = Pipeline([('clean', TextCleaner()),\n",
    "                    ('vect', TfidfVectorizer()),\n",
    "                    ('model', clf)])\n",
    "    \n",
    "    pip_cv = GridSearchCV(pip, param_grid[i], cv = pds, scoring = 'jaccard_weighted', iid = False)\n",
    "    pip_cv.fit(X_train, y_train)\n",
    "    \n",
    "    print('Model :', models[i])\n",
    "    print('Cross Validation best score :', pip_cv.best_score_)\n",
    "    print('Cross Validation best params :', pip_cv.best_params_)\n",
    "    \n",
    "    # Get results on test set\n",
    "    y_proba = pip_cv.predict_proba(X_test)\n",
    "    y_proba = pd.DataFrame(y_proba.toarray(), columns = y_test.columns, index = y_test.index)\n",
    "    \n",
    "    jaccard_max = 0\n",
    "    f1_max = 0\n",
    "    decision_threshold_max = 0\n",
    "    \n",
    "    for i in np.arange(0, 10, 1):\n",
    "        decision_threshold = i / 10\n",
    "        \n",
    "        jaccard = metrics.jaccard_score(y_test, y_proba > decision_threshold, average = 'weighted')\n",
    "        \n",
    "        if jaccard > jaccard_max:\n",
    "            jaccard_max = jaccard\n",
    "            f1_max = metrics.f1_score(y_test, y_proba > decision_threshold, average = 'weighted')\n",
    "            decision_threshold_max = decision_threshold\n",
    "    \n",
    "    print('Test results :')\n",
    "    print('Jaccard :', jaccard_max)\n",
    "    print('F1 :', f1_max)\n",
    "    print('decision_threshold :', decision_threshold_max)\n",
    "    print()"
   ]
  },
  {
   "cell_type": "code",
   "execution_count": 57,
   "metadata": {},
   "outputs": [
    {
     "data": {
      "text/plain": [
       "{'mean_fit_time': array([174.87591076, 339.81831932, 225.9694171 , 443.61242867,\n",
       "        238.62730622, 473.17457581]),\n",
       " 'std_fit_time': array([0., 0., 0., 0., 0., 0.]),\n",
       " 'mean_score_time': array([1.66340041, 1.54964328, 1.65311003, 1.55290246, 1.60147142,\n",
       "        1.62375259]),\n",
       " 'std_score_time': array([0., 0., 0., 0., 0., 0.]),\n",
       " 'param_model__classifier__gamma': masked_array(data=[1, 1, 1, 1, 1, 1],\n",
       "              mask=[False, False, False, False, False, False],\n",
       "        fill_value='?',\n",
       "             dtype=object),\n",
       " 'param_model__classifier__learning_rate': masked_array(data=[0.1, 0.1, 0.1, 0.1, 0.1, 0.1],\n",
       "              mask=[False, False, False, False, False, False],\n",
       "        fill_value='?',\n",
       "             dtype=object),\n",
       " 'param_model__classifier__max_depth': masked_array(data=[5, 5, 10, 10, 15, 15],\n",
       "              mask=[False, False, False, False, False, False],\n",
       "        fill_value='?',\n",
       "             dtype=object),\n",
       " 'param_model__classifier__n_estimators': masked_array(data=[100, 200, 100, 200, 100, 200],\n",
       "              mask=[False, False, False, False, False, False],\n",
       "        fill_value='?',\n",
       "             dtype=object),\n",
       " 'param_model__classifier__reg_lambda': masked_array(data=[1, 1, 1, 1, 1, 1],\n",
       "              mask=[False, False, False, False, False, False],\n",
       "        fill_value='?',\n",
       "             dtype=object),\n",
       " 'params': [{'model__classifier__gamma': 1,\n",
       "   'model__classifier__learning_rate': 0.1,\n",
       "   'model__classifier__max_depth': 5,\n",
       "   'model__classifier__n_estimators': 100,\n",
       "   'model__classifier__reg_lambda': 1},\n",
       "  {'model__classifier__gamma': 1,\n",
       "   'model__classifier__learning_rate': 0.1,\n",
       "   'model__classifier__max_depth': 5,\n",
       "   'model__classifier__n_estimators': 200,\n",
       "   'model__classifier__reg_lambda': 1},\n",
       "  {'model__classifier__gamma': 1,\n",
       "   'model__classifier__learning_rate': 0.1,\n",
       "   'model__classifier__max_depth': 10,\n",
       "   'model__classifier__n_estimators': 100,\n",
       "   'model__classifier__reg_lambda': 1},\n",
       "  {'model__classifier__gamma': 1,\n",
       "   'model__classifier__learning_rate': 0.1,\n",
       "   'model__classifier__max_depth': 10,\n",
       "   'model__classifier__n_estimators': 200,\n",
       "   'model__classifier__reg_lambda': 1},\n",
       "  {'model__classifier__gamma': 1,\n",
       "   'model__classifier__learning_rate': 0.1,\n",
       "   'model__classifier__max_depth': 15,\n",
       "   'model__classifier__n_estimators': 100,\n",
       "   'model__classifier__reg_lambda': 1},\n",
       "  {'model__classifier__gamma': 1,\n",
       "   'model__classifier__learning_rate': 0.1,\n",
       "   'model__classifier__max_depth': 15,\n",
       "   'model__classifier__n_estimators': 200,\n",
       "   'model__classifier__reg_lambda': 1}],\n",
       " 'split0_test_score': array([0.46533898, 0.46654805, 0.4748737 , 0.4748737 , 0.464304  ,\n",
       "        0.464304  ]),\n",
       " 'mean_test_score': array([0.46533898, 0.46654805, 0.4748737 , 0.4748737 , 0.464304  ,\n",
       "        0.464304  ]),\n",
       " 'std_test_score': array([0., 0., 0., 0., 0., 0.]),\n",
       " 'rank_test_score': array([4, 3, 1, 1, 5, 5])}"
      ]
     },
     "execution_count": 57,
     "metadata": {},
     "output_type": "execute_result"
    }
   ],
   "source": [
    "pip_cv.cv_results_"
   ]
  },
  {
   "cell_type": "code",
   "execution_count": 58,
   "metadata": {},
   "outputs": [
    {
     "data": {
      "text/plain": [
       "1"
      ]
     },
     "execution_count": 58,
     "metadata": {},
     "output_type": "execute_result"
    }
   ],
   "source": [
    "pip_cv.n_splits_"
   ]
  },
  {
   "cell_type": "code",
   "execution_count": 134,
   "metadata": {},
   "outputs": [
    {
     "data": {
      "text/plain": [
       "['supervised_model.pkl']"
      ]
     },
     "execution_count": 134,
     "metadata": {},
     "output_type": "execute_result"
    }
   ],
   "source": [
    "joblib.dump(pip_cv, 'supervised_model.pkl')"
   ]
  },
  {
   "cell_type": "markdown",
   "metadata": {},
   "source": [
    "# Mesure model performance"
   ]
  },
  {
   "cell_type": "code",
   "execution_count": 121,
   "metadata": {},
   "outputs": [
    {
     "data": {
      "text/html": [
       "<div>\n",
       "<style scoped>\n",
       "    .dataframe tbody tr th:only-of-type {\n",
       "        vertical-align: middle;\n",
       "    }\n",
       "\n",
       "    .dataframe tbody tr th {\n",
       "        vertical-align: top;\n",
       "    }\n",
       "\n",
       "    .dataframe thead th {\n",
       "        text-align: right;\n",
       "    }\n",
       "</style>\n",
       "<table border=\"1\" class=\"dataframe\">\n",
       "  <thead>\n",
       "    <tr style=\"text-align: right;\">\n",
       "      <th></th>\n",
       "      <th>base</th>\n",
       "    </tr>\n",
       "  </thead>\n",
       "  <tbody>\n",
       "    <tr>\n",
       "      <td>python</td>\n",
       "      <td>0.750000</td>\n",
       "    </tr>\n",
       "    <tr>\n",
       "      <td>javascript</td>\n",
       "      <td>0.432836</td>\n",
       "    </tr>\n",
       "    <tr>\n",
       "      <td>java</td>\n",
       "      <td>0.520000</td>\n",
       "    </tr>\n",
       "    <tr>\n",
       "      <td>r</td>\n",
       "      <td>0.607143</td>\n",
       "    </tr>\n",
       "    <tr>\n",
       "      <td>c#</td>\n",
       "      <td>0.341463</td>\n",
       "    </tr>\n",
       "    <tr>\n",
       "      <td>c++</td>\n",
       "      <td>0.444444</td>\n",
       "    </tr>\n",
       "    <tr>\n",
       "      <td>android</td>\n",
       "      <td>0.782609</td>\n",
       "    </tr>\n",
       "    <tr>\n",
       "      <td>python-3.x</td>\n",
       "      <td>0.111111</td>\n",
       "    </tr>\n",
       "    <tr>\n",
       "      <td>php</td>\n",
       "      <td>0.571429</td>\n",
       "    </tr>\n",
       "    <tr>\n",
       "      <td>html</td>\n",
       "      <td>0.358974</td>\n",
       "    </tr>\n",
       "    <tr>\n",
       "      <td>pandas</td>\n",
       "      <td>0.695652</td>\n",
       "    </tr>\n",
       "    <tr>\n",
       "      <td>reactjs</td>\n",
       "      <td>0.904762</td>\n",
       "    </tr>\n",
       "    <tr>\n",
       "      <td>sql</td>\n",
       "      <td>0.300000</td>\n",
       "    </tr>\n",
       "    <tr>\n",
       "      <td>laravel</td>\n",
       "      <td>0.666667</td>\n",
       "    </tr>\n",
       "    <tr>\n",
       "      <td>css</td>\n",
       "      <td>0.500000</td>\n",
       "    </tr>\n",
       "    <tr>\n",
       "      <td>mysql</td>\n",
       "      <td>0.500000</td>\n",
       "    </tr>\n",
       "    <tr>\n",
       "      <td>c</td>\n",
       "      <td>0.166667</td>\n",
       "    </tr>\n",
       "    <tr>\n",
       "      <td>angular</td>\n",
       "      <td>0.625000</td>\n",
       "    </tr>\n",
       "    <tr>\n",
       "      <td>dataframe</td>\n",
       "      <td>0.214286</td>\n",
       "    </tr>\n",
       "    <tr>\n",
       "      <td>arrays</td>\n",
       "      <td>0.210526</td>\n",
       "    </tr>\n",
       "  </tbody>\n",
       "</table>\n",
       "</div>"
      ],
      "text/plain": [
       "                base\n",
       "python      0.750000\n",
       "javascript  0.432836\n",
       "java        0.520000\n",
       "r           0.607143\n",
       "c#          0.341463\n",
       "c++         0.444444\n",
       "android     0.782609\n",
       "python-3.x  0.111111\n",
       "php         0.571429\n",
       "html        0.358974\n",
       "pandas      0.695652\n",
       "reactjs     0.904762\n",
       "sql         0.300000\n",
       "laravel     0.666667\n",
       "css         0.500000\n",
       "mysql       0.500000\n",
       "c           0.166667\n",
       "angular     0.625000\n",
       "dataframe   0.214286\n",
       "arrays      0.210526"
      ]
     },
     "execution_count": 121,
     "metadata": {},
     "output_type": "execute_result"
    }
   ],
   "source": [
    "jaccard = pd.DataFrame(metrics.jaccard_score(y_test, y_proba > decision_threshold_max, average = None), \n",
    "                       index = y_test.columns, columns = ['base'])\n",
    "jaccard"
   ]
  },
  {
   "cell_type": "markdown",
   "metadata": {},
   "source": [
    "# Analyze model"
   ]
  },
  {
   "cell_type": "code",
   "execution_count": 89,
   "metadata": {},
   "outputs": [
    {
     "data": {
      "text/plain": [
       "TfidfVectorizer(analyzer='word', binary=False, decode_error='strict',\n",
       "                dtype=<class 'numpy.float64'>, encoding='utf-8',\n",
       "                input='content', lowercase=True, max_df=1.0, max_features=None,\n",
       "                min_df=1, ngram_range=(1, 1), norm='l2', preprocessor=None,\n",
       "                smooth_idf=True, stop_words=None, strip_accents=None,\n",
       "                sublinear_tf=False, token_pattern='(?u)\\\\b\\\\w\\\\w+\\\\b',\n",
       "                tokenizer=None, use_idf=True, vocabulary=None)"
      ]
     },
     "execution_count": 89,
     "metadata": {},
     "output_type": "execute_result"
    }
   ],
   "source": [
    "pip_cv.estimator['vect']"
   ]
  },
  {
   "cell_type": "code",
   "execution_count": 103,
   "metadata": {},
   "outputs": [],
   "source": [
    "vocab = pip_cv.best_estimator_['vect'].get_feature_names()"
   ]
  },
  {
   "cell_type": "code",
   "execution_count": 132,
   "metadata": {},
   "outputs": [
    {
     "data": {
      "text/plain": [
       "['aa',\n",
       " 'aaa',\n",
       " 'aaaa',\n",
       " 'aac',\n",
       " 'aad',\n",
       " 'aaeb',\n",
       " 'aattgg',\n",
       " 'ab',\n",
       " 'abacad',\n",
       " 'abafac',\n",
       " 'abandon',\n",
       " 'abc',\n",
       " 'abcd',\n",
       " 'abcdefghijklmnopqrstuvwxyz',\n",
       " 'abd',\n",
       " 'abecf',\n",
       " 'abhol',\n",
       " 'abholdatum',\n",
       " 'abhorr',\n",
       " 'abi',\n",
       " 'abil',\n",
       " 'abl',\n",
       " 'abnorm',\n",
       " 'aboolean',\n",
       " 'abort',\n",
       " 'aborterror',\n",
       " 'abortexcept',\n",
       " 'absent',\n",
       " 'absente',\n",
       " 'absl',\n",
       " 'absolut',\n",
       " 'absolutei',\n",
       " 'absolutex',\n",
       " 'absorb',\n",
       " 'absteigend',\n",
       " 'abstract',\n",
       " 'abstractapplicationcontext',\n",
       " 'abstractautowirecapablebeanfactori',\n",
       " 'abstractbaseus',\n",
       " 'abstractbeanfactori']"
      ]
     },
     "execution_count": 132,
     "metadata": {},
     "output_type": "execute_result"
    }
   ],
   "source": [
    "vocab[0:40]"
   ]
  },
  {
   "cell_type": "code",
   "execution_count": 131,
   "metadata": {},
   "outputs": [
    {
     "data": {
      "text/plain": [
       "0         python\n",
       "1     javascript\n",
       "2           java\n",
       "3              r\n",
       "4             c#\n",
       "5            c++\n",
       "6        android\n",
       "7     python-3.x\n",
       "8            php\n",
       "9           html\n",
       "10        pandas\n",
       "11       reactjs\n",
       "12           sql\n",
       "13       laravel\n",
       "14           css\n",
       "15         mysql\n",
       "16             c\n",
       "17       angular\n",
       "18     dataframe\n",
       "19        arrays\n",
       "Name: tag, dtype: object"
      ]
     },
     "execution_count": 131,
     "metadata": {},
     "output_type": "execute_result"
    }
   ],
   "source": [
    "list_top"
   ]
  },
  {
   "cell_type": "code",
   "execution_count": 126,
   "metadata": {},
   "outputs": [
    {
     "name": "stdout",
     "output_type": "stream",
     "text": [
      "Tag : sql\n"
     ]
    },
    {
     "data": {
      "text/html": [
       "\n",
       "    <style>\n",
       "    table.eli5-weights tr:hover {\n",
       "        filter: brightness(85%);\n",
       "    }\n",
       "</style>\n",
       "\n",
       "\n",
       "\n",
       "    \n",
       "\n",
       "    \n",
       "\n",
       "    \n",
       "\n",
       "    \n",
       "\n",
       "    \n",
       "\n",
       "    \n",
       "\n",
       "\n",
       "    \n",
       "\n",
       "    \n",
       "\n",
       "    \n",
       "\n",
       "    \n",
       "\n",
       "    \n",
       "\n",
       "    \n",
       "\n",
       "\n",
       "    \n",
       "\n",
       "    \n",
       "\n",
       "    \n",
       "\n",
       "    \n",
       "\n",
       "    \n",
       "        <table class=\"eli5-weights eli5-feature-importances\" style=\"border-collapse: collapse; border: none; margin-top: 0em; table-layout: auto;\">\n",
       "    <thead>\n",
       "    <tr style=\"border: none;\">\n",
       "        <th style=\"padding: 0 1em 0 0.5em; text-align: right; border: none;\">Weight</th>\n",
       "        <th style=\"padding: 0 0.5em 0 0.5em; text-align: left; border: none;\">Feature</th>\n",
       "    </tr>\n",
       "    </thead>\n",
       "    <tbody>\n",
       "    \n",
       "        <tr style=\"background-color: hsl(120, 100.00%, 80.00%); border: none;\">\n",
       "            <td style=\"padding: 0 1em 0 0.5em; text-align: right; border: none;\">\n",
       "                0.1085\n",
       "                \n",
       "            </td>\n",
       "            <td style=\"padding: 0 0.5em 0 0.5em; text-align: left; border: none;\">\n",
       "                sql\n",
       "            </td>\n",
       "        </tr>\n",
       "    \n",
       "        <tr style=\"background-color: hsl(120, 100.00%, 87.52%); border: none;\">\n",
       "            <td style=\"padding: 0 1em 0 0.5em; text-align: right; border: none;\">\n",
       "                0.0553\n",
       "                \n",
       "            </td>\n",
       "            <td style=\"padding: 0 0.5em 0 0.5em; text-align: left; border: none;\">\n",
       "                outer\n",
       "            </td>\n",
       "        </tr>\n",
       "    \n",
       "        <tr style=\"background-color: hsl(120, 100.00%, 87.59%); border: none;\">\n",
       "            <td style=\"padding: 0 1em 0 0.5em; text-align: right; border: none;\">\n",
       "                0.0549\n",
       "                \n",
       "            </td>\n",
       "            <td style=\"padding: 0 0.5em 0 0.5em; text-align: left; border: none;\">\n",
       "                file\n",
       "            </td>\n",
       "        </tr>\n",
       "    \n",
       "        <tr style=\"background-color: hsl(120, 100.00%, 90.61%); border: none;\">\n",
       "            <td style=\"padding: 0 1em 0 0.5em; text-align: right; border: none;\">\n",
       "                0.0369\n",
       "                \n",
       "            </td>\n",
       "            <td style=\"padding: 0 0.5em 0 0.5em; text-align: left; border: none;\">\n",
       "                python\n",
       "            </td>\n",
       "        </tr>\n",
       "    \n",
       "        <tr style=\"background-color: hsl(120, 100.00%, 90.64%); border: none;\">\n",
       "            <td style=\"padding: 0 1em 0 0.5em; text-align: right; border: none;\">\n",
       "                0.0367\n",
       "                \n",
       "            </td>\n",
       "            <td style=\"padding: 0 0.5em 0 0.5em; text-align: left; border: none;\">\n",
       "                set\n",
       "            </td>\n",
       "        </tr>\n",
       "    \n",
       "        <tr style=\"background-color: hsl(120, 100.00%, 90.75%); border: none;\">\n",
       "            <td style=\"padding: 0 1em 0 0.5em; text-align: right; border: none;\">\n",
       "                0.0361\n",
       "                \n",
       "            </td>\n",
       "            <td style=\"padding: 0 0.5em 0 0.5em; text-align: left; border: none;\">\n",
       "                select\n",
       "            </td>\n",
       "        </tr>\n",
       "    \n",
       "        <tr style=\"background-color: hsl(120, 100.00%, 90.97%); border: none;\">\n",
       "            <td style=\"padding: 0 1em 0 0.5em; text-align: right; border: none;\">\n",
       "                0.0348\n",
       "                \n",
       "            </td>\n",
       "            <td style=\"padding: 0 0.5em 0 0.5em; text-align: left; border: none;\">\n",
       "                distinct\n",
       "            </td>\n",
       "        </tr>\n",
       "    \n",
       "        <tr style=\"background-color: hsl(120, 100.00%, 91.92%); border: none;\">\n",
       "            <td style=\"padding: 0 1em 0 0.5em; text-align: right; border: none;\">\n",
       "                0.0297\n",
       "                \n",
       "            </td>\n",
       "            <td style=\"padding: 0 0.5em 0 0.5em; text-align: left; border: none;\">\n",
       "                record\n",
       "            </td>\n",
       "        </tr>\n",
       "    \n",
       "        <tr style=\"background-color: hsl(120, 100.00%, 91.96%); border: none;\">\n",
       "            <td style=\"padding: 0 1em 0 0.5em; text-align: right; border: none;\">\n",
       "                0.0295\n",
       "                \n",
       "            </td>\n",
       "            <td style=\"padding: 0 0.5em 0 0.5em; text-align: left; border: none;\">\n",
       "                id\n",
       "            </td>\n",
       "        </tr>\n",
       "    \n",
       "        <tr style=\"background-color: hsl(120, 100.00%, 92.02%); border: none;\">\n",
       "            <td style=\"padding: 0 1em 0 0.5em; text-align: right; border: none;\">\n",
       "                0.0292\n",
       "                \n",
       "            </td>\n",
       "            <td style=\"padding: 0 0.5em 0 0.5em; text-align: left; border: none;\">\n",
       "                tabl\n",
       "            </td>\n",
       "        </tr>\n",
       "    \n",
       "        <tr style=\"background-color: hsl(120, 100.00%, 92.43%); border: none;\">\n",
       "            <td style=\"padding: 0 1em 0 0.5em; text-align: right; border: none;\">\n",
       "                0.0271\n",
       "                \n",
       "            </td>\n",
       "            <td style=\"padding: 0 0.5em 0 0.5em; text-align: left; border: none;\">\n",
       "                join\n",
       "            </td>\n",
       "        </tr>\n",
       "    \n",
       "        <tr style=\"background-color: hsl(120, 100.00%, 93.42%); border: none;\">\n",
       "            <td style=\"padding: 0 1em 0 0.5em; text-align: right; border: none;\">\n",
       "                0.0221\n",
       "                \n",
       "            </td>\n",
       "            <td style=\"padding: 0 0.5em 0 0.5em; text-align: left; border: none;\">\n",
       "                index\n",
       "            </td>\n",
       "        </tr>\n",
       "    \n",
       "        <tr style=\"background-color: hsl(120, 100.00%, 93.50%); border: none;\">\n",
       "            <td style=\"padding: 0 1em 0 0.5em; text-align: right; border: none;\">\n",
       "                0.0218\n",
       "                \n",
       "            </td>\n",
       "            <td style=\"padding: 0 0.5em 0 0.5em; text-align: left; border: none;\">\n",
       "                want\n",
       "            </td>\n",
       "        </tr>\n",
       "    \n",
       "        <tr style=\"background-color: hsl(120, 100.00%, 93.68%); border: none;\">\n",
       "            <td style=\"padding: 0 1em 0 0.5em; text-align: right; border: none;\">\n",
       "                0.0209\n",
       "                \n",
       "            </td>\n",
       "            <td style=\"padding: 0 0.5em 0 0.5em; text-align: left; border: none;\">\n",
       "                month\n",
       "            </td>\n",
       "        </tr>\n",
       "    \n",
       "        <tr style=\"background-color: hsl(120, 100.00%, 93.72%); border: none;\">\n",
       "            <td style=\"padding: 0 1em 0 0.5em; text-align: right; border: none;\">\n",
       "                0.0207\n",
       "                \n",
       "            </td>\n",
       "            <td style=\"padding: 0 0.5em 0 0.5em; text-align: left; border: none;\">\n",
       "                need\n",
       "            </td>\n",
       "        </tr>\n",
       "    \n",
       "    \n",
       "        \n",
       "            <tr style=\"background-color: hsl(120, 100.00%, 93.72%); border: none;\">\n",
       "                <td colspan=\"2\" style=\"padding: 0 0.5em 0 0.5em; text-align: center; border: none; white-space: nowrap;\">\n",
       "                    <i>&hellip; 12158 more &hellip;</i>\n",
       "                </td>\n",
       "            </tr>\n",
       "        \n",
       "    \n",
       "    </tbody>\n",
       "</table>\n",
       "    \n",
       "\n",
       "    \n",
       "\n",
       "\n",
       "    \n",
       "\n",
       "    \n",
       "\n",
       "    \n",
       "\n",
       "    \n",
       "\n",
       "    \n",
       "\n",
       "    \n",
       "\n",
       "\n",
       "\n"
      ],
      "text/plain": [
       "<IPython.core.display.HTML object>"
      ]
     },
     "execution_count": 126,
     "metadata": {},
     "output_type": "execute_result"
    }
   ],
   "source": [
    "tag_number = 12\n",
    "print('Tag :', y_train.columns[tag_number])\n",
    "eli5.show_weights(pip_cv.best_estimator_['model'].classifiers_[tag_number], vec = pip_cv.best_estimator_['vect'], top = 15)"
   ]
  },
  {
   "cell_type": "code",
   "execution_count": null,
   "metadata": {},
   "outputs": [],
   "source": []
  }
 ],
 "metadata": {
  "kernelspec": {
   "display_name": "Python 3",
   "language": "python",
   "name": "python3"
  },
  "language_info": {
   "codemirror_mode": {
    "name": "ipython",
    "version": 3
   },
   "file_extension": ".py",
   "mimetype": "text/x-python",
   "name": "python",
   "nbconvert_exporter": "python",
   "pygments_lexer": "ipython3",
   "version": "3.7.4"
  }
 },
 "nbformat": 4,
 "nbformat_minor": 4
}
